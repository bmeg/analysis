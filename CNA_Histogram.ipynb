{
 "cells": [
  {
   "cell_type": "code",
   "execution_count": 1,
   "metadata": {},
   "outputs": [],
   "source": [
    "import numpy as np\n",
    "import aql\n",
    "conn = aql.Connection(\"http://arachne.compbio.ohsu.edu\")\n",
    "O = conn.graph(\"bmeg\")"
   ]
  },
  {
   "cell_type": "code",
   "execution_count": 60,
   "metadata": {},
   "outputs": [],
   "source": [
    "q = O.query().V().where(aql.eq(\"_label\", \"Individual\"))\n",
    "q = q.where(aql.and_(aql.eq(\"source\", \"tcga\"), aql.eq(\"disease_code\", \"PRAD\")))\n",
    "q = q.in_(\"sampleOf\").in_(\"cnaCallSetOf\")\n",
    "q = q.limit(1)\n",
    "q = q.in_(\"segmentOf\")\n",
    "#q = q.render([\"value\"])\n",
    "data = []\n",
    "for row in q:\n",
    "    if 'value' in row['data']:\n",
    "        data.append(row['data']['value'])\n"
   ]
  },
  {
   "cell_type": "code",
   "execution_count": 8,
   "metadata": {},
   "outputs": [],
   "source": [
    "%matplotlib inline"
   ]
  },
  {
   "cell_type": "code",
   "execution_count": 9,
   "metadata": {},
   "outputs": [],
   "source": [
    "import matplotlib.pyplot as plt"
   ]
  },
  {
   "cell_type": "code",
   "execution_count": 62,
   "metadata": {},
   "outputs": [
    {
     "data": {
      "text/plain": [
       "(array([  0.,   7.,   3.,   2.,   6.,   7.,   4.,   5.,   4.,   6.,  11.,\n",
       "          7.,   5.,   3.,   7.,   7.,   6.,   7.,   7.,   3.,   3.,   7.,\n",
       "          2.,   1.,   2.,   0.,   0.,   1., 139.,  44.,  21.,   7.,   5.,\n",
       "          6.,   3.,   4.,   4.,   3.,   5.,   0.,   0.,   6.,   2.,   2.,\n",
       "          2.,   0.,   2.,   0.,   2.,   1.,   2.,   0.,   1.,   0.,   0.,\n",
       "          1.,   3.,   1.,   0.,   0.,   0.,   1.,   1.,   1.,   1.,   1.,\n",
       "          0.,   0.,   0.,   0.,   0.,   0.,   0.,   1.,   0.,   0.,   0.,\n",
       "          0.,   0.,   0.,   1.,   0.,   0.,   0.,   0.,   0.,   0.,   0.,\n",
       "          0.,   0.,   0.,   0.,   0.,   0.,   1.,   0.,   0.,   0.,   0.,\n",
       "          0.]),\n",
       " array([0.  , 0.07, 0.14, 0.21, 0.28, 0.35, 0.42, 0.49, 0.56, 0.63, 0.7 ,\n",
       "        0.77, 0.84, 0.91, 0.98, 1.05, 1.12, 1.19, 1.26, 1.33, 1.4 , 1.47,\n",
       "        1.54, 1.61, 1.68, 1.75, 1.82, 1.89, 1.96, 2.03, 2.1 , 2.17, 2.24,\n",
       "        2.31, 2.38, 2.45, 2.52, 2.59, 2.66, 2.73, 2.8 , 2.87, 2.94, 3.01,\n",
       "        3.08, 3.15, 3.22, 3.29, 3.36, 3.43, 3.5 , 3.57, 3.64, 3.71, 3.78,\n",
       "        3.85, 3.92, 3.99, 4.06, 4.13, 4.2 , 4.27, 4.34, 4.41, 4.48, 4.55,\n",
       "        4.62, 4.69, 4.76, 4.83, 4.9 , 4.97, 5.04, 5.11, 5.18, 5.25, 5.32,\n",
       "        5.39, 5.46, 5.53, 5.6 , 5.67, 5.74, 5.81, 5.88, 5.95, 6.02, 6.09,\n",
       "        6.16, 6.23, 6.3 , 6.37, 6.44, 6.51, 6.58, 6.65, 6.72, 6.79, 6.86,\n",
       "        6.93, 7.  ]),\n",
       " <a list of 100 Patch objects>)"
      ]
     },
     "execution_count": 62,
     "metadata": {},
     "output_type": "execute_result"
    },
    {
     "data": {
      "image/png": "[encoded data removed]",
      "text/plain": [
       "<Figure size 432x288 with 1 Axes>"
      ]
     },
     "metadata": {},
     "output_type": "display_data"
    }
   ],
   "source": [
    "plt.hist(np.exp2(data)*2, bins=100, range=[0,7])"
   ]
  },
  {
   "cell_type": "code",
   "execution_count": null,
   "metadata": {},
   "outputs": [],
   "source": []
  },
  {
   "cell_type": "code",
   "execution_count": 57,
   "metadata": {},
   "outputs": [
    {
     "name": "stdout",
     "output_type": "stream",
     "text": [
      "[{u'count': 500}]\n"
     ]
    }
   ],
   "source": [
    "q = O.query().V().where(aql.eq(\"_label\", \"Individual\"))\n",
    "q = q.where(aql.and_(aql.eq(\"source\", \"tcga\"), aql.eq(\"disease_code\", \"PRAD\")))\n",
    "q = q.count()\n",
    "print list(q)"
   ]
  },
  {
   "cell_type": "code",
   "execution_count": 61,
   "metadata": {},
   "outputs": [
    {
     "data": {
      "text/plain": [
       "401"
      ]
     },
     "execution_count": 61,
     "metadata": {},
     "output_type": "execute_result"
    }
   ],
   "source": [
    "len(data)"
   ]
  },
  {
   "cell_type": "code",
   "execution_count": null,
   "metadata": {},
   "outputs": [],
   "source": []
  }
 ],
 "metadata": {
  "kernelspec": {
   "display_name": "Python 2",
   "language": "python",
   "name": "python2"
  },
  "language_info": {
   "codemirror_mode": {
    "name": "ipython",
    "version": 2
   },
   "file_extension": ".py",
   "mimetype": "text/x-python",
   "name": "python",
   "nbconvert_exporter": "python",
   "pygments_lexer": "ipython2",
   "version": "2.7.10"
  }
 },
 "nbformat": 4,
 "nbformat_minor": 2
}
