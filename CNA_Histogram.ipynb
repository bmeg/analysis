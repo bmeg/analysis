{
 "cells": [
  {
   "cell_type": "raw",
   "metadata": {},
   "source": [
    "---\n",
    "title: CNA Histogram\n",
    "authors:\n",
    "- kellrott\n",
    "tags:\n",
    "- ccle\n",
    "- drug response\n",
    "created_at: 2018-05-09\n",
    "updated_at: 2018-05-09\n",
    "tldr: Build a histogram from the copy number alteration values for genes in a TCGA cohort\n",
    "---"
   ]
  },
  {
   "cell_type": "code",
   "execution_count": 1,
   "metadata": {},
   "outputs": [],
   "source": [
    "import matplotlib.pyplot as plt\n",
    "import numpy as np\n",
    "import gripql\n",
    "conn = gripql.Connection(\"https://bmeg.io/api\", credential_file=\"bmeg_credentials.json\")\n",
    "O = conn.graph(\"bmeg_rc2\")"
   ]
  },
  {
   "cell_type": "markdown",
   "metadata": {},
   "source": [
    "Get Ensembl Gene ids for genes of interest"
   ]
  },
  {
   "cell_type": "code",
   "execution_count": 2,
   "metadata": {},
   "outputs": [
    {
     "name": "stderr",
     "output_type": "stream",
     "text": [
      "[INFO]\t2019-07-26 18:24:02,481\t1 results received in 0 seconds\n",
      "[INFO]\t2019-07-26 18:24:02,616\t1 results received in 0 seconds\n",
      "[INFO]\t2019-07-26 18:24:02,741\t1 results received in 0 seconds\n"
     ]
    }
   ],
   "source": [
    "GENES = [\"PTEN\", \"TP53\", \"RB1\"]\n",
    "gene_ids = {}\n",
    "for g in GENES:\n",
    "    for i in O.query().V().hasLabel(\"Gene\").has(gripql.eq(\"symbol\", g)):\n",
    "        gene_ids[g] = i.gid"
   ]
  },
  {
   "cell_type": "code",
   "execution_count": 3,
   "metadata": {},
   "outputs": [
    {
     "data": {
      "text/plain": [
       "{'PTEN': 'ENSG00000171862',\n",
       " 'TP53': 'ENSG00000141510',\n",
       " 'RB1': 'ENSG00000139687'}"
      ]
     },
     "execution_count": 3,
     "metadata": {},
     "output_type": "execute_result"
    }
   ],
   "source": [
    "gene_ids"
   ]
  },
  {
   "cell_type": "markdown",
   "metadata": {},
   "source": [
    "For each gene of interest, obtain the copy number alteration values and aggregate them by gene."
   ]
  },
  {
   "cell_type": "code",
   "execution_count": 4,
   "metadata": {},
   "outputs": [
    {
     "name": "stderr",
     "output_type": "stream",
     "text": [
      "[INFO]\t2019-07-26 18:24:06,428\t1 results received in 3 seconds\n"
     ]
    },
    {
     "name": "stdout",
     "output_type": "stream",
     "text": [
      "ENSG00000139687\t0:269\n",
      "ENSG00000139687\t-1:139\n",
      "ENSG00000139687\t-2:81\n",
      "ENSG00000139687\t1:3\n",
      "ENSG00000141510\t0:329\n",
      "ENSG00000141510\t-1:126\n",
      "ENSG00000141510\t-2:37\n",
      "ENSG00000171862\t0:327\n",
      "ENSG00000171862\t-2:95\n",
      "ENSG00000171862\t-1:64\n",
      "ENSG00000171862\t1:5\n",
      "ENSG00000171862\t2:1\n"
     ]
    }
   ],
   "source": [
    "q = O.query().V(\"Project:TCGA-PRAD\").out(\"cases\").out(\"samples\").out(\"aliquots\")\n",
    "q = q.has(gripql.eq(\"$.gdc_attributes.sample_type\", 'Primary Tumor')).out(\"copy_number_alterations\")\n",
    "q = q.aggregate(\n",
    "    list( gripql.term( g, \"values.%s\" % (g), 5) for g in gene_ids.values() )\n",
    ")\n",
    "\n",
    "res = list(q)\n",
    "for r in res[0]:\n",
    "    for b in res[0][r]['buckets']:\n",
    "        print(\"%s\\t%s:%s\" % (r, b['key'], b['value']))"
   ]
  },
  {
   "cell_type": "markdown",
   "metadata": {},
   "source": [
    "Create a barchart showing the counts of copy number altered samples in the cohort."
   ]
  },
  {
   "cell_type": "code",
   "execution_count": 5,
   "metadata": {},
   "outputs": [
    {
     "data": {
      "text/plain": [
       "<BarContainer object of 4 artists>"
      ]
     },
     "execution_count": 5,
     "metadata": {},
     "output_type": "execute_result"
    },
    {
     "data": {
      "image/png": "[encoded data removed]",
      "text/plain": [
       "<Figure size 432x288 with 1 Axes>"
      ]
     },
     "metadata": {
      "needs_background": "light"
     },
     "output_type": "display_data"
    }
   ],
   "source": [
    "val = []\n",
    "count = []\n",
    "for i in sorted(res[0]['ENSG00000139687']['buckets'], key=lambda x:int(x[\"key\"])):\n",
    "    val.append(int(i[\"key\"]))\n",
    "    count.append(i[\"value\"])\n",
    "plt.bar(val, count, width=0.35)"
   ]
  },
  {
   "cell_type": "code",
   "execution_count": null,
   "metadata": {},
   "outputs": [],
   "source": []
  }
 ],
 "metadata": {
  "kernelspec": {
   "display_name": "Python 3",
   "language": "python",
   "name": "python3"
  },
  "language_info": {
   "codemirror_mode": {
    "name": "ipython",
    "version": 3
   },
   "file_extension": ".py",
   "mimetype": "text/x-python",
   "name": "python",
   "nbconvert_exporter": "python",
   "pygments_lexer": "ipython3",
   "version": "3.7.3"
  }
 },
 "nbformat": 4,
 "nbformat_minor": 2
}
