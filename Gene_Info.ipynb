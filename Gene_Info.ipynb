{
 "cells": [
  {
   "cell_type": "raw",
   "metadata": {},
   "source": [
    "---\n",
    "title: Gene Info\n",
    "weight: 30\n",
    "authors:\n",
    "- kellrott\n",
    "- adamstruck\n",
    "tags:\n",
    "- ccle\n",
    "- drug response\n",
    "created_at: 2018-05-09\n",
    "updated_at: 2020-01-14\n",
    "tldr: Look up gene ontology information and references\n",
    "---"
   ]
  },
  {
   "cell_type": "code",
   "execution_count": 2,
   "metadata": {},
   "outputs": [],
   "source": [
    "import gripql\n",
    "conn = gripql.Connection(\"https://bmeg.io/api\", credential_file=\"bmeg_credentials.json\")\n",
    "G = conn.graph(\"rc5\")"
   ]
  },
  {
   "cell_type": "markdown",
   "metadata": {},
   "source": [
    "Look up a gene by its hugo symbol"
   ]
  },
  {
   "cell_type": "code",
   "execution_count": 3,
   "metadata": {},
   "outputs": [
    {
     "name": "stderr",
     "output_type": "stream",
     "text": [
      "[INFO]\t2020-01-14 14:11:07,060\t1 results received in 0 seconds\n"
     ]
    }
   ],
   "source": [
    "gids = G.query().V().hasLabel(\"Gene\").has(gripql.eq(\"$.symbol\", \"BRCA1\")).render(\"_gid\").execute()"
   ]
  },
  {
   "cell_type": "markdown",
   "metadata": {},
   "source": [
    "Find some of the Gene Ontology terms the gene is linked to"
   ]
  },
  {
   "cell_type": "code",
   "execution_count": 4,
   "metadata": {},
   "outputs": [
    {
     "name": "stderr",
     "output_type": "stream",
     "text": [
      "[INFO]\t2020-01-14 14:11:09,590\t10 results received in 0 seconds\n"
     ]
    },
    {
     "name": "stdout",
     "output_type": "stream",
     "text": [
      "GeneOntologyTerm:GO:0000724 The error-free repair of a double-strand break in DNA in which the broken DNA molecule is repaired using homologous sequences. A strand in the broken DNA searches for a homologous region in an intact chromosome to serve as the template for DNA synthesis. The restoration of two intact DNA molecules results in the exchange, reciprocal or nonreciprocal, of genetic material between the intact DNA molecule and the broken DNA molecule.\n",
      "GeneOntologyTerm:GO:0000800 A proteinaceous core found between sister chromatids during meiotic prophase.\n",
      "GeneOntologyTerm:GO:0003713 A protein or a member of a complex that interacts specifically and non-covalently with a DNA-bound DNA-binding transcription factor to activate the transcription of specific genes. Coactivators often act by altering chromatin structure and modifications. For example, one class of transcription coregulators modifies chromatin structure through covalent modification of histones. A second ATP-dependent class modifies the conformation of chromatin. Another type of coregulator activity is the bridging of a DNA-binding transcription factor to the basal transcription machinery. The Mediator complex, which bridges transcription factors and RNA polymerase, is also a transcription coactivator.\n",
      "GeneOntologyTerm:GO:0003723 Interacting selectively and non-covalently with an RNA molecule or a portion thereof.\n",
      "GeneOntologyTerm:GO:0004842 Catalysis of the transfer of ubiquitin from one protein to another via the reaction X-Ub + Y --> Y-Ub + X, where both X-Ub and Y-Ub are covalent linkages.\n",
      "GeneOntologyTerm:GO:0005515 Interacting selectively and non-covalently with any protein or protein complex (a complex of two or more proteins that may include other nonprotein molecules).\n",
      "GeneOntologyTerm:GO:0005634 A membrane-bounded organelle of eukaryotic cells in which chromosomes are housed and replicated. In most cells, the nucleus contains all of the cell's chromosomes except the organellar chromosomes, and is the site of RNA synthesis and processing. In some species, or in specialized cell types, RNA metabolism or DNA replication may be absent.\n",
      "GeneOntologyTerm:GO:0005654 That part of the nuclear content other than the chromosomes or the nucleolus.\n",
      "GeneOntologyTerm:GO:0005737 All of the contents of a cell excluding the plasma membrane and nucleus, but including other subcellular structures.\n",
      "GeneOntologyTerm:GO:0006302 The repair of double-strand breaks in DNA via homologous and nonhomologous mechanisms to reform a continuous DNA helix.\n"
     ]
    }
   ],
   "source": [
    "for ent in G.query().V(gids).out(\"gene_ontology_terms\").limit(10):\n",
    "    print(ent.gid, ent.data.definition)"
   ]
  },
  {
   "cell_type": "code",
   "execution_count": null,
   "metadata": {},
   "outputs": [],
   "source": []
  }
 ],
 "metadata": {
  "kernelspec": {
   "display_name": "Python 3",
   "language": "python",
   "name": "python3"
  },
  "language_info": {
   "codemirror_mode": {
    "name": "ipython",
    "version": 3
   },
   "file_extension": ".py",
   "mimetype": "text/x-python",
   "name": "python",
   "nbconvert_exporter": "python",
   "pygments_lexer": "ipython3",
   "version": "3.7.6"
  }
 },
 "nbformat": 4,
 "nbformat_minor": 2
}
