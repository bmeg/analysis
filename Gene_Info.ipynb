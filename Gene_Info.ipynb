{
 "cells": [
  {
   "cell_type": "code",
   "execution_count": 1,
   "metadata": {},
   "outputs": [],
   "source": [
    "import aql\n",
    "conn = aql.Connection(\"http://bmeg.io\")\n",
    "O = conn.graph(\"bmeg\")"
   ]
  },
  {
   "cell_type": "code",
   "execution_count": 11,
   "metadata": {},
   "outputs": [
    {
     "name": "stdout",
     "output_type": "stream",
     "text": [
      "[]\n"
     ]
    }
   ],
   "source": [
    "print list(O.query().V().where(aql.eq(\"_label\", \"Gene\")).where(aql.eq(\"$.synonyms\", \"COSM12604\")))"
   ]
  },
  {
   "cell_type": "code",
   "execution_count": null,
   "metadata": {},
   "outputs": [],
   "source": []
  },
  {
   "cell_type": "code",
   "execution_count": 9,
   "metadata": {},
   "outputs": [
    {
     "data": {
      "text/plain": [
       "[{u'agg': {u'buckets': [{u'key': u'GO:0000122', u'value': 1},\n",
       "    {u'key': u'GO:0000733', u'value': 1},\n",
       "    {u'key': u'GO:0000790', u'value': 1},\n",
       "    {u'key': u'GO:0000977', u'value': 1},\n",
       "    {u'key': u'GO:0000981', u'value': 1},\n",
       "    {u'key': u'GO:0000990', u'value': 1},\n",
       "    {u'key': u'GO:0001046', u'value': 1},\n",
       "    {u'key': u'GO:0001085', u'value': 1},\n",
       "    {u'key': u'GO:0001228', u'value': 1},\n",
       "    {u'key': u'GO:0002020', u'value': 1},\n",
       "    {u'key': u'GO:0002039', u'value': 1},\n",
       "    {u'key': u'GO:0003677', u'value': 1},\n",
       "    {u'key': u'GO:0003682', u'value': 1},\n",
       "    {u'key': u'GO:0003684', u'value': 1},\n",
       "    {u'key': u'GO:0003700', u'value': 1},\n",
       "    {u'key': u'GO:0003730', u'value': 1},\n",
       "    {u'key': u'GO:0005507', u'value': 1},\n",
       "    {u'key': u'GO:0005515', u'value': 1},\n",
       "    {u'key': u'GO:0005524', u'value': 1},\n",
       "    {u'key': u'GO:0005622', u'value': 1},\n",
       "    {u'key': u'GO:0005634', u'value': 1},\n",
       "    {u'key': u'GO:0005654', u'value': 1},\n",
       "    {u'key': u'GO:0005657', u'value': 1},\n",
       "    {u'key': u'GO:0005669', u'value': 1},\n",
       "    {u'key': u'GO:0005730', u'value': 1},\n",
       "    {u'key': u'GO:0005737', u'value': 1},\n",
       "    {u'key': u'GO:0005739', u'value': 1},\n",
       "    {u'key': u'GO:0005759', u'value': 1},\n",
       "    {u'key': u'GO:0005783', u'value': 1},\n",
       "    {u'key': u'GO:0005829', u'value': 1},\n",
       "    {u'key': u'GO:0006284', u'value': 1},\n",
       "    {u'key': u'GO:0006289', u'value': 1},\n",
       "    {u'key': u'GO:0006355', u'value': 1},\n",
       "    {u'key': u'GO:0006366', u'value': 1},\n",
       "    {u'key': u'GO:0006461', u'value': 1},\n",
       "    {u'key': u'GO:0006914', u'value': 1},\n",
       "    {u'key': u'GO:0006974', u'value': 1},\n",
       "    {u'key': u'GO:0006977', u'value': 1},\n",
       "    {u'key': u'GO:0006978', u'value': 1},\n",
       "    {u'key': u'GO:0006983', u'value': 1},\n",
       "    {u'key': u'GO:0007050', u'value': 1},\n",
       "    {u'key': u'GO:0007265', u'value': 1},\n",
       "    {u'key': u'GO:0007275', u'value': 1},\n",
       "    {u'key': u'GO:0007569', u'value': 1},\n",
       "    {u'key': u'GO:0008104', u'value': 1},\n",
       "    {u'key': u'GO:0008134', u'value': 1},\n",
       "    {u'key': u'GO:0008270', u'value': 1},\n",
       "    {u'key': u'GO:0008283', u'value': 1},\n",
       "    {u'key': u'GO:0008285', u'value': 1},\n",
       "    {u'key': u'GO:0008340', u'value': 1},\n",
       "    {u'key': u'GO:0009299', u'value': 1},\n",
       "    {u'key': u'GO:0010165', u'value': 1},\n",
       "    {u'key': u'GO:0010332', u'value': 1},\n",
       "    {u'key': u'GO:0010628', u'value': 1},\n",
       "    {u'key': u'GO:0016032', u'value': 1},\n",
       "    {u'key': u'GO:0016363', u'value': 1},\n",
       "    {u'key': u'GO:0016579', u'value': 1},\n",
       "    {u'key': u'GO:0016604', u'value': 1},\n",
       "    {u'key': u'GO:0016605', u'value': 1},\n",
       "    {u'key': u'GO:0019899', u'value': 1},\n",
       "    {u'key': u'GO:0019901', u'value': 1},\n",
       "    {u'key': u'GO:0019903', u'value': 1},\n",
       "    {u'key': u'GO:0030154', u'value': 1},\n",
       "    {u'key': u'GO:0030308', u'value': 1},\n",
       "    {u'key': u'GO:0030330', u'value': 1},\n",
       "    {u'key': u'GO:0030971', u'value': 1},\n",
       "    {u'key': u'GO:0031065', u'value': 1},\n",
       "    {u'key': u'GO:0031497', u'value': 1},\n",
       "    {u'key': u'GO:0031571', u'value': 1},\n",
       "    {u'key': u'GO:0031625', u'value': 1},\n",
       "    {u'key': u'GO:0032461', u'value': 1},\n",
       "    {u'key': u'GO:0034644', u'value': 1},\n",
       "    {u'key': u'GO:0035035', u'value': 1},\n",
       "    {u'key': u'GO:0035690', u'value': 1},\n",
       "    {u'key': u'GO:0038111', u'value': 1},\n",
       "    {u'key': u'GO:0042149', u'value': 1},\n",
       "    {u'key': u'GO:0042771', u'value': 1},\n",
       "    {u'key': u'GO:0042802', u'value': 1},\n",
       "    {u'key': u'GO:0042826', u'value': 1},\n",
       "    {u'key': u'GO:0042981', u'value': 1},\n",
       "    {u'key': u'GO:0043065', u'value': 1},\n",
       "    {u'key': u'GO:0043066', u'value': 1},\n",
       "    {u'key': u'GO:0043153', u'value': 1},\n",
       "    {u'key': u'GO:0043161', u'value': 1},\n",
       "    {u'key': u'GO:0043234', u'value': 1},\n",
       "    {u'key': u'GO:0043525', u'value': 1},\n",
       "    {u'key': u'GO:0043621', u'value': 1},\n",
       "    {u'key': u'GO:0044212', u'value': 1},\n",
       "    {u'key': u'GO:0045892', u'value': 1},\n",
       "    {u'key': u'GO:0045893', u'value': 1},\n",
       "    {u'key': u'GO:0045944', u'value': 1},\n",
       "    {u'key': u'GO:0046677', u'value': 1},\n",
       "    {u'key': u'GO:0046827', u'value': 1},\n",
       "    {u'key': u'GO:0046902', u'value': 1},\n",
       "    {u'key': u'GO:0046982', u'value': 1},\n",
       "    {u'key': u'GO:0047485', u'value': 1},\n",
       "    {u'key': u'GO:0048015', u'value': 1},\n",
       "    {u'key': u'GO:0048147', u'value': 1},\n",
       "    {u'key': u'GO:0048512', u'value': 1},\n",
       "    {u'key': u'GO:0050731', u'value': 1},\n",
       "    {u'key': u'GO:0051087', u'value': 1},\n",
       "    {u'key': u'GO:0051097', u'value': 1},\n",
       "    {u'key': u'GO:0051262', u'value': 1},\n",
       "    {u'key': u'GO:0051289', u'value': 1},\n",
       "    {u'key': u'GO:0051721', u'value': 1},\n",
       "    {u'key': u'GO:0051974', u'value': 1},\n",
       "    {u'key': u'GO:0070245', u'value': 1},\n",
       "    {u'key': u'GO:0071158', u'value': 1},\n",
       "    {u'key': u'GO:0071456', u'value': 1},\n",
       "    {u'key': u'GO:0071479', u'value': 1},\n",
       "    {u'key': u'GO:0071480', u'value': 1},\n",
       "    {u'key': u'GO:0072331', u'value': 1},\n",
       "    {u'key': u'GO:0072332', u'value': 1},\n",
       "    {u'key': u'GO:0072717', u'value': 1},\n",
       "    {u'key': u'GO:0090200', u'value': 1},\n",
       "    {u'key': u'GO:0090399', u'value': 1},\n",
       "    {u'key': u'GO:0090403', u'value': 1},\n",
       "    {u'key': u'GO:0097193', u'value': 1},\n",
       "    {u'key': u'GO:0097252', u'value': 1},\n",
       "    {u'key': u'GO:0097718', u'value': 1},\n",
       "    {u'key': u'GO:1900119', u'value': 1},\n",
       "    {u'key': u'GO:1900740', u'value': 1},\n",
       "    {u'key': u'GO:1901796', u'value': 1},\n",
       "    {u'key': u'GO:1902749', u'value': 1},\n",
       "    {u'key': u'GO:1902895', u'value': 1},\n",
       "    {u'key': u'GO:1990440', u'value': 1},\n",
       "    {u'key': u'GO:2000379', u'value': 1},\n",
       "    {u'key': u'GO:2001244', u'value': 1}]}}]"
      ]
     },
     "execution_count": 9,
     "metadata": {},
     "output_type": "execute_result"
    }
   ],
   "source": [
    "list(O.query().V(\"gene:ENSG00000141510\").in_(\"annotationFor\").aggregate(aql.term(\"agg\", \"GeneOntologyTerm\", \"id\")))"
   ]
  },
  {
   "cell_type": "code",
   "execution_count": 10,
   "metadata": {},
   "outputs": [
    {
     "name": "stdout",
     "output_type": "stream",
     "text": [
      "{u'gid': u'gene:ENSG00000186092', u'data': {u'end': 71585, u'description': u'olfactory receptor family 4 subfamily F member 5 [Source:HGNC Symbol%3BAcc:HGNC:14825]', u'symbol': u'OR4F5', u'start': 65419, u'seqId': u'1', u'strand': u'+', u'id': u'ENSG00000186092', u'chromosome': u'1'}, u'label': u'Gene'}\n",
      "{u'gid': u'gene:ENSG00000284733', u'data': {u'end': 451697, u'description': u'olfactory receptor family 4 subfamily F member 29 [Source:HGNC Symbol%3BAcc:HGNC:31275]', u'symbol': u'OR4F29', u'start': 450703, u'seqId': u'1', u'strand': u'-', u'id': u'ENSG00000284733', u'chromosome': u'1'}, u'label': u'Gene'}\n",
      "{u'gid': u'gene:ENSG00000284662', u'data': {u'end': 686673, u'description': u'olfactory receptor family 4 subfamily F member 16 [Source:HGNC Symbol%3BAcc:HGNC:15079]', u'symbol': u'OR4F16', u'start': 685679, u'seqId': u'1', u'strand': u'-', u'id': u'ENSG00000284662', u'chromosome': u'1'}, u'label': u'Gene'}\n",
      "{u'gid': u'gene:ENSG00000187634', u'data': {u'end': 944581, u'description': u'sterile alpha motif domain containing 11 [Source:HGNC Symbol%3BAcc:HGNC:28706]', u'symbol': u'SAMD11', u'start': 923928, u'seqId': u'1', u'strand': u'+', u'id': u'ENSG00000187634', u'chromosome': u'1'}, u'label': u'Gene'}\n",
      "{u'gid': u'gene:ENSG00000188976', u'data': {u'end': 959309, u'description': u'NOC2 like nucleolar associated transcriptional repressor [Source:HGNC Symbol%3BAcc:HGNC:24517]', u'symbol': u'NOC2L', u'start': 944204, u'seqId': u'1', u'strand': u'-', u'id': u'ENSG00000188976', u'chromosome': u'1'}, u'label': u'Gene'}\n",
      "{u'gid': u'gene:ENSG00000187961', u'data': {u'end': 965715, u'description': u'kelch like family member 17 [Source:HGNC Symbol%3BAcc:HGNC:24023]', u'symbol': u'KLHL17', u'start': 960587, u'seqId': u'1', u'strand': u'+', u'id': u'ENSG00000187961', u'chromosome': u'1'}, u'label': u'Gene'}\n",
      "{u'gid': u'gene:ENSG00000187583', u'data': {u'end': 975865, u'description': u'pleckstrin homology domain containing N1 [Source:HGNC Symbol%3BAcc:HGNC:25284]', u'symbol': u'PLEKHN1', u'start': 966497, u'seqId': u'1', u'strand': u'+', u'id': u'ENSG00000187583', u'chromosome': u'1'}, u'label': u'Gene'}\n",
      "{u'gid': u'gene:ENSG00000187642', u'data': {u'end': 982093, u'description': u'PPARGC1 and ESRR induced regulator%2C muscle 1 [Source:HGNC Symbol%3BAcc:HGNC:28208]', u'symbol': u'PERM1', u'start': 975204, u'seqId': u'1', u'strand': u'-', u'id': u'ENSG00000187642', u'chromosome': u'1'}, u'label': u'Gene'}\n",
      "{u'gid': u'gene:ENSG00000188290', u'data': {u'end': 1000172, u'description': u'hes family bHLH transcription factor 4 [Source:HGNC Symbol%3BAcc:HGNC:24149]', u'symbol': u'HES4', u'start': 998962, u'seqId': u'1', u'strand': u'-', u'id': u'ENSG00000188290', u'chromosome': u'1'}, u'label': u'Gene'}\n",
      "{u'gid': u'gene:ENSG00000187608', u'data': {u'end': 1014541, u'description': u'ISG15 ubiquitin-like modifier [Source:HGNC Symbol%3BAcc:HGNC:4053]', u'symbol': u'ISG15', u'start': 1001138, u'seqId': u'1', u'strand': u'+', u'id': u'ENSG00000187608', u'chromosome': u'1'}, u'label': u'Gene'}\n"
     ]
    }
   ],
   "source": [
    "for row in O.query().V().where(aql.eq(\"_label\", \"Gene\")).limit(10):\n",
    "    print row"
   ]
  },
  {
   "cell_type": "code",
   "execution_count": null,
   "metadata": {},
   "outputs": [],
   "source": []
  }
 ],
 "metadata": {
  "kernelspec": {
   "display_name": "Python 3",
   "language": "python",
   "name": "python3"
  },
  "language_info": {
   "codemirror_mode": {
    "name": "ipython",
    "version": 3
   },
   "file_extension": ".py",
   "mimetype": "text/x-python",
   "name": "python",
   "nbconvert_exporter": "python",
   "pygments_lexer": "ipython3",
   "version": "3.7.0"
  }
 },
 "nbformat": 4,
 "nbformat_minor": 2
}
