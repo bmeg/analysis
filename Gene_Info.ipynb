{
 "cells": [
  {
   "cell_type": "code",
   "execution_count": 20,
   "metadata": {},
   "outputs": [],
   "source": [
    "import aql\n",
    "conn = aql.Connection(\"http://arachne.compbio.ohsu.edu\")\n",
    "O = conn.graph(\"bmeg\")"
   ]
  },
  {
   "cell_type": "code",
   "execution_count": 23,
   "metadata": {},
   "outputs": [
    {
     "name": "stdout",
     "output_type": "stream",
     "text": [
      "[]\n"
     ]
    }
   ],
   "source": [
    "print list(O.query().V().where(aql.eq(\"$.label\", \"Gene\")).where(aql.contains(\"$.synonyms\", \"COSM12604\")))"
   ]
  },
  {
   "cell_type": "code",
   "execution_count": 26,
   "metadata": {},
   "outputs": [
    {
     "name": "stdout",
     "output_type": "stream",
     "text": [
      "[{u'vertex': {u'gid': u'gene:ENSG00000141510', u'data': {u'end': 7687550, u'description': u'tumor protein p53 [Source:HGNC Symbol%3BAcc:HGNC:11998]', u'symbol': u'TP53', u'start': 7661779, u'seqId': u'17', u'strand': u'-', u'id': u'ENSG00000141510', u'chromosome': u'17'}, u'label': u'Gene'}}]\n"
     ]
    }
   ],
   "source": [
    "print list(O.query().V().where(aql.eq(\"$.label\", \"Gene\")).where(aql.eq(\"symbol\", \"TP53\")))"
   ]
  },
  {
   "cell_type": "code",
   "execution_count": 32,
   "metadata": {},
   "outputs": [
    {
     "data": {
      "text/plain": [
       "[{u'data': {u'buckets': [{u'key': u'GO:0000122', u'value': 1},\n",
       "    {u'key': u'GO:0000733', u'value': 1},\n",
       "    {u'key': u'GO:0000790', u'value': 1},\n",
       "    {u'key': u'GO:0000977', u'value': 1},\n",
       "    {u'key': u'GO:0000981', u'value': 1},\n",
       "    {u'key': u'GO:0000990', u'value': 1},\n",
       "    {u'key': u'GO:0001046', u'value': 1},\n",
       "    {u'key': u'GO:0001085', u'value': 1},\n",
       "    {u'key': u'GO:0001228', u'value': 1},\n",
       "    {u'key': u'GO:0002020', u'value': 1},\n",
       "    {u'key': u'GO:0002039', u'value': 1},\n",
       "    {u'key': u'GO:0003677', u'value': 1},\n",
       "    {u'key': u'GO:0003682', u'value': 1},\n",
       "    {u'key': u'GO:0003684', u'value': 1},\n",
       "    {u'key': u'GO:0003700', u'value': 1},\n",
       "    {u'key': u'GO:0003730', u'value': 1},\n",
       "    {u'key': u'GO:0005507', u'value': 1},\n",
       "    {u'key': u'GO:0005515', u'value': 1},\n",
       "    {u'key': u'GO:0005524', u'value': 1},\n",
       "    {u'key': u'GO:0005622', u'value': 1},\n",
       "    {u'key': u'GO:0005634', u'value': 1},\n",
       "    {u'key': u'GO:0005654', u'value': 1},\n",
       "    {u'key': u'GO:0005657', u'value': 1},\n",
       "    {u'key': u'GO:0005669', u'value': 1},\n",
       "    {u'key': u'GO:0005730', u'value': 1},\n",
       "    {u'key': u'GO:0005737', u'value': 1},\n",
       "    {u'key': u'GO:0005739', u'value': 1},\n",
       "    {u'key': u'GO:0005759', u'value': 1},\n",
       "    {u'key': u'GO:0005783', u'value': 1},\n",
       "    {u'key': u'GO:0005829', u'value': 1},\n",
       "    {u'key': u'GO:0006284', u'value': 1},\n",
       "    {u'key': u'GO:0006289', u'value': 1},\n",
       "    {u'key': u'GO:0006355', u'value': 1},\n",
       "    {u'key': u'GO:0006366', u'value': 1},\n",
       "    {u'key': u'GO:0006461', u'value': 1},\n",
       "    {u'key': u'GO:0006914', u'value': 1},\n",
       "    {u'key': u'GO:0006974', u'value': 1},\n",
       "    {u'key': u'GO:0006977', u'value': 1},\n",
       "    {u'key': u'GO:0006978', u'value': 1},\n",
       "    {u'key': u'GO:0006983', u'value': 1},\n",
       "    {u'key': u'GO:0007050', u'value': 1},\n",
       "    {u'key': u'GO:0007265', u'value': 1},\n",
       "    {u'key': u'GO:0007275', u'value': 1},\n",
       "    {u'key': u'GO:0007569', u'value': 1},\n",
       "    {u'key': u'GO:0008104', u'value': 1},\n",
       "    {u'key': u'GO:0008134', u'value': 1},\n",
       "    {u'key': u'GO:0008270', u'value': 1},\n",
       "    {u'key': u'GO:0008283', u'value': 1},\n",
       "    {u'key': u'GO:0008285', u'value': 1},\n",
       "    {u'key': u'GO:0008340', u'value': 1},\n",
       "    {u'key': u'GO:0009299', u'value': 1},\n",
       "    {u'key': u'GO:0010165', u'value': 1},\n",
       "    {u'key': u'GO:0010332', u'value': 1},\n",
       "    {u'key': u'GO:0010628', u'value': 1},\n",
       "    {u'key': u'GO:0016032', u'value': 1},\n",
       "    {u'key': u'GO:0016363', u'value': 1},\n",
       "    {u'key': u'GO:0016579', u'value': 1},\n",
       "    {u'key': u'GO:0016604', u'value': 1},\n",
       "    {u'key': u'GO:0016605', u'value': 1},\n",
       "    {u'key': u'GO:0019899', u'value': 1},\n",
       "    {u'key': u'GO:0019901', u'value': 1},\n",
       "    {u'key': u'GO:0019903', u'value': 1},\n",
       "    {u'key': u'GO:0030154', u'value': 1},\n",
       "    {u'key': u'GO:0030308', u'value': 1},\n",
       "    {u'key': u'GO:0030330', u'value': 1},\n",
       "    {u'key': u'GO:0030971', u'value': 1},\n",
       "    {u'key': u'GO:0031065', u'value': 1},\n",
       "    {u'key': u'GO:0031497', u'value': 1},\n",
       "    {u'key': u'GO:0031571', u'value': 1},\n",
       "    {u'key': u'GO:0031625', u'value': 1},\n",
       "    {u'key': u'GO:0032461', u'value': 1},\n",
       "    {u'key': u'GO:0034644', u'value': 1},\n",
       "    {u'key': u'GO:0035035', u'value': 1},\n",
       "    {u'key': u'GO:0035690', u'value': 1},\n",
       "    {u'key': u'GO:0038111', u'value': 1},\n",
       "    {u'key': u'GO:0042149', u'value': 1},\n",
       "    {u'key': u'GO:0042771', u'value': 1},\n",
       "    {u'key': u'GO:0042802', u'value': 1},\n",
       "    {u'key': u'GO:0042826', u'value': 1},\n",
       "    {u'key': u'GO:0042981', u'value': 1},\n",
       "    {u'key': u'GO:0043065', u'value': 1},\n",
       "    {u'key': u'GO:0043066', u'value': 1},\n",
       "    {u'key': u'GO:0043153', u'value': 1},\n",
       "    {u'key': u'GO:0043161', u'value': 1},\n",
       "    {u'key': u'GO:0043234', u'value': 1},\n",
       "    {u'key': u'GO:0043525', u'value': 1},\n",
       "    {u'key': u'GO:0043621', u'value': 1},\n",
       "    {u'key': u'GO:0044212', u'value': 1},\n",
       "    {u'key': u'GO:0045892', u'value': 1},\n",
       "    {u'key': u'GO:0045893', u'value': 1},\n",
       "    {u'key': u'GO:0045944', u'value': 1},\n",
       "    {u'key': u'GO:0046677', u'value': 1},\n",
       "    {u'key': u'GO:0046827', u'value': 1},\n",
       "    {u'key': u'GO:0046902', u'value': 1},\n",
       "    {u'key': u'GO:0046982', u'value': 1},\n",
       "    {u'key': u'GO:0047485', u'value': 1},\n",
       "    {u'key': u'GO:0048015', u'value': 1},\n",
       "    {u'key': u'GO:0048147', u'value': 1},\n",
       "    {u'key': u'GO:0048512', u'value': 1},\n",
       "    {u'key': u'GO:0050731', u'value': 1},\n",
       "    {u'key': u'GO:0051087', u'value': 1},\n",
       "    {u'key': u'GO:0051097', u'value': 1},\n",
       "    {u'key': u'GO:0051262', u'value': 1},\n",
       "    {u'key': u'GO:0051289', u'value': 1},\n",
       "    {u'key': u'GO:0051721', u'value': 1},\n",
       "    {u'key': u'GO:0051974', u'value': 1},\n",
       "    {u'key': u'GO:0070245', u'value': 1},\n",
       "    {u'key': u'GO:0071158', u'value': 1},\n",
       "    {u'key': u'GO:0071456', u'value': 1},\n",
       "    {u'key': u'GO:0071479', u'value': 1},\n",
       "    {u'key': u'GO:0071480', u'value': 1},\n",
       "    {u'key': u'GO:0072331', u'value': 1},\n",
       "    {u'key': u'GO:0072332', u'value': 1},\n",
       "    {u'key': u'GO:0072717', u'value': 1},\n",
       "    {u'key': u'GO:0090200', u'value': 1},\n",
       "    {u'key': u'GO:0090399', u'value': 1},\n",
       "    {u'key': u'GO:0090403', u'value': 1},\n",
       "    {u'key': u'GO:0097193', u'value': 1},\n",
       "    {u'key': u'GO:0097252', u'value': 1},\n",
       "    {u'key': u'GO:0097718', u'value': 1},\n",
       "    {u'key': u'GO:1900119', u'value': 1},\n",
       "    {u'key': u'GO:1900740', u'value': 1},\n",
       "    {u'key': u'GO:1901796', u'value': 1},\n",
       "    {u'key': u'GO:1902749', u'value': 1},\n",
       "    {u'key': u'GO:1902895', u'value': 1},\n",
       "    {u'key': u'GO:1990440', u'value': 1},\n",
       "    {u'key': u'GO:2000379', u'value': 1},\n",
       "    {u'key': u'GO:2001244', u'value': 1}],\n",
       "   u'name': u'agg'}}]"
      ]
     },
     "execution_count": 32,
     "metadata": {},
     "output_type": "execute_result"
    }
   ],
   "source": [
    "list(O.query().V(\"gene:ENSG00000141510\").in_(\"annotationFor\").aggregate(aql.term(\"agg\", \"GeneOntologyTerm\", \"id\")))"
   ]
  },
  {
   "cell_type": "code",
   "execution_count": null,
   "metadata": {},
   "outputs": [],
   "source": []
  }
 ],
 "metadata": {
  "kernelspec": {
   "display_name": "Python 2",
   "language": "python",
   "name": "python2"
  },
  "language_info": {
   "codemirror_mode": {
    "name": "ipython",
    "version": 2
   },
   "file_extension": ".py",
   "mimetype": "text/x-python",
   "name": "python",
   "nbconvert_exporter": "python",
   "pygments_lexer": "ipython2",
   "version": "2.7.10"
  }
 },
 "nbformat": 4,
 "nbformat_minor": 2
}
