{
 "cells": [
  {
   "cell_type": "raw",
   "metadata": {},
   "source": [
    "---\n",
    "title: Gene Info\n",
    "weight: 30\n",
    "authors:\n",
    "- kellrott\n",
    "tags:\n",
    "- ccle\n",
    "- drug response\n",
    "created_at: 2018-05-09\n",
    "updated_at: 2018-05-09\n",
    "tldr: Look up gene ontology information and references\n",
    "---"
   ]
  },
  {
   "cell_type": "code",
   "execution_count": 4,
   "metadata": {},
   "outputs": [],
   "source": [
    "import gripql\n",
    "conn = gripql.Connection(\"http://grip.compbio.ohsu.edu\")\n",
    "O = conn.graph(\"bmeg_rc1_2\")"
   ]
  },
  {
   "cell_type": "code",
   "execution_count": 16,
   "metadata": {},
   "outputs": [
    {
     "name": "stderr",
     "output_type": "stream",
     "text": [
      "[INFO]\t2019-03-05 10:28:54,005\t1 results received in 0 seconds\n"
     ]
    }
   ],
   "source": [
    "gids = list(O.query().V().hasLabel(\"Gene\").has(gripql.eq(\"$.symbol\", \"BRCA1\")).render(\"_gid\"))"
   ]
  },
  {
   "cell_type": "code",
   "execution_count": 21,
   "metadata": {},
   "outputs": [
    {
     "name": "stderr",
     "output_type": "stream",
     "text": [
      "[INFO]\t2019-03-05 10:36:09,776\t82 results received in 0 seconds\n"
     ]
    },
    {
     "name": "stdout",
     "output_type": "stream",
     "text": [
      "<AttrDict({'evidence': 'IDA', 'references': ['PMID:19117993'], 'title': 'Breast cancer type 1 susceptibility protein'})>\n",
      "<AttrDict({'evidence': 'IPI', 'references': ['PMID:19369211'], 'title': 'Breast cancer type 1 susceptibility protein'})>\n",
      "<AttrDict({'evidence': 'TAS', 'references': ['PMID:9662397'], 'title': 'Breast cancer type 1 susceptibility protein'})>\n",
      "<AttrDict({'evidence': 'TAS', 'references': [], 'title': 'Breast cancer type 1 susceptibility protein'})>\n",
      "<AttrDict({'evidence': 'ISS', 'references': ['GO_REF:0000024'], 'title': 'Breast cancer type 1 susceptibility protein'})>\n",
      "<AttrDict({'evidence': 'IDA', 'references': ['PMID:20160719'], 'title': 'Breast cancer type 1 susceptibility protein'})>\n",
      "<AttrDict({'evidence': 'IDA', 'references': ['PMID:21282464'], 'title': 'Breast cancer type 1 susceptibility protein'})>\n",
      "<AttrDict({'evidence': 'TAS', 'references': [], 'title': 'Breast cancer type 1 susceptibility protein'})>\n",
      "<AttrDict({'evidence': 'IDA', 'references': ['PMID:17349954'], 'title': 'Breast cancer type 1 susceptibility protein'})>\n",
      "<AttrDict({'evidence': 'IMP', 'references': ['PMID:17525340'], 'title': 'Breast cancer type 1 susceptibility protein'})>\n",
      "<AttrDict({'evidence': 'TAS', 'references': [], 'title': 'Breast cancer type 1 susceptibility protein'})>\n",
      "<AttrDict({'evidence': 'IPI', 'references': ['PMID:29656893'], 'title': 'Breast cancer type 1 susceptibility protein'})>\n",
      "<AttrDict({'evidence': 'TAS', 'references': ['PMID:10918303'], 'title': 'Breast cancer type 1 susceptibility protein'})>\n",
      "<AttrDict({'evidence': 'IDA', 'references': ['PMID:9774970'], 'title': 'Breast cancer type 1 susceptibility protein'})>\n",
      "<AttrDict({'evidence': 'IEA', 'references': ['GO_REF:0000107'], 'title': 'Breast cancer type 1 susceptibility protein'})>\n",
      "<AttrDict({'evidence': 'IMP', 'references': ['PMID:16326698'], 'title': 'Breast cancer type 1 susceptibility protein'})>\n",
      "<AttrDict({'evidence': 'IDA', 'references': ['PMID:21102443'], 'title': 'Breast cancer type 1 susceptibility protein'})>\n",
      "<AttrDict({'evidence': 'IDA', 'references': ['PMID:12890688'], 'title': 'Breast cancer type 1 susceptibility protein'})>\n",
      "<AttrDict({'evidence': 'IDA', 'references': ['PMID:17349954'], 'title': 'Breast cancer type 1 susceptibility protein'})>\n",
      "<AttrDict({'evidence': 'NAS', 'references': ['PMID:15572661'], 'title': 'Breast cancer type 1 susceptibility protein'})>\n",
      "<AttrDict({'evidence': 'IDA', 'references': ['PMID:12419249'], 'title': 'Breast cancer type 1 susceptibility protein'})>\n",
      "<AttrDict({'evidence': 'TAS', 'references': [], 'title': 'Breast cancer type 1 susceptibility protein'})>\n",
      "<AttrDict({'evidence': 'IDA', 'references': ['PMID:9774970'], 'title': 'Breast cancer type 1 susceptibility protein'})>\n",
      "<AttrDict({'evidence': 'IEA', 'references': ['GO_REF:0000107'], 'title': 'Breast cancer type 1 susceptibility protein'})>\n",
      "<AttrDict({'evidence': 'IMP', 'references': ['PMID:17643121'], 'title': 'Breast cancer type 1 susceptibility protein'})>\n",
      "<AttrDict({'evidence': 'IDA', 'references': ['PMID:14654789'], 'title': 'Breast cancer type 1 susceptibility protein'})>\n",
      "<AttrDict({'evidence': 'IMP', 'references': ['PMID:23415688'], 'title': 'Breast cancer type 1 susceptibility protein'})>\n",
      "<AttrDict({'evidence': 'IMP', 'references': ['PMID:23415688'], 'title': 'Breast cancer type 1 susceptibility protein'})>\n",
      "<AttrDict({'evidence': 'IPI', 'references': ['PMID:15965487'], 'title': 'Breast cancer type 1 susceptibility protein'})>\n",
      "<AttrDict({'evidence': 'IDA', 'references': ['PMID:15965487'], 'title': 'Breast cancer type 1 susceptibility protein'})>\n",
      "<AttrDict({'evidence': 'IDA', 'references': ['PMID:15265711'], 'title': 'Breast cancer type 1 susceptibility protein'})>\n",
      "<AttrDict({'evidence': 'IMP', 'references': ['PMID:15965487'], 'title': 'Breast cancer type 1 susceptibility protein'})>\n",
      "<AttrDict({'evidence': 'TAS', 'references': ['PMID:10918303'], 'title': 'Breast cancer type 1 susceptibility protein'})>\n",
      "<AttrDict({'evidence': 'IDA', 'references': ['PMID:20820192'], 'title': 'Breast cancer type 1 susceptibility protein'})>\n",
      "<AttrDict({'evidence': 'IEA', 'references': ['GO_REF:0000107'], 'title': 'Breast cancer type 1 susceptibility protein'})>\n",
      "<AttrDict({'evidence': 'IDA', 'references': ['PMID:20820192'], 'title': 'Breast cancer type 1 susceptibility protein'})>\n",
      "<AttrDict({'evidence': 'IEA', 'references': ['GO_REF:0000107'], 'title': 'Breast cancer type 1 susceptibility protein'})>\n",
      "<AttrDict({'evidence': 'IMP', 'references': ['PMID:23415688'], 'title': 'Breast cancer type 1 susceptibility protein'})>\n",
      "<AttrDict({'evidence': 'IDA', 'references': ['PMID:12890688'], 'title': 'Breast cancer type 1 susceptibility protein'})>\n",
      "<AttrDict({'evidence': 'IMP', 'references': ['PMID:19261748'], 'title': 'Breast cancer type 1 susceptibility protein'})>\n",
      "<AttrDict({'evidence': 'TAS', 'references': [], 'title': 'Breast cancer type 1 susceptibility protein'})>\n",
      "<AttrDict({'evidence': 'IDA', 'references': ['PMID:16288014'], 'title': 'Breast cancer type 1 susceptibility protein'})>\n",
      "<AttrDict({'evidence': 'IDA', 'references': ['PMID:20820192'], 'title': 'Breast cancer type 1 susceptibility protein'})>\n",
      "<AttrDict({'evidence': 'TAS', 'references': ['PMID:10918303'], 'title': 'Breast cancer type 1 susceptibility protein'})>\n",
      "<AttrDict({'evidence': 'IDA', 'references': ['PMID:17643121'], 'title': 'Breast cancer type 1 susceptibility protein'})>\n",
      "<AttrDict({'evidence': 'IDA', 'references': ['PMID:17525340'], 'title': 'Breast cancer type 1 susceptibility protein'})>\n",
      "<AttrDict({'evidence': 'IMP', 'references': ['PMID:23415688'], 'title': 'Breast cancer type 1 susceptibility protein'})>\n",
      "<AttrDict({'evidence': 'IPI', 'references': ['PMID:17873885'], 'title': 'Breast cancer type 1 susceptibility protein'})>\n",
      "<AttrDict({'evidence': 'IEA', 'references': ['GO_REF:0000107'], 'title': 'Breast cancer type 1 susceptibility protein'})>\n",
      "<AttrDict({'evidence': 'IDA', 'references': ['PMID:17349954'], 'title': 'Breast cancer type 1 susceptibility protein'})>\n",
      "<AttrDict({'evidence': 'NAS', 'references': ['PMID:15572661'], 'title': 'Breast cancer type 1 susceptibility protein'})>\n",
      "<AttrDict({'evidence': 'IDA', 'references': ['PMID:16331276'], 'title': 'Breast cancer type 1 susceptibility protein'})>\n",
      "<AttrDict({'evidence': 'IEA', 'references': ['GO_REF:0000002'], 'title': 'Breast cancer type 1 susceptibility protein'})>\n",
      "<AttrDict({'evidence': 'IEA', 'references': ['GO_REF:0000107'], 'title': 'Breast cancer type 1 susceptibility protein'})>\n",
      "<AttrDict({'evidence': 'IDA', 'references': ['PMID:8895509'], 'title': 'Breast cancer type 1 susceptibility protein'})>\n",
      "<AttrDict({'evidence': 'NAS', 'references': ['PMID:12214252'], 'title': 'Breast cancer type 1 susceptibility protein'})>\n",
      "<AttrDict({'evidence': 'IDA', 'references': ['PMID:20820192'], 'title': 'Breast cancer type 1 susceptibility protein'})>\n",
      "<AttrDict({'evidence': 'IEA', 'references': ['GO_REF:0000107'], 'title': 'Breast cancer type 1 susceptibility protein'})>\n",
      "<AttrDict({'evidence': 'IDA', 'references': ['PMID:20820192'], 'title': 'Breast cancer type 1 susceptibility protein'})>\n",
      "<AttrDict({'evidence': 'NAS', 'references': ['PMID:12214252'], 'title': 'Breast cancer type 1 susceptibility protein'})>\n",
      "<AttrDict({'evidence': 'IDA', 'references': ['PMID:20820192'], 'title': 'Breast cancer type 1 susceptibility protein'})>\n",
      "<AttrDict({'evidence': 'IDA', 'references': ['PMID:20820192'], 'title': 'Breast cancer type 1 susceptibility protein'})>\n",
      "<AttrDict({'evidence': 'IDA', 'references': ['PMID:18809582'], 'title': 'Breast cancer type 1 susceptibility protein'})>\n",
      "<AttrDict({'evidence': 'IMP', 'references': ['PMID:9662397'], 'title': 'Breast cancer type 1 susceptibility protein'})>\n",
      "<AttrDict({'evidence': 'TAS', 'references': ['PMID:10918303'], 'title': 'Breast cancer type 1 susceptibility protein'})>\n",
      "<AttrDict({'evidence': 'IEA', 'references': ['GO_REF:0000037'], 'title': 'Breast cancer type 1 susceptibility protein'})>\n",
      "<AttrDict({'evidence': 'TAS', 'references': ['PMID:10918303'], 'title': 'Breast cancer type 1 susceptibility protein'})>\n",
      "<AttrDict({'evidence': 'TAS', 'references': ['PMID:10910365'], 'title': 'Breast cancer type 1 susceptibility protein'})>\n",
      "<AttrDict({'evidence': 'TAS', 'references': ['PMID:10918303'], 'title': 'Breast cancer type 1 susceptibility protein'})>\n",
      "<AttrDict({'evidence': 'IMP', 'references': ['PMID:17505062'], 'title': 'Breast cancer type 1 susceptibility protein'})>\n",
      "<AttrDict({'evidence': 'IMP', 'references': ['PMID:23415688'], 'title': 'Breast cancer type 1 susceptibility protein'})>\n",
      "<AttrDict({'evidence': 'IDA', 'references': ['PMID:9662397'], 'title': 'Breast cancer type 1 susceptibility protein'})>\n",
      "<AttrDict({'evidence': 'NAS', 'references': ['PMID:15572661'], 'title': 'Breast cancer type 1 susceptibility protein'})>\n",
      "<AttrDict({'evidence': 'IMP', 'references': ['PMID:19261748'], 'title': 'Breast cancer type 1 susceptibility protein'})>\n",
      "<AttrDict({'evidence': 'IMP', 'references': ['PMID:23415688'], 'title': 'Breast cancer type 1 susceptibility protein'})>\n",
      "<AttrDict({'evidence': 'IDA', 'references': ['PMID:10868478'], 'title': 'Breast cancer type 1 susceptibility protein'})>\n",
      "<AttrDict({'evidence': 'NAS', 'references': ['PMID:14976165'], 'title': 'Breast cancer type 1 susceptibility protein'})>\n",
      "<AttrDict({'evidence': 'NAS', 'references': ['PMID:12214252'], 'title': 'Breast cancer type 1 susceptibility protein'})>\n",
      "<AttrDict({'evidence': 'TAS', 'references': [], 'title': 'Breast cancer type 1 susceptibility protein'})>\n",
      "<AttrDict({'evidence': 'IBA', 'references': ['PMID:21873635'], 'title': 'Breast cancer type 1 susceptibility protein'})>\n",
      "<AttrDict({'evidence': 'IBA', 'references': ['PMID:21873635'], 'title': 'Breast cancer type 1 susceptibility protein'})>\n",
      "<AttrDict({'evidence': 'IBA', 'references': ['PMID:21873635'], 'title': 'Breast cancer type 1 susceptibility protein'})>\n"
     ]
    }
   ],
   "source": [
    "for ent in O.query().V(gids).inE(\"GeneOntologyAnnotation\"):\n",
    "    print(ent.data)"
   ]
  },
  {
   "cell_type": "code",
   "execution_count": null,
   "metadata": {},
   "outputs": [],
   "source": []
  }
 ],
 "metadata": {
  "kernelspec": {
   "display_name": "Python 3",
   "language": "python",
   "name": "python3"
  },
  "language_info": {
   "codemirror_mode": {
    "name": "ipython",
    "version": 3
   },
   "file_extension": ".py",
   "mimetype": "text/x-python",
   "name": "python",
   "nbconvert_exporter": "python",
   "pygments_lexer": "ipython3",
   "version": "3.7.2"
  }
 },
 "nbformat": 4,
 "nbformat_minor": 2
}
