{
 "cells": [
  {
   "cell_type": "code",
   "execution_count": 2,
   "metadata": {},
   "outputs": [],
   "source": [
    "import gripql\n",
    "conn = gripql.Connection(\"http://grip.compbio.ohsu.edu\")\n",
    "O = conn.graph(\"bmeg_rc1_2\")"
   ]
  },
  {
   "cell_type": "markdown",
   "metadata": {},
   "source": [
    "## Count number of Projects per Program"
   ]
  },
  {
   "cell_type": "code",
   "execution_count": 14,
   "metadata": {},
   "outputs": [
    {
     "name": "stderr",
     "output_type": "stream",
     "text": [
      "[INFO]\t2019-03-04 14:58:56,556\t1 results received in 0 seconds\n"
     ]
    },
    {
     "name": "stdout",
     "output_type": "stream",
     "text": [
      "Program:DepMap\t38\n",
      "Program:TCGA\t33\n",
      "Program:GTEx\t31\n",
      "Program:CTRP\t30\n",
      "Program:GDSC\t27\n",
      "Program:CCLE\t26\n",
      "Program:TARGET\t6\n",
      "Program:NCICCR\t1\n",
      "Program:CTSP\t1\n",
      "Program:FM\t1\n",
      "Program:VAREPOP\t1\n"
     ]
    }
   ],
   "source": [
    "q = O.query().V().hasLabel(\"Program\").as_(\"p\").in_(\"InProgram\").select(\"p\")\n",
    "q = q.aggregate(gripql.term(\"project_count\", \"$._gid\"))\n",
    "for row in q.execute()[0][\"project_count\"][\"buckets\"]:\n",
    "    print(\"%s\\t%s\" % (row[\"key\"], row[\"value\"]))"
   ]
  },
  {
   "cell_type": "markdown",
   "metadata": {},
   "source": [
    "## Count number of Samples per Program"
   ]
  },
  {
   "cell_type": "code",
   "execution_count": 15,
   "metadata": {},
   "outputs": [
    {
     "name": "stderr",
     "output_type": "stream",
     "text": [
      "[INFO]\t2019-03-04 14:59:26,374\t1 results received in 5 seconds\n"
     ]
    },
    {
     "name": "stdout",
     "output_type": "stream",
     "text": [
      "Program:FM\t18004\n",
      "Program:TCGA\t11315\n",
      "Program:GTEx\t8859\n",
      "Program:TARGET\t3236\n",
      "Program:DepMap\t1700\n",
      "Program:CTRP\t841\n",
      "Program:GDSC\t746\n",
      "Program:CCLE\t504\n",
      "Program:NCICCR\t489\n",
      "Program:CTSP\t45\n",
      "Program:VAREPOP\t7\n"
     ]
    }
   ],
   "source": [
    "q = O.query().V().hasLabel(\"Program\").as_(\"p\").in_(\"InProgram\").in_(\"InProject\").select(\"p\")\n",
    "q = q.aggregate(gripql.term(\"sample_count\", \"$._gid\"))\n",
    "for row in q.execute()[0][\"sample_count\"][\"buckets\"]:\n",
    "    print(\"%s\\t%s\" % (row[\"key\"], row[\"value\"]))"
   ]
  },
  {
   "cell_type": "code",
   "execution_count": null,
   "metadata": {},
   "outputs": [],
   "source": []
  }
 ],
 "metadata": {
  "kernelspec": {
   "display_name": "Python 3",
   "language": "python",
   "name": "python3"
  },
  "language_info": {
   "codemirror_mode": {
    "name": "ipython",
    "version": 3
   },
   "file_extension": ".py",
   "mimetype": "text/x-python",
   "name": "python",
   "nbconvert_exporter": "python",
   "pygments_lexer": "ipython3",
   "version": "3.7.0"
  }
 },
 "nbformat": 4,
 "nbformat_minor": 2
}
