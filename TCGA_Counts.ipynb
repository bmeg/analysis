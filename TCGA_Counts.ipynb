{
 "cells": [
  {
   "cell_type": "raw",
   "metadata": {},
   "source": [
    "---\n",
    "title: Sample Counts\n",
    "weight: 40\n",
    "authors:\n",
    "- kellrott\n",
    "tags:\n",
    "- ccle\n",
    "- drug response\n",
    "created_at: 2018-05-09\n",
    "updated_at: 2018-05-09\n",
    "tldr: Use aggregation methods to count number of samples in a program\n",
    "---"
   ]
  },
  {
   "cell_type": "code",
   "execution_count": 1,
   "metadata": {},
   "outputs": [],
   "source": [
    "import gripql\n",
    "conn = gripql.Connection(\"https://bmeg.io/api\", credential_file=\"bmeg_credentials.json\")\n",
    "O = conn.graph(\"bmeg_rc2\")"
   ]
  },
  {
   "cell_type": "markdown",
   "metadata": {},
   "source": [
    "Count number of Projects per Program"
   ]
  },
  {
   "cell_type": "code",
   "execution_count": 2,
   "metadata": {},
   "outputs": [
    {
     "name": "stderr",
     "output_type": "stream",
     "text": [
      "[INFO]\t2019-07-26 18:01:50,332\t1 results received in 0 seconds\n"
     ]
    },
    {
     "name": "stdout",
     "output_type": "stream",
     "text": [
      "Program:CCLE\t37\n",
      "Program:TCGA\t33\n",
      "Program:GTEx\t31\n",
      "Program:GDSC\t31\n",
      "Program:CTRP\t30\n",
      "Program:TARGET\t7\n",
      "Program:CPTAC\t1\n",
      "Program:FM\t1\n",
      "Program:NCICCR\t1\n",
      "Program:CTSP\t1\n",
      "Program:HCMI\t1\n",
      "Program:BEATAML1.0\t1\n",
      "Program:VAREPOP\t1\n"
     ]
    }
   ],
   "source": [
    "q = O.query().V().hasLabel(\"Program\").as_(\"p\").out(\"projects\").select(\"p\")\n",
    "q = q.aggregate(gripql.term(\"project_count\", \"$._gid\"))\n",
    "for row in q.execute()[0][\"project_count\"][\"buckets\"]:\n",
    "    print(\"%s\\t%s\" % (row[\"key\"], row[\"value\"]))"
   ]
  },
  {
   "cell_type": "markdown",
   "metadata": {},
   "source": [
    "Count number of Samples per Program"
   ]
  },
  {
   "cell_type": "code",
   "execution_count": 4,
   "metadata": {},
   "outputs": [
    {
     "name": "stderr",
     "output_type": "stream",
     "text": [
      "[INFO]\t2019-07-26 18:02:37,232\t1 results received in 2 seconds\n"
     ]
    },
    {
     "name": "stdout",
     "output_type": "stream",
     "text": [
      "Program:FM\t18004\n",
      "Program:TCGA\t11315\n",
      "Program:TARGET\t3360\n",
      "Program:CCLE\t1617\n",
      "Program:GDSC\t1001\n",
      "Program:CTRP\t886\n",
      "Program:GTEx\t752\n",
      "Program:NCICCR\t489\n",
      "Program:CPTAC\t322\n",
      "Program:BEATAML1.0\t56\n",
      "Program:CTSP\t45\n",
      "Program:HCMI\t7\n",
      "Program:VAREPOP\t7\n"
     ]
    }
   ],
   "source": [
    "q = O.query().V().hasLabel(\"Program\").as_(\"p\").out(\"projects\").out(\"cases\").select(\"p\")\n",
    "q = q.aggregate(gripql.term(\"sample_count\", \"$._gid\"))\n",
    "for row in q.execute()[0][\"sample_count\"][\"buckets\"]:\n",
    "    print(\"%s\\t%s\" % (row[\"key\"], row[\"value\"]))"
   ]
  }
 ],
 "metadata": {
  "kernelspec": {
   "display_name": "Python 3",
   "language": "python",
   "name": "python3"
  },
  "language_info": {
   "codemirror_mode": {
    "name": "ipython",
    "version": 3
   },
   "file_extension": ".py",
   "mimetype": "text/x-python",
   "name": "python",
   "nbconvert_exporter": "python",
   "pygments_lexer": "ipython3",
   "version": "3.7.2"
  }
 },
 "nbformat": 4,
 "nbformat_minor": 2
}
