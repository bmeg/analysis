{
 "cells": [
  {
   "cell_type": "code",
   "execution_count": 1,
   "metadata": {},
   "outputs": [],
   "source": [
    "import gripql\n",
    "conn = gripql.Connection(\"http://grip.compbio.ohsu.edu\")\n",
    "O = conn.graph(\"bmeg_rc1_2\")"
   ]
  },
  {
   "cell_type": "code",
   "execution_count": 9,
   "metadata": {},
   "outputs": [
    {
     "name": "stderr",
     "output_type": "stream",
     "text": [
      "[INFO]\t2019-02-22 13:17:12,164\t1 results received in 0 seconds\n"
     ]
    },
    {
     "name": "stdout",
     "output_type": "stream",
     "text": [
      "[<AttrDict({'project_count': {'buckets': [{'key': 'DepMap', 'value': 38}, {'key': 'TCGA', 'value': 33}, {'key': 'GTEx', 'value': 31}, {'key': 'CTRP', 'value': 30}, {'key': 'GDSC', 'value': 27}, {'key': 'CCLE', 'value': 26}, {'key': 'TARGET', 'value': 6}, {'key': 'CTSP', 'value': 1}, {'key': 'VAREPOP', 'value': 1}, {'key': 'NCICCR', 'value': 1}, {'key': 'FM', 'value': 1}]}})>]\n"
     ]
    }
   ],
   "source": [
    "q = O.query().V().hasLabel(\"Program\").as_(\"p\").in_(\"InProgram\").select(\"p\")\n",
    "q = q.aggregate(gripql.term(\"project_count\", \"program_id\"))\n",
    "print(list(q.limit(1)))"
   ]
  },
  {
   "cell_type": "code",
   "execution_count": 10,
   "metadata": {},
   "outputs": [
    {
     "name": "stderr",
     "output_type": "stream",
     "text": [
      "[INFO]\t2019-02-22 13:17:55,773\t1 results received in 7 seconds\n"
     ]
    },
    {
     "name": "stdout",
     "output_type": "stream",
     "text": [
      "[<AttrDict({'project_count': {'buckets': [{'key': 'FM', 'value': 18004}, {'key': 'TCGA', 'value': 11315}, {'key': 'GTEx', 'value': 8859}, {'key': 'TARGET', 'value': 3236}, {'key': 'DepMap', 'value': 1700}, {'key': 'CTRP', 'value': 841}, {'key': 'GDSC', 'value': 746}, {'key': 'CCLE', 'value': 504}, {'key': 'NCICCR', 'value': 489}, {'key': 'CTSP', 'value': 45}, {'key': 'VAREPOP', 'value': 7}]}})>]\n"
     ]
    }
   ],
   "source": [
    "q = O.query().V().hasLabel(\"Program\").as_(\"p\").in_(\"InProgram\").in_(\"InProject\").select(\"p\")\n",
    "q = q.aggregate(gripql.term(\"project_count\", \"program_id\"))\n",
    "print(list(q.limit(1)))"
   ]
  },
  {
   "cell_type": "code",
   "execution_count": null,
   "metadata": {},
   "outputs": [],
   "source": []
  }
 ],
 "metadata": {
  "kernelspec": {
   "display_name": "Python 3",
   "language": "python",
   "name": "python3"
  },
  "language_info": {
   "codemirror_mode": {
    "name": "ipython",
    "version": 3
   },
   "file_extension": ".py",
   "mimetype": "text/x-python",
   "name": "python",
   "nbconvert_exporter": "python",
   "pygments_lexer": "ipython3",
   "version": "3.7.0"
  }
 },
 "nbformat": 4,
 "nbformat_minor": 2
}
