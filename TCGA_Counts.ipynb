{
 "cells": [
  {
   "cell_type": "raw",
   "metadata": {},
   "source": [
    "---\n",
    "title: Sample Counts\n",
    "weight: 40\n",
    "authors:\n",
    "- kellrott\n",
    "- adamstruck\n",
    "tags:\n",
    "- ccle\n",
    "- drug response\n",
    "created_at: 2018-05-09\n",
    "updated_at: 2020-01-14\n",
    "tldr: Use aggregation methods to count number of samples in a program\n",
    "---"
   ]
  },
  {
   "cell_type": "code",
   "execution_count": 2,
   "metadata": {},
   "outputs": [],
   "source": [
    "import gripql\n",
    "conn = gripql.Connection(\"https://bmeg.io/api\", credential_file=\"bmeg_credentials.json\")\n",
    "G = conn.graph(\"rc5\")"
   ]
  },
  {
   "cell_type": "markdown",
   "metadata": {},
   "source": [
    "Count number of Projects per Program"
   ]
  },
  {
   "cell_type": "code",
   "execution_count": 3,
   "metadata": {},
   "outputs": [
    {
     "name": "stderr",
     "output_type": "stream",
     "text": [
      "[INFO]\t2020-01-14 14:25:03,363\t1 results received in 0 seconds\n"
     ]
    },
    {
     "name": "stdout",
     "output_type": "stream",
     "text": [
      "Program:TCGA\t33\n",
      "Program:GTEx\t31\n",
      "Program:CCLE\t1\n",
      "Program:GDSC\t1\n",
      "Program:CTRP\t1\n"
     ]
    }
   ],
   "source": [
    "q = G.query().V().hasLabel(\"Program\").as_(\"p\").out(\"projects\").select(\"p\")\n",
    "q = q.aggregate(gripql.term(\"project_count\", \"$._gid\"))\n",
    "for row in q.execute()[0][\"project_count\"][\"buckets\"]:\n",
    "    print(\"%s\\t%s\" % (row[\"key\"], row[\"value\"]))"
   ]
  },
  {
   "cell_type": "markdown",
   "metadata": {},
   "source": [
    "Count number of Cases per Program"
   ]
  },
  {
   "cell_type": "code",
   "execution_count": 4,
   "metadata": {},
   "outputs": [
    {
     "name": "stderr",
     "output_type": "stream",
     "text": [
      "[INFO]\t2020-01-14 14:25:23,826\t1 results received in 1 seconds\n"
     ]
    },
    {
     "name": "stdout",
     "output_type": "stream",
     "text": [
      "Program:TCGA\t11315\n",
      "Program:GTEx\t8859\n",
      "Program:CCLE\t1618\n",
      "Program:GDSC\t1075\n",
      "Program:CTRP\t887\n"
     ]
    }
   ],
   "source": [
    "q = G.query().V().hasLabel(\"Program\").as_(\"p\").out(\"projects\").out(\"cases\").select(\"p\")\n",
    "q = q.aggregate(gripql.term(\"sample_count\", \"$._gid\"))\n",
    "for row in q.execute()[0][\"sample_count\"][\"buckets\"]:\n",
    "    print(\"%s\\t%s\" % (row[\"key\"], row[\"value\"]))"
   ]
  },
  {
   "cell_type": "markdown",
   "metadata": {},
   "source": [
    "Count number of Samples per Program"
   ]
  },
  {
   "cell_type": "code",
   "execution_count": 5,
   "metadata": {},
   "outputs": [
    {
     "name": "stderr",
     "output_type": "stream",
     "text": [
      "[INFO]\t2020-01-14 14:26:37,527\t1 results received in 13 seconds\n"
     ]
    },
    {
     "name": "stdout",
     "output_type": "stream",
     "text": [
      "Program:GTEx\t204512\n",
      "Program:TCGA\t33405\n",
      "Program:CCLE\t1618\n",
      "Program:GDSC\t1075\n",
      "Program:CTRP\t887\n"
     ]
    }
   ],
   "source": [
    "q = G.query().V().hasLabel(\"Program\").as_(\"p\").out(\"projects\").out(\"cases\").out(\"samples\").select(\"p\")\n",
    "q = q.aggregate(gripql.term(\"sample_count\", \"$._gid\"))\n",
    "for row in q.execute()[0][\"sample_count\"][\"buckets\"]:\n",
    "    print(\"%s\\t%s\" % (row[\"key\"], row[\"value\"]))"
   ]
  },
  {
   "cell_type": "code",
   "execution_count": null,
   "metadata": {},
   "outputs": [],
   "source": []
  }
 ],
 "metadata": {
  "kernelspec": {
   "display_name": "Python 3",
   "language": "python",
   "name": "python3"
  },
  "language_info": {
   "codemirror_mode": {
    "name": "ipython",
    "version": 3
   },
   "file_extension": ".py",
   "mimetype": "text/x-python",
   "name": "python",
   "nbconvert_exporter": "python",
   "pygments_lexer": "ipython3",
   "version": "3.7.6"
  }
 },
 "nbformat": 4,
 "nbformat_minor": 2
}
