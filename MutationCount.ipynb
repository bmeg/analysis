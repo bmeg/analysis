{
 "cells": [
  {
   "cell_type": "raw",
   "metadata": {},
   "source": [
    "---\n",
    "title: TCGA Cohort Mutation Counts\n",
    "path: TCGA\n",
    "authors:\n",
    "- kellrott\n",
    "tags:\n",
    "- tcga\n",
    "- mutations\n",
    "- mc3\n",
    "created_at: 2018-05-09\n",
    "updated_at: 2018-05-09\n",
    "tldr: Find the number of mutations per gene for TCGA cohort\n",
    "---"
   ]
  },
  {
   "cell_type": "code",
   "execution_count": 1,
   "metadata": {},
   "outputs": [],
   "source": [
    "import pandas\n",
    "import gripql\n",
    "conn = gripql.Connection(\"http://grip.compbio.ohsu.edu\")\n",
    "O = conn.graph(\"bmeg_rc1_2\")"
   ]
  },
  {
   "cell_type": "code",
   "execution_count": 18,
   "metadata": {},
   "outputs": [
    {
     "name": "stderr",
     "output_type": "stream",
     "text": [
      "[INFO]\t2019-03-01 17:22:30,156\t1 results received in 6 seconds\n"
     ]
    }
   ],
   "source": [
    "q = O.query().V(\"Project:TCGA-KIRC\")\n",
    "q = q.in_(\"InProject\").in_(\"SampleFor\").has(gripql.eq(\"gdc_attributes.sample_type\", \"Primary Tumor\"))\n",
    "q = q.in_(\"AliquotFor\").in_(\"CallsetFor\").outE(\"AlleleCall\")\n",
    "q = q.has(gripql.contains(\"methods\", \"MUTECT\"))\n",
    "q = q.aggregate(gripql.term(\"geneCount\", \"ensembl_gene\"))\n",
    "\n",
    "res = list(q)\n",
    "counts = {}\n",
    "for i in res[0]['geneCount']['buckets']:\n",
    "    counts[i['key']] = i['value']\n"
   ]
  },
  {
   "cell_type": "code",
   "execution_count": null,
   "metadata": {},
   "outputs": [],
   "source": []
  }
 ],
 "metadata": {
  "kernelspec": {
   "display_name": "Python 3",
   "language": "python",
   "name": "python3"
  },
  "language_info": {
   "codemirror_mode": {
    "name": "ipython",
    "version": 3
   },
   "file_extension": ".py",
   "mimetype": "text/x-python",
   "name": "python",
   "nbconvert_exporter": "python",
   "pygments_lexer": "ipython3",
   "version": "3.7.0"
  }
 },
 "nbformat": 4,
 "nbformat_minor": 2
}
