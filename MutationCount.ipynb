{
 "cells": [
  {
   "cell_type": "code",
   "execution_count": 1,
   "metadata": {},
   "outputs": [],
   "source": [
    "import pandas\n",
    "import aql\n",
    "conn = aql.Connection(\"http://arachne.compbio.ohsu.edu\")\n",
    "O = conn.graph(\"bmeg\")"
   ]
  },
  {
   "cell_type": "code",
   "execution_count": 9,
   "metadata": {},
   "outputs": [
    {
     "name": "stdout",
     "output_type": "stream",
     "text": [
      "TP53 2\n",
      "VHL 2\n",
      "ACSM1 1\n",
      "AHNAK2 1\n",
      "APBA2 1\n",
      "B3GAT1 1\n",
      "B4GALNT4 1\n",
      "BRINP3 1\n",
      "BTBD2 1\n",
      "C2CD2L 1\n",
      "C8orf34 1\n",
      "CEP76 1\n",
      "CNTN1 1\n",
      "COL5A3 1\n",
      "CRAT 1\n",
      "EFCAB12 1\n",
      "EPHA8 1\n",
      "F13B 1\n",
      "FLRT2 1\n",
      "GJA10 1\n",
      "GPHN 1\n",
      "GRAMD1A 1\n",
      "H2AFY2 1\n",
      "HRASLS 1\n",
      "HUNK 1\n",
      "IQSEC3 1\n",
      "IRX6 1\n",
      "ITGA10 1\n",
      "ITPR3 1\n",
      "KAT8 1\n",
      "KMT2C 1\n",
      "KRTAP4-9 1\n",
      "KRTAP5-1 1\n",
      "LAMA2 1\n",
      "LRRTM4 1\n",
      "MICALCL 1\n",
      "MTMR10 1\n",
      "NCKAP5 1\n",
      "NDST4 1\n",
      "NDUFB6 1\n",
      "NEBL 1\n",
      "NFE2L2 1\n",
      "NLRP4 1\n",
      "OR52J3 1\n",
      "OR6N1 1\n",
      "OTOA 1\n",
      "PBRM1 1\n",
      "PCDH19 1\n",
      "PCDHA6 1\n",
      "PCDHGA3 1\n",
      "PDE4C 1\n",
      "PENK 1\n",
      "PI16 1\n",
      "PLCL1 1\n",
      "POM121L12 1\n",
      "PRF1 1\n",
      "PSKH2 1\n",
      "RB1 1\n",
      "RPS6KA1 1\n",
      "SIPA1L3 1\n",
      "SLC26A11 1\n",
      "TM4SF20 1\n",
      "TTN 1\n",
      "ZNF831 1\n"
     ]
    }
   ],
   "source": [
    "q = O.query().V().where(aql.eq(\"$.label\", \"Individual\"))\n",
    "q = q.where(aql.and_(aql.eq(\"source\", \"tcga\"), aql.eq(\"disease_code\", \"KIRC\")))\n",
    "q = q.in_(\"sampleOf\").in_(\"callSetOf\").where(aql.eq(\"method\", \"MUTECT\"))\n",
    "q = q.in_(\"variantCall\").out(\"variantIn\")\n",
    "q = q.aggregate(aql.term(\"agg\", \"Gene\", \"symbol\"))\n",
    "\n",
    "res = list(q)\n",
    "for i in res[0]['data']['buckets']:\n",
    "    print i['key'], i['value']\n"
   ]
  },
  {
   "cell_type": "code",
   "execution_count": null,
   "metadata": {},
   "outputs": [],
   "source": []
  }
 ],
 "metadata": {
  "kernelspec": {
   "display_name": "Python 2",
   "language": "python",
   "name": "python2"
  },
  "language_info": {
   "codemirror_mode": {
    "name": "ipython",
    "version": 2
   },
   "file_extension": ".py",
   "mimetype": "text/x-python",
   "name": "python",
   "nbconvert_exporter": "python",
   "pygments_lexer": "ipython2",
   "version": "2.7.10"
  }
 },
 "nbformat": 4,
 "nbformat_minor": 2
}
