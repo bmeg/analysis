{
 "cells": [
  {
   "cell_type": "raw",
   "metadata": {},
   "source": [
    "---\n",
    "title: Cohort Mutation Counts\n",
    "path: TCGA\n",
    "authors:\n",
    "- kellrott\n",
    "tags:\n",
    "- tcga\n",
    "- mutations\n",
    "- mc3\n",
    "created_at: 2018-05-09\n",
    "updated_at: 2018-05-09\n",
    "tldr: Find the number of mutations per gene for TCGA cohort\n",
    "---"
   ]
  },
  {
   "cell_type": "code",
   "execution_count": 1,
   "metadata": {},
   "outputs": [],
   "source": [
    "import pandas\n",
    "import gripql\n",
    "conn = gripql.Connection(\"http://grip.compbio.ohsu.edu\")\n",
    "O = conn.graph(\"bmeg_rc1_2\")"
   ]
  },
  {
   "cell_type": "code",
   "execution_count": 18,
   "metadata": {},
   "outputs": [
    {
     "name": "stderr",
     "output_type": "stream",
     "text": [
      "[INFO]\t2019-03-01 17:22:30,156\t1 results received in 6 seconds\n"
     ]
    }
   ],
   "source": [
    "q = O.query().V(\"Project:TCGA-KIRC\")\n",
    "q = q.in_(\"InProject\").in_(\"SampleFor\").has(gripql.eq(\"gdc_attributes.sample_type\", \"Primary Tumor\"))\n",
    "q = q.in_(\"AliquotFor\").in_(\"CallsetFor\").outE(\"AlleleCall\")\n",
    "q = q.has(gripql.contains(\"methods\", \"MUTECT\"))\n",
    "q = q.aggregate(gripql.term(\"geneCount\", \"ensembl_gene\"))\n",
    "\n",
    "res = list(q)\n",
    "counts = {}\n",
    "for i in res[0]['geneCount']['buckets']:\n",
    "    counts[i['key']] = i['value']\n"
   ]
  },
  {
   "cell_type": "code",
   "execution_count": 23,
   "metadata": {},
   "outputs": [],
   "source": [
    "countDF = pandas.Series(counts)"
   ]
  },
  {
   "cell_type": "code",
   "execution_count": 25,
   "metadata": {},
   "outputs": [],
   "source": [
    "goi = list(countDF.index[countDF >= 20])"
   ]
  },
  {
   "cell_type": "code",
   "execution_count": 28,
   "metadata": {},
   "outputs": [
    {
     "name": "stderr",
     "output_type": "stream",
     "text": [
      "[INFO]\t2019-03-04 14:52:32,121\t10 results received in 0 seconds\n"
     ]
    },
    {
     "name": "stdout",
     "output_type": "stream",
     "text": [
      "ENSG00000007174 DNAH9\n",
      "ENSG00000081479 LRP2\n",
      "ENSG00000134086 VHL\n",
      "ENSG00000151914 DST\n",
      "ENSG00000155657 TTN\n",
      "ENSG00000163930 BAP1\n",
      "ENSG00000163939 PBRM1\n",
      "ENSG00000181143 MUC16\n",
      "ENSG00000181555 SETD2\n",
      "ENSG00000198793 MTOR\n"
     ]
    }
   ],
   "source": [
    "for e,g in O.query().V(goi).render([\"$._gid\" ,\"$.symbol\"]):\n",
    "    print(e,g)"
   ]
  },
  {
   "cell_type": "code",
   "execution_count": null,
   "metadata": {},
   "outputs": [],
   "source": []
  }
 ],
 "metadata": {
  "kernelspec": {
   "display_name": "Python 3",
   "language": "python",
   "name": "python3"
  },
  "language_info": {
   "codemirror_mode": {
    "name": "ipython",
    "version": 3
   },
   "file_extension": ".py",
   "mimetype": "text/x-python",
   "name": "python",
   "nbconvert_exporter": "python",
   "pygments_lexer": "ipython3",
   "version": "3.7.2"
  }
 },
 "nbformat": 4,
 "nbformat_minor": 2
}
