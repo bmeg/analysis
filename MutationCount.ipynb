{
 "cells": [
  {
   "cell_type": "raw",
   "metadata": {},
   "source": [
    "---\n",
    "title: Cohort Mutation Counts\n",
    "path: TCGA\n",
    "weight: 60\n",
    "authors:\n",
    "- kellrott\n",
    "- adamstruck\n",
    "tags:\n",
    "- tcga\n",
    "- mutations\n",
    "- mc3\n",
    "created_at: 2018-05-09\n",
    "updated_at: 2020-01-14\n",
    "tldr: Find the number of mutations per gene for TCGA cohort\n",
    "---"
   ]
  },
  {
   "cell_type": "markdown",
   "metadata": {},
   "source": [
    "Find the number of mutations per gene for TCGA cohort"
   ]
  },
  {
   "cell_type": "code",
   "execution_count": 1,
   "metadata": {},
   "outputs": [],
   "source": [
    "import pandas\n",
    "import gripql\n",
    "conn = gripql.Connection(\"https://bmeg.io/api\", credential_file=\"bmeg_credentials.json\")\n",
    "G = conn.graph(\"rc5\")"
   ]
  },
  {
   "cell_type": "markdown",
   "metadata": {},
   "source": [
    "Select all the tumor samples in the TCGA KIRC cohort, and aggregate across the `ensembl_gene` field."
   ]
  },
  {
   "cell_type": "code",
   "execution_count": 2,
   "metadata": {},
   "outputs": [
    {
     "name": "stderr",
     "output_type": "stream",
     "text": [
      "[INFO]\t2020-01-14 14:20:35,273\t1 results received in 1 seconds\n"
     ]
    }
   ],
   "source": [
    "q = G.query().V(\"Project:TCGA-KIRC\")\n",
    "q = q.out(\"cases\").out(\"samples\").has(gripql.eq(\"gdc_attributes.sample_type\", \"Primary Tumor\"))\n",
    "q = q.out(\"aliquots\").out(\"somatic_callsets\").outE(\"alleles\")\n",
    "q = q.has(gripql.contains(\"methods\", \"MUTECT\"))\n",
    "q = q.aggregate(gripql.term(\"geneCount\", \"ensembl_gene\"))\n",
    "\n",
    "res = list(q)\n",
    "counts = {}\n",
    "for i in res[0]['geneCount']['buckets']:\n",
    "    counts[i['key']] = i['value']\n"
   ]
  },
  {
   "cell_type": "markdown",
   "metadata": {},
   "source": [
    "Create a Pandas.Series with the output and find all the genes with 20 or more mutations"
   ]
  },
  {
   "cell_type": "code",
   "execution_count": 3,
   "metadata": {},
   "outputs": [],
   "source": [
    "countDF = pandas.Series(counts)"
   ]
  },
  {
   "cell_type": "code",
   "execution_count": 4,
   "metadata": {},
   "outputs": [],
   "source": [
    "goi = list(countDF.index[countDF >= 20])"
   ]
  },
  {
   "cell_type": "code",
   "execution_count": 6,
   "metadata": {},
   "outputs": [
    {
     "name": "stderr",
     "output_type": "stream",
     "text": [
      "[INFO]\t2020-01-14 14:20:42,933\t10 results received in 0 seconds\n"
     ]
    },
    {
     "name": "stdout",
     "output_type": "stream",
     "text": [
      "ENSG00000007174 (DNAH9) = 22\n",
      "ENSG00000081479 (LRP2) = 22\n",
      "ENSG00000134086 (VHL) = 113\n",
      "ENSG00000151914 (DST) = 27\n",
      "ENSG00000155657 (TTN) = 120\n",
      "ENSG00000163930 (BAP1) = 30\n",
      "ENSG00000163939 (PBRM1) = 74\n",
      "ENSG00000181143 (MUC16) = 42\n",
      "ENSG00000181555 (SETD2) = 34\n",
      "ENSG00000198793 (MTOR) = 34\n"
     ]
    }
   ],
   "source": [
    "for e,g in G.query().V(goi).render([\"$._gid\" ,\"$.symbol\"]):\n",
    "    print(\"%s (%s) = %d\" % (e,g, countDF[e]))"
   ]
  },
  {
   "cell_type": "code",
   "execution_count": null,
   "metadata": {},
   "outputs": [],
   "source": []
  }
 ],
 "metadata": {
  "kernelspec": {
   "display_name": "Python 3",
   "language": "python",
   "name": "python3"
  },
  "language_info": {
   "codemirror_mode": {
    "name": "ipython",
    "version": 3
   },
   "file_extension": ".py",
   "mimetype": "text/x-python",
   "name": "python",
   "nbconvert_exporter": "python",
   "pygments_lexer": "ipython3",
   "version": "3.7.6"
  }
 },
 "nbformat": 4,
 "nbformat_minor": 2
}
