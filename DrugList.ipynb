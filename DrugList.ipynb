{
 "cells": [
  {
   "cell_type": "raw",
   "metadata": {},
   "source": [
    "---\n",
    "title: Get compound Information\n",
    "draft: True\n",
    "authors:\n",
    "- kellrott\n",
    "tags:\n",
    "- ccle\n",
    "- drug response\n",
    "created_at: 2018-05-09\n",
    "updated_at: 2018-05-09\n",
    "tldr: Get info about CCLE drug response experiments\n",
    "---"
   ]
  },
  {
   "cell_type": "code",
   "execution_count": 1,
   "metadata": {},
   "outputs": [],
   "source": [
    "import gripql\n",
    "conn = gripql.Connection(\"https://bmegio.ohsu.edu/api\", credential_file=\"bmeg_credentials.json\")\n",
    "O = conn.graph(\"bmeg_rc2\")"
   ]
  },
  {
   "cell_type": "code",
   "execution_count": 2,
   "metadata": {},
   "outputs": [
    {
     "name": "stderr",
     "output_type": "stream",
     "text": [
      "[INFO]\t2019-07-26 18:24:25,627\t5 results received in 0 seconds\n"
     ]
    },
    {
     "name": "stdout",
     "output_type": "stream",
     "text": [
      "[<AttrDict({'gid': 'Sample:CCLE:ACH-000511', 'label': 'Sample', 'data': {'project_id': 'Project:CCLE_Lung_Cancer', 'sample_id': 'ACH-000511', 'submitter_id': 'CALU1_LUNG'}})>, <AttrDict({'gid': 'Sample:CCLE:ACH-001306', 'label': 'Sample', 'data': {'project_id': 'Project:CCLE_Thyroid_Cancer', 'sample_id': 'ACH-001306', 'submitter_id': '8305C_THYROID'}})>, <AttrDict({'gid': 'Sample:CCLE:ACH-000046', 'label': 'Sample', 'data': {'project_id': 'Project:CCLE_Kidney_Cancer', 'sample_id': 'ACH-000046', 'submitter_id': 'ACHN_KIDNEY'}})>, <AttrDict({'gid': 'Sample:CCLE:ACH-001041', 'label': 'Sample', 'data': {'project_id': 'Project:CCLE_Lung_Cancer', 'sample_id': 'ACH-001041', 'submitter_id': 'COLO699_LUNG'}})>, <AttrDict({'gid': 'Sample:CCLE:ACH-001039', 'label': 'Sample', 'data': {'project_id': 'Project:CCLE_Colon/Colorectal_Cancer', 'sample_id': 'ACH-001039', 'submitter_id': 'COLO205_LARGE_INTESTINE'}})>]\n"
     ]
    }
   ],
   "source": [
    "print( list(O.query().V().hasLabel(\"Sample\").limit(5) ))"
   ]
  },
  {
   "cell_type": "code",
   "execution_count": 3,
   "metadata": {},
   "outputs": [
    {
     "name": "stderr",
     "output_type": "stream",
     "text": [
      "[INFO]\t2019-07-26 18:24:27,023\t16,521 results received in 1 seconds\n"
     ]
    }
   ],
   "source": [
    "aliquots = list(O.query().V(\"Program:CCLE\").out(\"projects\").out(\"cases\").out(\"samples\").out(\"aliquots\").render(\"$._gid\"))"
   ]
  },
  {
   "cell_type": "code",
   "execution_count": 4,
   "metadata": {},
   "outputs": [
    {
     "ename": "AttributeError",
     "evalue": "'Query' object has no attribute 'where'",
     "output_type": "error",
     "traceback": [
      "\u001b[0;31m---------------------------------------------------------------------------\u001b[0m",
      "\u001b[0;31mAttributeError\u001b[0m                            Traceback (most recent call last)",
      "\u001b[0;32m<ipython-input-4-1c1f88e51aea>\u001b[0m in \u001b[0;36m<module>\u001b[0;34m\u001b[0m\n\u001b[0;32m----> 1\u001b[0;31m \u001b[0mq\u001b[0m \u001b[0;34m=\u001b[0m \u001b[0mO\u001b[0m\u001b[0;34m.\u001b[0m\u001b[0mquery\u001b[0m\u001b[0;34m(\u001b[0m\u001b[0;34m)\u001b[0m\u001b[0;34m.\u001b[0m\u001b[0mV\u001b[0m\u001b[0;34m(\u001b[0m\u001b[0;34m)\u001b[0m\u001b[0;34m.\u001b[0m\u001b[0mhasLabel\u001b[0m\u001b[0;34m(\u001b[0m\u001b[0;34m\"Sample\"\u001b[0m\u001b[0;34m)\u001b[0m\u001b[0;34m.\u001b[0m\u001b[0mwhere\u001b[0m\u001b[0;34m(\u001b[0m\u001b[0maql\u001b[0m\u001b[0;34m.\u001b[0m\u001b[0meq\u001b[0m\u001b[0;34m(\u001b[0m\u001b[0;34m\"datasetId\"\u001b[0m\u001b[0;34m,\u001b[0m \u001b[0;34m\"ccle\"\u001b[0m\u001b[0;34m)\u001b[0m\u001b[0;34m)\u001b[0m\u001b[0;34m.\u001b[0m\u001b[0mmark\u001b[0m\u001b[0;34m(\u001b[0m\u001b[0;34m\"s\"\u001b[0m\u001b[0;34m)\u001b[0m\u001b[0;31m\\\u001b[0m\u001b[0;34m\u001b[0m\u001b[0;34m\u001b[0m\u001b[0m\n\u001b[0m\u001b[1;32m      2\u001b[0m \u001b[0;34m.\u001b[0m\u001b[0min_\u001b[0m\u001b[0;34m(\u001b[0m\u001b[0;34m\"responseFor\"\u001b[0m\u001b[0;34m)\u001b[0m\u001b[0;34m.\u001b[0m\u001b[0mmark\u001b[0m\u001b[0;34m(\u001b[0m\u001b[0;34m\"r\"\u001b[0m\u001b[0;34m)\u001b[0m\u001b[0;34m.\u001b[0m\u001b[0mout\u001b[0m\u001b[0;34m(\u001b[0m\u001b[0;34m\"responseTo\"\u001b[0m\u001b[0;34m)\u001b[0m\u001b[0;34m.\u001b[0m\u001b[0mmark\u001b[0m\u001b[0;34m(\u001b[0m\u001b[0;34m\"d\"\u001b[0m\u001b[0;34m)\u001b[0m\u001b[0;31m\\\u001b[0m\u001b[0;34m\u001b[0m\u001b[0;34m\u001b[0m\u001b[0m\n\u001b[1;32m      3\u001b[0m \u001b[0;34m.\u001b[0m\u001b[0mrender\u001b[0m\u001b[0;34m(\u001b[0m\u001b[0;34m[\u001b[0m\u001b[0;34m\"$s._gid\"\u001b[0m\u001b[0;34m,\u001b[0m \u001b[0;34m\"$r.summary\"\u001b[0m\u001b[0;34m,\u001b[0m \u001b[0;34m\"$d._gid\"\u001b[0m\u001b[0;34m]\u001b[0m\u001b[0;34m)\u001b[0m\u001b[0;34m.\u001b[0m\u001b[0mlimit\u001b[0m\u001b[0;34m(\u001b[0m\u001b[0;36m10\u001b[0m\u001b[0;34m)\u001b[0m\u001b[0;34m\u001b[0m\u001b[0;34m\u001b[0m\u001b[0m\n\u001b[1;32m      4\u001b[0m \u001b[0;32mfor\u001b[0m \u001b[0mrow\u001b[0m \u001b[0;32min\u001b[0m \u001b[0mq\u001b[0m\u001b[0;34m:\u001b[0m\u001b[0;34m\u001b[0m\u001b[0;34m\u001b[0m\u001b[0m\n\u001b[1;32m      5\u001b[0m     \u001b[0mprint\u001b[0m\u001b[0;34m(\u001b[0m\u001b[0mrow\u001b[0m\u001b[0;34m)\u001b[0m\u001b[0;34m\u001b[0m\u001b[0;34m\u001b[0m\u001b[0m\n",
      "\u001b[0;31mAttributeError\u001b[0m: 'Query' object has no attribute 'where'"
     ]
    }
   ],
   "source": [
    "q = O.query().V().hasLabel(\"Sample\").where(aql.eq(\"datasetId\", \"ccle\")).mark(\"s\")\\\n",
    ".in_(\"responseFor\").mark(\"r\").out(\"responseTo\").mark(\"d\")\\\n",
    ".render([\"$s._gid\", \"$r.summary\", \"$d._gid\"]).limit(10)\n",
    "for row in q:\n",
    "    print(row)"
   ]
  },
  {
   "cell_type": "code",
   "execution_count": null,
   "metadata": {},
   "outputs": [],
   "source": [
    "q = O.query().V().where(aql.eq(\"_label\", \"Biosample\")).where(aql.eq(\"datasetId\", \"ccle\")).mark(\"s\")\\\n",
    ".in_(\"responseFor\").mark(\"r\").outEdge(\"responseTo\").distinct(\"_to\").render([\"_to\"])\n",
    "for row in q:\n",
    "    print row"
   ]
  },
  {
   "cell_type": "code",
   "execution_count": null,
   "metadata": {},
   "outputs": [],
   "source": [
    "q = O.query().V().where(aql.eq(\"_label\", \"ResponseCurve\")).outEdge(\"responseTo\").distinct(\"_to\").render([\"_to\"])\n",
    "for row in q:\n",
    "    print row"
   ]
  },
  {
   "cell_type": "code",
   "execution_count": null,
   "metadata": {},
   "outputs": [],
   "source": [
    "print list(O.query().V().where(aql.eq(\"_label\", \"ResponseCurve\")).outEdge(\"responseTo\").distinct(\"_to\").render([\"_to\"]).count())\n"
   ]
  },
  {
   "cell_type": "code",
   "execution_count": null,
   "metadata": {},
   "outputs": [],
   "source": [
    "print list(O.query().V().where(aql.eq(\"_label\", \"G2PAssociation\")).outEdge(\"environmentFor\").distinct(\"_to\").render([\"_to\"]))\n"
   ]
  },
  {
   "cell_type": "code",
   "execution_count": null,
   "metadata": {},
   "outputs": [],
   "source": [
    "print list(O.query().V().where(aql.eq(\"_label\", \"G2PAssociation\")).outEdge().limit(100).render([\"_label\"]))"
   ]
  },
  {
   "cell_type": "code",
   "execution_count": null,
   "metadata": {},
   "outputs": [],
   "source": [
    "print list(O.query().V().where(aql.eq(\"$.label\", \"Individual\")).outEdge(\"drugTherapyFrom\").distinct(\"$.to\").render([\"$.to\"]))"
   ]
  },
  {
   "cell_type": "code",
   "execution_count": null,
   "metadata": {},
   "outputs": [],
   "source": [
    "q = O.query().V().where(aql.eq(\"_label\", \"Compound\"))\n",
    "for i in q:\n",
    "    print i"
   ]
  },
  {
   "cell_type": "code",
   "execution_count": null,
   "metadata": {},
   "outputs": [],
   "source": [
    "q = O.query().V(\"compound:UNKNOWN:oxaliplatin\").inEdge().distinct(\"_label\").render([\"_label\"])\n",
    "print list(q)"
   ]
  },
  {
   "cell_type": "code",
   "execution_count": null,
   "metadata": {},
   "outputs": [],
   "source": [
    "q =  O.query().V(\"compound:UNKNOWN:oxaliplatin\").inEdge(\"sameAs\")\n",
    "print list(q)"
   ]
  },
  {
   "cell_type": "code",
   "execution_count": null,
   "metadata": {},
   "outputs": [],
   "source": [
    "print list(O.query().V(\"compound:UNKNOWN:BRD-M14820059\"))"
   ]
  },
  {
   "cell_type": "code",
   "execution_count": null,
   "metadata": {},
   "outputs": [],
   "source": [
    "q = O.query().V().where(aql.eq(\"_label\", \"ResponseCurve\")).aggregate(aql.term(\"test\", \"ResponseCurve\", \"source\"))\n",
    "print list(q)"
   ]
  },
  {
   "cell_type": "code",
   "execution_count": null,
   "metadata": {},
   "outputs": [],
   "source": [
    "print O.aggregate(aql.term(\"test\", \"ResponseCurve\", \"responseType\"))"
   ]
  },
  {
   "cell_type": "code",
   "execution_count": null,
   "metadata": {},
   "outputs": [],
   "source": []
  }
 ],
 "metadata": {
  "kernelspec": {
   "display_name": "Python 3",
   "language": "python",
   "name": "python3"
  },
  "language_info": {
   "codemirror_mode": {
    "name": "ipython",
    "version": 3
   },
   "file_extension": ".py",
   "mimetype": "text/x-python",
   "name": "python",
   "nbconvert_exporter": "python",
   "pygments_lexer": "ipython3",
   "version": "3.7.3"
  }
 },
 "nbformat": 4,
 "nbformat_minor": 2
}
