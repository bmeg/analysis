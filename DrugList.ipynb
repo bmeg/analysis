{
 "cells": [
  {
   "cell_type": "raw",
   "metadata": {},
   "source": [
    "---\n",
    "title: Get compound Information\n",
    "draft: True\n",
    "authors:\n",
    "- kellrott\n",
    "- adamstruck\n",
    "tags:\n",
    "- ccle\n",
    "- drug response\n",
    "created_at: 2018-05-09\n",
    "updated_at: 2020-01-14\n",
    "tldr: Get info about CCLE drug response experiments\n",
    "---"
   ]
  },
  {
   "cell_type": "code",
   "execution_count": 36,
   "metadata": {},
   "outputs": [],
   "source": [
    "import json\n",
    "import gripql\n",
    "\n",
    "conn = gripql.Connection(\"https://bmeg.io/api\", credential_file=\"bmeg_credentials.json\")\n",
    "G = conn.graph(\"rc5\")"
   ]
  },
  {
   "cell_type": "code",
   "execution_count": 33,
   "metadata": {},
   "outputs": [
    {
     "name": "stderr",
     "output_type": "stream",
     "text": [
      "[INFO]\t2020-01-14 14:00:13,305\t11,670 results received in 4 seconds\n"
     ]
    }
   ],
   "source": [
    "responses = G.query().V(\"Program:CCLE\").out(\"projects\").out(\"cases\").out(\"samples\").\\\n",
    "    out(\"aliquots\").as_(\"aliquot\").\\\n",
    "    out(\"drug_response\").as_(\"resp\").\\\n",
    "    out(\"compounds\").as_(\"compound\").\\\n",
    "    render({\"aliquot_id\": \"$aliquot._gid\",\n",
    "            \"compound_id\": \"$compound._gid\",\n",
    "            \"compound\": \"$compound._data\",\n",
    "            \"drug_response_id\": \"$resp._gid\", \n",
    "            \"drug_response\": \"$resp._data\"}).\\\n",
    "    execute()"
   ]
  },
  {
   "cell_type": "code",
   "execution_count": 34,
   "metadata": {},
   "outputs": [
    {
     "data": {
      "text/plain": [
       "<AttrDict({'approved_countries': [], 'chebi_id': 'CHEBI:91338', 'chembl_id': 'CHEMBL509032', 'id_source': 'PUBCHEM', 'inchi': 'InChI=1S/C30H40ClN7O3S/c1-21(2)42(39,40)28-8-6-5-7-26(28)33-29-24(31)20-32-30(35-29)34-25-10-9-23(19-27(25)41-4)37-13-11-22(12-14-37)38-17-15-36(3)16-18-38/h5-10,19-22H,11-18H2,1-4H3,(H2,32,33,34,35)', 'inchi_key': 'QQWUGDVOUVUTOY-UHFFFAOYSA-N', 'project_id': 'Project:Reference', 'pubchem_id': 'CID16038120', 'source_url': 'http://mychem.info/v1/query?q=pubchem.cid:\"16038120\"&fields=chebi.id,chebi.inchi,chebi.inchi_key,chebi.name,chembl.molecule_chembl_id,chembl.pref_name,chembl.inchi,chembl.inchi_key,chembl.molecule_synonyms,chembl.usan_stem_definition,pubchem.cid,pubchem.inchi,pubchem.inchi_key,drugbank.id,drugbank.inchi,drugbank.inchi_key,drugbank.products.approved,drugbank.products.country,drugbank.taxonomy.class,drugbank.taxonomy.direct-parent,drugbank.taxonomy.kingdom,drugbank.taxonomy.subclass,drugbank.taxonomy.superclass,drugbank.taxonomy.description&size=1', 'submitter_id': 'CHEMBL509032', 'synonym': '16038120'})>"
      ]
     },
     "execution_count": 34,
     "metadata": {},
     "output_type": "execute_result"
    }
   ],
   "source": []
  },
  {
   "cell_type": "code",
   "execution_count": 46,
   "metadata": {},
   "outputs": [
    {
     "name": "stdout",
     "output_type": "stream",
     "text": [
      "# compounds: 24\n",
      "# cell lines: 504\n"
     ]
    }
   ],
   "source": [
    "c = set()\n",
    "a = set()\n",
    "for resp in responses:\n",
    "    c.add(resp.compound_id)\n",
    "    a.add(resp.aliquot_id)\n",
    "    \n",
    "print(\"# compounds:\",len(c))\n",
    "print(\"# cell lines:\",len(a))"
   ]
  },
  {
   "cell_type": "code",
   "execution_count": 44,
   "metadata": {},
   "outputs": [
    {
     "name": "stdout",
     "output_type": "stream",
     "text": [
      "{\n",
      "  \"approved_countries\": [],\n",
      "  \"chebi_id\": \"CHEBI:91338\",\n",
      "  \"chembl_id\": \"CHEMBL509032\",\n",
      "  \"id_source\": \"PUBCHEM\",\n",
      "  \"inchi\": \"InChI=1S/C30H40ClN7O3S/c1-21(2)42(39,40)28-8-6-5-7-26(28)33-29-24(31)20-32-30(35-29)34-25-10-9-23(19-27(25)41-4)37-13-11-22(12-14-37)38-17-15-36(3)16-18-38/h5-10,19-22H,11-18H2,1-4H3,(H2,32,33,34,35)\",\n",
      "  \"inchi_key\": \"QQWUGDVOUVUTOY-UHFFFAOYSA-N\",\n",
      "  \"project_id\": \"Project:Reference\",\n",
      "  \"pubchem_id\": \"CID16038120\",\n",
      "  \"source_url\": \"http://mychem.info/v1/query?q=pubchem.cid:\\\"16038120\\\"&fields=chebi.id,chebi.inchi,chebi.inchi_key,chebi.name,chembl.molecule_chembl_id,chembl.pref_name,chembl.inchi,chembl.inchi_key,chembl.molecule_synonyms,chembl.usan_stem_definition,pubchem.cid,pubchem.inchi,pubchem.inchi_key,drugbank.id,drugbank.inchi,drugbank.inchi_key,drugbank.products.approved,drugbank.products.country,drugbank.taxonomy.class,drugbank.taxonomy.direct-parent,drugbank.taxonomy.kingdom,drugbank.taxonomy.subclass,drugbank.taxonomy.superclass,drugbank.taxonomy.description&size=1\",\n",
      "  \"submitter_id\": \"CHEMBL509032\",\n",
      "  \"synonym\": \"16038120\"\n",
      "}\n"
     ]
    }
   ],
   "source": [
    "print(json.dumps(responses[1].compound.to_dict(), indent=2))"
   ]
  },
  {
   "cell_type": "code",
   "execution_count": null,
   "metadata": {},
   "outputs": [],
   "source": []
  }
 ],
 "metadata": {
  "kernelspec": {
   "display_name": "Python 3",
   "language": "python",
   "name": "python3"
  },
  "language_info": {
   "codemirror_mode": {
    "name": "ipython",
    "version": 3
   },
   "file_extension": ".py",
   "mimetype": "text/x-python",
   "name": "python",
   "nbconvert_exporter": "python",
   "pygments_lexer": "ipython3",
   "version": "3.7.6"
  }
 },
 "nbformat": 4,
 "nbformat_minor": 2
}
