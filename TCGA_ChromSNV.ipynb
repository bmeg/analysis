{
 "cells": [
  {
   "cell_type": "raw",
   "metadata": {},
   "source": [
    "---\n",
    "title: Cohort Genomics\n",
    "weight: 64\n",
    "authors:\n",
    "- kellrott\n",
    "tags:\n",
    "- tcga\n",
    "- genomics\n",
    "created_at: 2019-07-26\n",
    "updated_at: 2019-07-26\n",
    "tldr: Count the number of mutations per chromosome in the TCGA-BRCA cohort\n",
    "---"
   ]
  },
  {
   "cell_type": "markdown",
   "metadata": {},
   "source": [
    "Connect to BMEG server"
   ]
  },
  {
   "cell_type": "code",
   "execution_count": 30,
   "metadata": {},
   "outputs": [],
   "source": [
    "import matplotlib.pyplot as plt\n",
    "import gripql\n",
    "conn = gripql.Connection(\"https://bmeg.io/api\", credential_file=\"bmeg_credentials.json\")\n",
    "O = conn.graph(\"bmeg_rc2\")"
   ]
  },
  {
   "cell_type": "markdown",
   "metadata": {},
   "source": [
    "Do a query that starts on the TCGA BRCA cohort, goes though Cases -> Samples -> Aliquots -> SomaticCallsets -> Alleles.\n",
    "Once at the alleles, do an aggrigation to count the number of times each chromsome occurs"
   ]
  },
  {
   "cell_type": "code",
   "execution_count": 24,
   "metadata": {},
   "outputs": [
    {
     "name": "stderr",
     "output_type": "stream",
     "text": [
      "[INFO]\t2019-07-26 18:41:25,205\t1 results received in 7 seconds\n"
     ]
    }
   ],
   "source": [
    "q = O.query().V(\"Project:TCGA-BRCA\").out(\"cases\").out(\"samples\")\n",
    "q = q.has(gripql.eq(\"gdc_attributes.sample_type\", \"Primary Tumor\"))\n",
    "q = q.out(\"aliquots\").out(\"somatic_callsets\").out(\"alleles\")\n",
    "q = q.has(gripql.eq(\"type\", \"SNP\"))\n",
    "q = q.aggregate(gripql.term(\"chrom\", \"chromosome\"))\n",
    "res = list(q)"
   ]
  },
  {
   "cell_type": "markdown",
   "metadata": {},
   "source": [
    "Visualize the results"
   ]
  },
  {
   "cell_type": "code",
   "execution_count": 31,
   "metadata": {},
   "outputs": [
    {
     "data": {
      "text/plain": [
       "<BarContainer object of 24 artists>"
      ]
     },
     "execution_count": 31,
     "metadata": {},
     "output_type": "execute_result"
    },
    {
     "data": {
      "image/png": "[encoded data removed]",
      "text/plain": [
       "<Figure size 432x288 with 1 Axes>"
      ]
     },
     "metadata": {
      "needs_background": "light"
     },
     "output_type": "display_data"
    }
   ],
   "source": [
    "name = []\n",
    "count = []\n",
    "for i in res[0].chrom.buckets:\n",
    "    name.append(i[\"key\"])\n",
    "    count.append(i[\"value\"])\n",
    "plt.bar(name, count, width=0.35)"
   ]
  }
 ],
 "metadata": {
  "kernelspec": {
   "display_name": "Python 3",
   "language": "python",
   "name": "python3"
  },
  "language_info": {
   "codemirror_mode": {
    "name": "ipython",
    "version": 3
   },
   "file_extension": ".py",
   "mimetype": "text/x-python",
   "name": "python",
   "nbconvert_exporter": "python",
   "pygments_lexer": "ipython3",
   "version": "3.7.2"
  }
 },
 "nbformat": 4,
 "nbformat_minor": 2
}
