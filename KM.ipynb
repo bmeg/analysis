{
 "cells": [
  {
   "cell_type": "raw",
   "metadata": {},
   "source": [
    "---\n",
    "title: Kaplan Meier\n",
    "draft: True\n",
    "authors:\n",
    "- kellrott\n",
    "tags:\n",
    "- tcga\n",
    "created_at: 2018-05-10\n",
    "updated_at: 2018-05-10\n",
    "tldr: Make Kaplan Meier curves using TCGA data\n",
    "---"
   ]
  },
  {
   "cell_type": "code",
   "execution_count": 1,
   "metadata": {},
   "outputs": [],
   "source": [
    "%matplotlib inline"
   ]
  },
  {
   "cell_type": "code",
   "execution_count": 3,
   "metadata": {},
   "outputs": [],
   "source": [
    "from lifelines import KaplanMeierFitter\n",
    "import pandas\n",
    "import gripql\n",
    "conn = gripql.Connection(\"http://grip.compbio.ohsu.edu\")\n",
    "O = conn.graph(\"bmeg_rc1_2\")"
   ]
  },
  {
   "cell_type": "code",
   "execution_count": 6,
   "metadata": {},
   "outputs": [
    {
     "name": "stderr",
     "output_type": "stream",
     "text": [
      "[INFO]\t2019-02-22 09:16:18,985\t2 results received in 0 seconds\n"
     ]
    },
    {
     "name": "stdout",
     "output_type": "stream",
     "text": [
      "[<AttrDict({'gid': 'Case:6412854a-f874-469e-9d1f-8bd3ae5bd41d', 'label': 'Case', 'data': {'case_id': '6412854a-f874-469e-9d1f-8bd3ae5bd41d', 'gdc_attributes': {'demographic': {'created_datetime': None, 'demographic_id': '28997563-c9b6-5c32-903e-28e75f989979', 'ethnicity': 'not reported', 'gender': 'female', 'race': 'not reported', 'state': 'released', 'submitter_id': 'TCGA-A8-A08R_demographic', 'updated_datetime': '2018-09-06T13:49:20.245333-05:00', 'year_of_birth': 1956, 'year_of_death': None}, 'diagnoses': [{'age_at_diagnosis': 19298, 'classification_of_tumor': 'not reported', 'created_datetime': None, 'days_to_birth': -19298, 'days_to_death': None, 'days_to_last_follow_up': 30, 'days_to_last_known_disease_status': None, 'days_to_recurrence': None, 'diagnosis_id': 'f22329f5-b763-5fce-b311-69dad473af6d', 'last_known_disease_status': 'not reported', 'morphology': '8500/3', 'primary_diagnosis': 'Infiltrating duct carcinoma, NOS', 'prior_malignancy': 'not reported', 'progression_or_recurrence': 'not reported', 'site_of_resection_or_biopsy': 'Breast, NOS', 'state': 'released', 'submitter_id': 'TCGA-A8-A08R_diagnosis', 'tissue_or_organ_of_origin': 'Breast, NOS', 'treatments': [{'created_datetime': None, 'state': 'released', 'submitter_id': 'TCGA-A8-A08R_treatment', 'therapeutic_agents': None, 'treatment_id': 'c4762fb7-f2d9-5816-88da-8959f56f7297', 'treatment_intent_type': None, 'treatment_or_therapy': None, 'updated_datetime': '2018-09-06T13:49:20.245333-05:00'}], 'tumor_grade': 'not reported', 'tumor_stage': 'stage iib', 'updated_datetime': '2018-09-06T13:49:20.245333-05:00', 'vital_status': 'alive'}], 'disease_type': 'Ductal and Lobular Neoplasms', 'primary_site': 'Breast', 'project': {'dbgap_accession_number': None, 'disease_type': ['Adnexal and Skin Appendage Neoplasms', 'Basal Cell Neoplasms', 'Adenomas and Adenocarcinomas', 'Cystic, Mucinous and Serous Neoplasms', 'Epithelial Neoplasms, NOS', 'Squamous Cell Neoplasms', 'Fibroepithelial Neoplasms', 'Ductal and Lobular Neoplasms', 'Complex Epithelial Neoplasms'], 'name': 'Breast Invasive Carcinoma', 'primary_site': ['Breast'], 'program': {'dbgap_accession_number': 'phs000178', 'name': 'TCGA', 'program_id': 'b80aa962-9650-5110-b3eb-bd087da808db'}, 'project_id': 'TCGA-BRCA', 'releasable': False, 'released': True, 'state': 'open'}, 'summary': {'data_categories': [{'data_category': 'Transcriptome Profiling', 'file_count': 5}, {'data_category': 'Copy Number Variation', 'file_count': 5}, {'data_category': 'Simple Nucleotide Variation', 'file_count': 16}, {'data_category': 'DNA Methylation', 'file_count': 1}, {'data_category': 'Clinical', 'file_count': 10}, {'data_category': 'Sequencing Reads', 'file_count': 4}, {'data_category': 'Biospecimen', 'file_count': 15}], 'experimental_strategies': [{'experimental_strategy': 'miRNA-Seq', 'file_count': 3}, {'experimental_strategy': 'WXS', 'file_count': 18}, {'experimental_strategy': 'Diagnostic Slide', 'file_count': 1}, {'experimental_strategy': 'RNA-Seq', 'file_count': 4}, {'experimental_strategy': 'Genotyping Array', 'file_count': 5}, {'experimental_strategy': 'Tissue Slide', 'file_count': 2}, {'experimental_strategy': 'Methylation Array', 'file_count': 1}], 'file_count': 56, 'file_size': 49626941422}}}})>, <AttrDict({'gid': 'Case:5c8983f2-9788-4dfa-971c-3ec457b6166e', 'label': 'Case', 'data': {'case_id': '5c8983f2-9788-4dfa-971c-3ec457b6166e', 'gdc_attributes': {'demographic': {'created_datetime': None, 'demographic_id': 'a47d87fc-196c-5d24-86a2-90f165aa83b5', 'ethnicity': 'not hispanic or latino', 'gender': 'female', 'race': 'black or african american', 'state': 'released', 'submitter_id': 'TCGA-A2-A0CL_demographic', 'updated_datetime': '2018-09-06T13:49:20.245333-05:00', 'year_of_birth': 1969, 'year_of_death': None}, 'diagnoses': [{'age_at_diagnosis': 13556, 'classification_of_tumor': 'not reported', 'created_datetime': None, 'days_to_birth': -13556, 'days_to_death': None, 'days_to_last_follow_up': 3015, 'days_to_last_known_disease_status': None, 'days_to_recurrence': None, 'diagnosis_id': '1ae80483-c3e1-59b1-858d-01b68c3581a2', 'last_known_disease_status': 'not reported', 'morphology': '8500/3', 'primary_diagnosis': 'Infiltrating duct carcinoma, NOS', 'prior_malignancy': 'not reported', 'progression_or_recurrence': 'not reported', 'site_of_resection_or_biopsy': 'Breast, NOS', 'state': 'released', 'submitter_id': 'TCGA-A2-A0CL_diagnosis', 'tissue_or_organ_of_origin': 'Breast, NOS', 'treatments': [{'created_datetime': None, 'state': 'released', 'submitter_id': 'TCGA-A2-A0CL_treatment', 'therapeutic_agents': None, 'treatment_id': '04b576e0-97a0-5b68-bf26-cdd790e155fa', 'treatment_intent_type': None, 'treatment_or_therapy': None, 'updated_datetime': '2018-09-06T13:49:20.245333-05:00'}], 'tumor_grade': 'not reported', 'tumor_stage': 'stage iiia', 'updated_datetime': '2018-09-06T13:49:20.245333-05:00', 'vital_status': 'alive'}], 'disease_type': 'Ductal and Lobular Neoplasms', 'primary_site': 'Breast', 'project': {'dbgap_accession_number': None, 'disease_type': ['Adnexal and Skin Appendage Neoplasms', 'Basal Cell Neoplasms', 'Adenomas and Adenocarcinomas', 'Cystic, Mucinous and Serous Neoplasms', 'Epithelial Neoplasms, NOS', 'Squamous Cell Neoplasms', 'Fibroepithelial Neoplasms', 'Ductal and Lobular Neoplasms', 'Complex Epithelial Neoplasms'], 'name': 'Breast Invasive Carcinoma', 'primary_site': ['Breast'], 'program': {'dbgap_accession_number': 'phs000178', 'name': 'TCGA', 'program_id': 'b80aa962-9650-5110-b3eb-bd087da808db'}, 'project_id': 'TCGA-BRCA', 'releasable': False, 'released': True, 'state': 'open'}, 'summary': {'data_categories': [{'data_category': 'Transcriptome Profiling', 'file_count': 5}, {'data_category': 'Copy Number Variation', 'file_count': 5}, {'data_category': 'Simple Nucleotide Variation', 'file_count': 16}, {'data_category': 'DNA Methylation', 'file_count': 1}, {'data_category': 'Clinical', 'file_count': 10}, {'data_category': 'Sequencing Reads', 'file_count': 4}, {'data_category': 'Biospecimen', 'file_count': 15}], 'experimental_strategies': [{'experimental_strategy': 'miRNA-Seq', 'file_count': 3}, {'experimental_strategy': 'WXS', 'file_count': 18}, {'experimental_strategy': 'Diagnostic Slide', 'file_count': 1}, {'experimental_strategy': 'RNA-Seq', 'file_count': 4}, {'experimental_strategy': 'Genotyping Array', 'file_count': 5}, {'experimental_strategy': 'Tissue Slide', 'file_count': 2}, {'experimental_strategy': 'Methylation Array', 'file_count': 1}], 'file_count': 56, 'file_size': 45891767846}}}})>]\n"
     ]
    }
   ],
   "source": [
    "q = O.query().V(\"Project:TCGA-BRCA\").in_(\"InProject\")\n",
    "\n",
    "print(list(q.limit(2)))\n"
   ]
  },
  {
   "cell_type": "code",
   "execution_count": 48,
   "metadata": {},
   "outputs": [
    {
     "data": {
      "text/plain": [
       "<matplotlib.axes._subplots.AxesSubplot at 0x110c5f810>"
      ]
     },
     "execution_count": 48,
     "metadata": {},
     "output_type": "execute_result"
    },
    {
     "data": {
      "image/png": "[encoded data removed]",
      "text/plain": [
       "<Figure size 432x288 with 1 Axes>"
      ]
     },
     "metadata": {},
     "output_type": "display_data"
    }
   ],
   "source": []
  },
  {
   "cell_type": "code",
   "execution_count": null,
   "metadata": {},
   "outputs": [],
   "source": []
  }
 ],
 "metadata": {
  "kernelspec": {
   "display_name": "Python 3",
   "language": "python",
   "name": "python3"
  },
  "language_info": {
   "codemirror_mode": {
    "name": "ipython",
    "version": 3
   },
   "file_extension": ".py",
   "mimetype": "text/x-python",
   "name": "python",
   "nbconvert_exporter": "python",
   "pygments_lexer": "ipython3",
   "version": "3.7.2"
  }
 },
 "nbformat": 4,
 "nbformat_minor": 2
}
