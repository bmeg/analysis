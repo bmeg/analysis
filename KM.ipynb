{
 "cells": [
  {
   "cell_type": "code",
   "execution_count": 1,
   "metadata": {},
   "outputs": [],
   "source": [
    "import pandas\n",
    "import aql\n",
    "conn = aql.Connection(\"http://arachne.compbio.ohsu.edu\")\n",
    "O = conn.graph(\"bmeg\")"
   ]
  },
  {
   "cell_type": "code",
   "execution_count": 7,
   "metadata": {},
   "outputs": [],
   "source": [
    "q = O.query().V().where(aql.eq(\"$.label\", \"Individual\"))\n",
    "#q = q.where(aql.and_(aql.eq(\"source\", \"tcga\"), aql.eq(\"disease_code\", \"KIRC\")))\n",
    "q = q.where(aql.and_(aql.eq(\"source\", \"tcga\"), aql.eq(\"vital_status\", \"Dead\")))\n",
    "\n",
    "\n",
    "for row in q:\n",
    "    #for k in row['vertex']['data']:\n",
    "    #    if 'day' in k:\n",
    "    #        a.add( k )\n",
    "    status = row['vertex']['data'].get('vital_status', None)\n",
    "    last = row['vertex']['data'].get('last_contact_days_to', None)\n",
    "    initial = row['vertex']['data'].get('initial_pathologic_dx_days_to', None)\n",
    "    death = row['vertex']['data'].get('death_days_to', None)\n",
    "    alive = row['vertex']['data'].get('days_to_last_known_alive', None)\n",
    "    if status == \"Dead\":\n",
    "        print status, initial, last, death, alive\n",
    "    #print row['vertex']['data']"
   ]
  },
  {
   "cell_type": "code",
   "execution_count": 2,
   "metadata": {},
   "outputs": [],
   "source": [
    "a = [100, 150, 155, 180, 190, 300, 350]"
   ]
  },
  {
   "cell_type": "code",
   "execution_count": 3,
   "metadata": {},
   "outputs": [],
   "source": [
    "%matplotlib inline"
   ]
  },
  {
   "cell_type": "code",
   "execution_count": 4,
   "metadata": {},
   "outputs": [],
   "source": [
    "from lifelines import KaplanMeierFitter\n",
    "kmf = KaplanMeierFitter()"
   ]
  },
  {
   "cell_type": "code",
   "execution_count": 5,
   "metadata": {},
   "outputs": [
    {
     "data": {
      "text/plain": [
       "<matplotlib.axes._subplots.AxesSubplot at 0x10c156710>"
      ]
     },
     "execution_count": 5,
     "metadata": {},
     "output_type": "execute_result"
    },
    {
     "data": {
      "image/png": "[encoded data removed]",
      "text/plain": [
       "<Figure size 432x288 with 1 Axes>"
      ]
     },
     "metadata": {},
     "output_type": "display_data"
    }
   ],
   "source": [
    "kmf.fit(a)\n",
    "kmf.plot()\n"
   ]
  },
  {
   "cell_type": "code",
   "execution_count": null,
   "metadata": {},
   "outputs": [],
   "source": []
  }
 ],
 "metadata": {
  "kernelspec": {
   "display_name": "Python 2",
   "language": "python",
   "name": "python2"
  },
  "language_info": {
   "codemirror_mode": {
    "name": "ipython",
    "version": 2
   },
   "file_extension": ".py",
   "mimetype": "text/x-python",
   "name": "python",
   "nbconvert_exporter": "python",
   "pygments_lexer": "ipython2",
   "version": "2.7.10"
  }
 },
 "nbformat": 4,
 "nbformat_minor": 2
}
