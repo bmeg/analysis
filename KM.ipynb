{
 "cells": [
  {
   "cell_type": "raw",
   "metadata": {},
   "source": [
    "---\n",
    "title: Kaplan Meier\n",
    "draft: True\n",
    "authors:\n",
    "- kellrott\n",
    "tags:\n",
    "- tcga\n",
    "created_at: 2018-05-10\n",
    "updated_at: 2018-05-10\n",
    "tldr: Make Kaplan Meier curves using TCGA data\n",
    "---"
   ]
  },
  {
   "cell_type": "markdown",
   "metadata": {},
   "source": [
    "Install the [lifelines](https://lifelines.readthedocs.io) library"
   ]
  },
  {
   "cell_type": "code",
   "execution_count": null,
   "metadata": {},
   "outputs": [],
   "source": [
    "!pip install lifelines"
   ]
  },
  {
   "cell_type": "code",
   "execution_count": 56,
   "metadata": {},
   "outputs": [],
   "source": [
    "from lifelines import KaplanMeierFitter\n",
    "import matplotlib.pyplot as plt\n",
    "\n",
    "import pandas\n",
    "import gripql\n",
    "conn = gripql.Connection(\"https://bmeg.io/api\", credential_file=\"bmeg_credentials.json\")\n",
    "O = conn.graph(\"bmeg_rc2\")"
   ]
  },
  {
   "cell_type": "markdown",
   "metadata": {},
   "source": [
    "Look at the TCGA-BRCA cohort, and find all of the cases where there is a recorded `days_to_death`"
   ]
  },
  {
   "cell_type": "code",
   "execution_count": 40,
   "metadata": {},
   "outputs": [
    {
     "name": "stderr",
     "output_type": "stream",
     "text": [
      "[INFO]\t2019-07-26 21:19:47,291\t1,098 results received in 0 seconds\n"
     ]
    }
   ],
   "source": [
    "q = O.query().V(\"Project:TCGA-BRCA\").out(\"cases\")\n",
    "\n",
    "data = {}\n",
    "for i in q:\n",
    "    if i.data.gdc_attributes.demographic is not None and i.data.gdc_attributes.demographic.vital_status == \"Dead\":\n",
    "        if 'days_to_death' in i.data.gdc_attributes.demographic:\n",
    "            data[ i.gid ] = i.data.gdc_attributes.demographic.days_to_death\n",
    "survival = pandas.Series(data)"
   ]
  },
  {
   "cell_type": "markdown",
   "metadata": {},
   "source": [
    "Gene ensembl gene id for `TP53`"
   ]
  },
  {
   "cell_type": "code",
   "execution_count": 37,
   "metadata": {},
   "outputs": [
    {
     "name": "stderr",
     "output_type": "stream",
     "text": [
      "[INFO]\t2019-07-26 21:18:49,921\t1 results received in 0 seconds\n"
     ]
    },
    {
     "name": "stdout",
     "output_type": "stream",
     "text": [
      "ENSG00000141510\n"
     ]
    }
   ],
   "source": [
    "gene = list(O.query().V().hasLabel(\"Gene\").has(gripql.eq(\"symbol\", \"TP53\")))[0].data.gene_id\n",
    "print(gene)"
   ]
  },
  {
   "cell_type": "markdown",
   "metadata": {},
   "source": [
    "Starting from the cases with attached survival information, find all of the cases that have a mutation in the gene on interest"
   ]
  },
  {
   "cell_type": "code",
   "execution_count": 41,
   "metadata": {},
   "outputs": [
    {
     "name": "stderr",
     "output_type": "stream",
     "text": [
      "[INFO]\t2019-07-26 21:20:14,268\t52 results received in 0 seconds\n"
     ]
    }
   ],
   "source": [
    "q = O.query().V(list(survival.keys())).as_(\"case\").out(\"samples\").out(\"aliquots\").out(\"somatic_callsets\").outE(\"alleles\")\n",
    "q = q.has(gripql.eq(\"ensembl_gene\", gene))\n",
    "q = q.select(\"case\").distinct(\"$._gid\").render(\"$._gid\")\n",
    "mut_cases = list(q)"
   ]
  },
  {
   "cell_type": "markdown",
   "metadata": {},
   "source": [
    "Plot a Kaplan Meirer curve to demonstrate the different in survival of the somatic mutation group and those with no somatic mutation."
   ]
  },
  {
   "cell_type": "code",
   "execution_count": 65,
   "metadata": {},
   "outputs": [
    {
     "data": {
      "text/plain": [
       "<matplotlib.axes._subplots.AxesSubplot at 0x7f835d6eb160>"
      ]
     },
     "execution_count": 65,
     "metadata": {},
     "output_type": "execute_result"
    },
    {
     "data": {
      "image/png": "[encoded data removed]",
      "text/plain": [
       "<Figure size 432x288 with 1 Axes>"
      ]
     },
     "metadata": {
      "needs_background": "light"
     },
     "output_type": "display_data"
    }
   ],
   "source": [
    "kmf = KaplanMeierFitter()\n",
    "\n",
    "ax = plt.subplot(111)\n",
    "kmf.fit(survival[mut_cases], label=\"%s Mutations\" % (gene))\n",
    "ax = kmf.plot(ax=ax)\n",
    "kmf.fit(survival[ survival.index.difference(mut_cases) ], label=\"No Mutation\")\n",
    "kmf.plot(ax=ax)"
   ]
  },
  {
   "cell_type": "code",
   "execution_count": null,
   "metadata": {},
   "outputs": [],
   "source": []
  }
 ],
 "metadata": {
  "kernelspec": {
   "display_name": "Python 3",
   "language": "python",
   "name": "python3"
  },
  "language_info": {
   "codemirror_mode": {
    "name": "ipython",
    "version": 3
   },
   "file_extension": ".py",
   "mimetype": "text/x-python",
   "name": "python",
   "nbconvert_exporter": "python",
   "pygments_lexer": "ipython3",
   "version": "3.7.3"
  }
 },
 "nbformat": 4,
 "nbformat_minor": 2
}
