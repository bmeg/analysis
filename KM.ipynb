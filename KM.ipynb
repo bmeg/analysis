{
 "cells": [
  {
   "cell_type": "raw",
   "metadata": {},
   "source": [
    "---\n",
    "title: Kaplan Meier\n",
    "authors:\n",
    "- kellrott\n",
    "tags:\n",
    "- tcga\n",
    "created_at: 2018-05-10\n",
    "updated_at: 2018-05-10\n",
    "tldr: Make Kaplan Meier curves using TCGA data\n",
    "---"
   ]
  },
  {
   "cell_type": "code",
   "execution_count": null,
   "metadata": {},
   "outputs": [],
   "source": [
    "%matplotlib inline"
   ]
  },
  {
   "cell_type": "code",
   "execution_count": 8,
   "metadata": {},
   "outputs": [],
   "source": [
    "from lifelines import KaplanMeierFitter\n",
    "import pandas\n",
    "import aql\n",
    "conn = aql.Connection(\"http://arachne.compbio.ohsu.edu\")\n",
    "O = conn.graph(\"bmeg\")"
   ]
  },
  {
   "cell_type": "code",
   "execution_count": 14,
   "metadata": {},
   "outputs": [
    {
     "name": "stdout",
     "output_type": "stream",
     "text": [
      "Dead 0 None 571 None\n",
      "Dead 0 None 1111 None\n",
      "Dead 0 None 106 None\n",
      "Dead 0 None 1337 None\n",
      "Dead 0 None 1625 None\n",
      "Dead 0 None 727 None\n",
      "Dead 0 None 182 None\n",
      "Dead 0 None 2343 None\n",
      "Dead 0 None 1912 None\n",
      "Dead 0 None 480 None\n",
      "Dead 0 None 1598 None\n",
      "Dead 0 None 1034 None\n",
      "Dead 0 None 2752 None\n",
      "Dead 0 None 77 None\n",
      "Dead 0 None 204 None\n",
      "Dead 0 None 41 None\n",
      "Dead 0 None 62 None\n",
      "Dead 0 None 793 None\n",
      "Dead 0 None 552 None\n",
      "Dead 0 None 1371 None\n",
      "Dead 0 59 59 45\n",
      "Dead 0 841 841 822\n",
      "Dead 0 None 1404 None\n",
      "Dead 0 None 1913 None\n",
      "Dead 0 None 1191 None\n",
      "Dead 0 None 2830 None\n",
      "Dead 0 None 329 None\n",
      "Dead 0 None 1584 None\n",
      "Dead 0 None 578 None\n",
      "Dead 0 None 1121 None\n",
      "Dead 0 None 485 None\n",
      "Dead 0 None 168 None\n",
      "Dead 0 None 1590 None\n",
      "Dead 0 None 822 None\n",
      "Dead 0 None 51 None\n",
      "Dead 0 None 375 None\n",
      "Dead 0 None 344 None\n",
      "Dead 0 None 1097 None\n",
      "Dead 0 None 99 None\n",
      "Dead 0 None 646 None\n",
      "Dead 0 None 137 None\n",
      "Dead 0 None 166 None\n",
      "Dead 0 None 1734 None\n",
      "Dead 0 None 963 None\n",
      "Dead 0 None 1023 None\n",
      "Dead 0 None 1019 None\n",
      "Dead 0 None 1597 None\n",
      "Dead 0 None 233 None\n",
      "Dead 0 None 2973 None\n",
      "Dead 0 None 174 None\n",
      "Dead 0 None 813 None\n",
      "Dead 0 None 1385 None\n",
      "Dead None None 442 None\n",
      "Dead None None 597 None\n",
      "Dead None None 378 None\n",
      "Dead None None 714 None\n",
      "Dead None None 1526 None\n",
      "Dead None None 447 None\n",
      "Dead None None 949 None\n",
      "Dead None None 167 None\n",
      "Dead None None 148 None\n",
      "Dead None 833 838 None\n",
      "Dead None None 142 None\n",
      "Dead None None 291 None\n",
      "Dead None None 167 None\n",
      "Dead None None 911 None\n",
      "Dead None None 203 None\n",
      "Dead None None 2043 None\n",
      "Dead None None 114 None\n",
      "Dead None None 112 None\n",
      "Dead None None 3115 None\n",
      "Dead None None 541 None\n",
      "Dead None None 771 None\n",
      "Dead None None 8 None\n",
      "Dead None None 481 None\n",
      "Dead None None 1591 None\n",
      "Dead None None 685 None\n",
      "Dead None None 522 None\n",
      "Dead None None 317 None\n",
      "Dead None None 550 None\n",
      "Dead None None 667 None\n",
      "Dead None None 418 None\n",
      "Dead None None 361 None\n",
      "Dead None None 810 None\n",
      "Dead 0 None 1422 None\n",
      "Dead 0 None 43 None\n",
      "Dead 0 None 172 None\n",
      "Dead 0 None 743 None\n",
      "Dead 0 None 90 None\n",
      "Dead 0 None 206 None\n",
      "Dead 0 None 59 None\n",
      "Dead 0 None 0 None\n",
      "Dead 0 None 899 None\n",
      "Dead 0 None 153 None\n",
      "Dead 0 228 228 228\n",
      "Dead 0 805 805 None\n",
      "Dead 0 None 61 None\n",
      "Dead 0 236 236 None\n",
      "Dead 0 1849 1849 None\n",
      "Dead 0 None 368 None\n",
      "Dead 0 None 494 None\n",
      "Dead 0 427 427 None\n",
      "Dead 0 None 159 None\n",
      "Dead 0 2475 2475 None\n",
      "Dead 0 None 97 None\n",
      "Dead 0 None 61 None\n",
      "Dead 0 None 496 None\n",
      "Dead 0 None 30 None\n",
      "Dead 0 1518 1518 1518\n",
      "Dead 0 None 715 None\n",
      "Dead 0 None 290 None\n",
      "Dead 0 None 49 None\n",
      "Dead 0 None 122 None\n",
      "Dead 0 None 3253 None\n",
      "Dead 0 506 506 56\n",
      "Dead 0 None 1006 None\n",
      "Dead 0 59 59 4\n",
      "Dead None None 345 None\n",
      "Dead 0 None 340 None\n",
      "Dead 0 None 306 None\n",
      "Dead 0 1874 1874 1854\n",
      "Dead 0 None 1679 None\n",
      "Dead 0 267 1315 267\n",
      "Dead 0 445 445 445\n",
      "Dead 0 1346 1346 518\n",
      "Dead 0 None 180 None\n",
      "Dead 0 None 1344 None\n",
      "Dead 0 None 1856 None\n",
      "Dead 0 None 899 None\n",
      "Dead 0 358 358 358\n",
      "Dead 0 None 1045 None\n",
      "Dead 0 None 2409 None\n",
      "Dead 0 None 678 None\n",
      "Dead 0 None 1423 None\n",
      "Dead 0 None 403 None\n",
      "Dead 0 734 734 726\n",
      "Dead 0 None 153 None\n",
      "Dead 0 None 516 None\n",
      "Dead 0 None 299 None\n",
      "Dead 0 None 12 None\n",
      "Dead 0 965 965 790\n",
      "Dead 0 None 198 None\n",
      "Dead 0 None 47 None\n",
      "Dead 0 None 61 None\n",
      "Dead 0 None 418 None\n",
      "Dead 0 None 89 None\n",
      "Dead 0 None 1975 1944\n",
      "Dead 0 None 835 None\n",
      "Dead None None"
     ]
    },
    {
     "ename": "TypeError",
     "evalue": "int() argument must be a string or a number, not 'NoneType'",
     "output_type": "error",
     "traceback": [
      "\u001b[0;31m---------------------------------------------------------------------------\u001b[0m",
      "\u001b[0;31mTypeError\u001b[0m                                 Traceback (most recent call last)",
      "\u001b[0;32m<ipython-input-14-c7823157ff29>\u001b[0m in \u001b[0;36m<module>\u001b[0;34m()\u001b[0m\n\u001b[1;32m     14\u001b[0m     \u001b[0malive\u001b[0m \u001b[0;34m=\u001b[0m \u001b[0mrow\u001b[0m\u001b[0;34m[\u001b[0m\u001b[0;34m'vertex'\u001b[0m\u001b[0;34m]\u001b[0m\u001b[0;34m[\u001b[0m\u001b[0;34m'data'\u001b[0m\u001b[0;34m]\u001b[0m\u001b[0;34m.\u001b[0m\u001b[0mget\u001b[0m\u001b[0;34m(\u001b[0m\u001b[0;34m'days_to_last_known_alive'\u001b[0m\u001b[0;34m,\u001b[0m \u001b[0mNone\u001b[0m\u001b[0;34m)\u001b[0m\u001b[0;34m\u001b[0m\u001b[0m\n\u001b[1;32m     15\u001b[0m     \u001b[0;32mif\u001b[0m \u001b[0mstatus\u001b[0m \u001b[0;34m==\u001b[0m \u001b[0;34m\"Dead\"\u001b[0m\u001b[0;34m:\u001b[0m\u001b[0;34m\u001b[0m\u001b[0m\n\u001b[0;32m---> 16\u001b[0;31m         \u001b[0;32mprint\u001b[0m \u001b[0mstatus\u001b[0m\u001b[0;34m,\u001b[0m \u001b[0minitial\u001b[0m\u001b[0;34m,\u001b[0m \u001b[0mlast\u001b[0m\u001b[0;34m,\u001b[0m \u001b[0mint\u001b[0m\u001b[0;34m(\u001b[0m\u001b[0mdeath\u001b[0m\u001b[0;34m)\u001b[0m\u001b[0;34m,\u001b[0m \u001b[0malive\u001b[0m\u001b[0;34m\u001b[0m\u001b[0m\n\u001b[0m\u001b[1;32m     17\u001b[0m         \u001b[0mdays\u001b[0m\u001b[0;34m.\u001b[0m\u001b[0mappend\u001b[0m\u001b[0;34m(\u001b[0m\u001b[0mint\u001b[0m\u001b[0;34m(\u001b[0m\u001b[0mdeath\u001b[0m\u001b[0;34m)\u001b[0m\u001b[0;34m)\u001b[0m\u001b[0;34m\u001b[0m\u001b[0m\n\u001b[1;32m     18\u001b[0m     \u001b[0;31m#print row['vertex']['data']\u001b[0m\u001b[0;34m\u001b[0m\u001b[0;34m\u001b[0m\u001b[0m\n",
      "\u001b[0;31mTypeError\u001b[0m: int() argument must be a string or a number, not 'NoneType'"
     ]
    }
   ],
   "source": [
    "q = O.query().V().where(aql.eq(\"$.label\", \"Individual\"))\n",
    "#q = q.where(aql.and_(aql.eq(\"source\", \"tcga\"), aql.eq(\"disease_code\", \"KIRC\")))\n",
    "q = q.where(aql.and_(aql.eq(\"source\", \"tcga\"), aql.eq(\"vital_status\", \"Dead\")))\n",
    "\n",
    "days = []\n",
    "for row in q:\n",
    "    #for k in row['vertex']['data']:\n",
    "    #    if 'day' in k:\n",
    "    #        a.add( k )\n",
    "    status = row['vertex']['data'].get('vital_status', None)\n",
    "    last = row['vertex']['data'].get('last_contact_days_to', None)\n",
    "    initial = row['vertex']['data'].get('initial_pathologic_dx_days_to', None)\n",
    "    death = row['vertex']['data'].get('death_days_to', None)\n",
    "    alive = row['vertex']['data'].get('days_to_last_known_alive', None)\n",
    "    if status == \"Dead\":\n",
    "        #print status, initial, last, int(death), alive\n",
    "        days.append(int(death))\n",
    "    #print row['vertex']['data']"
   ]
  },
  {
   "cell_type": "code",
   "execution_count": 17,
   "metadata": {},
   "outputs": [
    {
     "data": {
      "text/plain": [
       "148"
      ]
     },
     "execution_count": 17,
     "metadata": {},
     "output_type": "execute_result"
    }
   ],
   "source": [
    "len(days)"
   ]
  },
  {
   "cell_type": "code",
   "execution_count": 4,
   "metadata": {},
   "outputs": [],
   "source": [
    "kmf = KaplanMeierFitter()\n",
    "kmf.fit(days)\n",
    "kmf.plot()\n"
   ]
  },
  {
   "cell_type": "code",
   "execution_count": 16,
   "metadata": {},
   "outputs": [
    {
     "data": {
      "text/plain": [
       "<matplotlib.axes._subplots.AxesSubplot at 0x10c251790>"
      ]
     },
     "execution_count": 16,
     "metadata": {},
     "output_type": "execute_result"
    },
    {
     "data": {
      "image/png": "[encoded data removed]",
      "text/plain": [
       "<Figure size 432x288 with 1 Axes>"
      ]
     },
     "metadata": {},
     "output_type": "display_data"
    }
   ],
   "source": []
  },
  {
   "cell_type": "code",
   "execution_count": 19,
   "metadata": {},
   "outputs": [
    {
     "data": {
      "text/plain": [
       "6420"
      ]
     },
     "execution_count": 19,
     "metadata": {},
     "output_type": "execute_result"
    }
   ],
   "source": [
    "q = O.query().V().where(aql.eq(\"$.label\", \"Individual\"))\n",
    "#q = q.where(aql.and_(aql.eq(\"source\", \"tcga\"), aql.eq(\"disease_code\", \"KIRC\")))\n",
    "#q = q.where(aql.and_(aql.eq(\"source\", \"tcga\"), aql.eq(\"vital_status\", \"Dead\")))\n",
    "q = q.where(aql.and_(aql.eq(\"source\", \"tcga\")))\n",
    "len(list(q))"
   ]
  },
  {
   "cell_type": "code",
   "execution_count": null,
   "metadata": {},
   "outputs": [],
   "source": []
  }
 ],
 "metadata": {
  "kernelspec": {
   "display_name": "Python 2",
   "language": "python",
   "name": "python2"
  },
  "language_info": {
   "codemirror_mode": {
    "name": "ipython",
    "version": 2
   },
   "file_extension": ".py",
   "mimetype": "text/x-python",
   "name": "python",
   "nbconvert_exporter": "python",
   "pygments_lexer": "ipython2",
   "version": "2.7.10"
  }
 },
 "nbformat": 4,
 "nbformat_minor": 2
}
