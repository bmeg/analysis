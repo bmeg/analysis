{
 "cells": [
  {
   "cell_type": "raw",
   "metadata": {},
   "source": [
    "---\n",
    "title: Expression Data\n",
    "authors:\n",
    "- kellrott\n",
    "tags:\n",
    "- ccle\n",
    "- drug response\n",
    "created_at: 2018-05-09\n",
    "updated_at: 2018-05-09\n",
    "tldr: Build a pandas matrix of expression data\n",
    "---"
   ]
  },
  {
   "cell_type": "code",
   "execution_count": 6,
   "metadata": {},
   "outputs": [],
   "source": [
    "import seaborn as sns\n",
    "import pandas\n",
    "import gripql\n",
    "conn = gripql.Connection(\"https://bmeg.io/api\", credential_file=\"/tmp/bmeg_credentials.json\")\n",
    "O = conn.graph(\"bmeg_rc1_2\")"
   ]
  },
  {
   "cell_type": "markdown",
   "metadata": {},
   "source": [
    "## Download gene expression values from TCGA-READ cohort and build matrix with submitter id as label"
   ]
  },
  {
   "cell_type": "code",
   "execution_count": 2,
   "metadata": {},
   "outputs": [
    {
     "name": "stderr",
     "output_type": "stream",
     "text": [
      "[INFO]\t2019-03-11 16:34:51,885\t177 results received in 79 seconds\n"
     ]
    }
   ],
   "source": [
    "c = O.query().V(\"Project:TCGA-READ\").in_(\"InProject\").in_(\"SampleFor\").as_(\"sample\")\n",
    "c = c.in_(\"AliquotFor\").in_(\"GeneExpressionOf\").as_(\"exp\")\n",
    "c = c.render( [\"$sample._data.gdc_attributes.submitter_id\", \"$exp._data.values\"])\n",
    "data = {}\n",
    "for row in c.execute(stream=True):\n",
    "    data[row[0]] = row[1]\n",
    "samples = pandas.DataFrame(data).transpose().fillna(0.0)"
   ]
  },
  {
   "cell_type": "code",
   "execution_count": 5,
   "metadata": {},
   "outputs": [
    {
     "data": {
      "text/plain": [
       "TCGA-DC-5869-01A    273.06691\n",
       "TCGA-AF-3913-01A    247.02666\n",
       "TCGA-EF-5831-01A    245.57436\n",
       "TCGA-DC-6683-01A    243.55564\n",
       "TCGA-DC-5337-01A    240.26590\n",
       "Name: ENSG00000000003, dtype: float64"
      ]
     },
     "execution_count": 5,
     "metadata": {},
     "output_type": "execute_result"
    }
   ],
   "source": [
    "samples[\"ENSG00000000003\"].sort_values(ascending=False).head()"
   ]
  },
  {
   "cell_type": "code",
   "execution_count": 8,
   "metadata": {},
   "outputs": [
    {
     "data": {
      "text/plain": [
       "<matplotlib.axes._subplots.AxesSubplot at 0x134257e48>"
      ]
     },
     "execution_count": 8,
     "metadata": {},
     "output_type": "execute_result"
    },
    {
     "data": {
      "image/png": "[encoded data removed]",
      "text/plain": [
       "<Figure size 432x288 with 1 Axes>"
      ]
     },
     "metadata": {
      "needs_background": "light"
     },
     "output_type": "display_data"
    }
   ],
   "source": [
    "sns.kdeplot(samples['ENSG00000000003'], color=\"g\")"
   ]
  },
  {
   "cell_type": "code",
   "execution_count": null,
   "metadata": {},
   "outputs": [],
   "source": []
  }
 ],
 "metadata": {
  "kernelspec": {
   "display_name": "Python 3",
   "language": "python",
   "name": "python3"
  },
  "language_info": {
   "codemirror_mode": {
    "name": "ipython",
    "version": 3
   },
   "file_extension": ".py",
   "mimetype": "text/x-python",
   "name": "python",
   "nbconvert_exporter": "python",
   "pygments_lexer": "ipython3",
   "version": "3.7.2"
  }
 },
 "nbformat": 4,
 "nbformat_minor": 2
}
