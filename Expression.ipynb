{
 "cells": [
  {
   "cell_type": "raw",
   "metadata": {},
   "source": [
    "---\n",
    "title: Expression Data\n",
    "weight: 70\n",
    "authors:\n",
    "- kellrott\n",
    "- adamstruck\n",
    "tags:\n",
    "- tcga\n",
    "- gene expression\n",
    "created_at: 2018-05-09\n",
    "updated_at: 2020-01-14\n",
    "tldr: Build a pandas matrix of expression data\n",
    "---"
   ]
  },
  {
   "cell_type": "code",
   "execution_count": 1,
   "metadata": {},
   "outputs": [],
   "source": [
    "import seaborn as sns\n",
    "import pandas\n",
    "import gripql\n",
    "conn = gripql.Connection(\"https://bmeg.io/api\", credential_file=\"bmeg_credentials.json\")\n",
    "G = conn.graph(\"rc5\")"
   ]
  },
  {
   "cell_type": "markdown",
   "metadata": {},
   "source": [
    "Download gene expression values from TCGA-READ cohort and build matrix with submitter id as label"
   ]
  },
  {
   "cell_type": "code",
   "execution_count": 2,
   "metadata": {},
   "outputs": [
    {
     "name": "stderr",
     "output_type": "stream",
     "text": [
      "[INFO]\t2020-01-14 14:06:01,252\t177 results received in 35 seconds\n"
     ]
    }
   ],
   "source": [
    "c = G.query().V(\"Project:TCGA-READ\").out(\"cases\").out(\"samples\").as_(\"sample\")\n",
    "c = c.out(\"aliquots\").out(\"gene_expressions\").as_(\"exp\")\n",
    "c = c.render( [\"$sample._data.gdc_attributes.submitter_id\", \"$exp._data.values\"])\n",
    "\n",
    "data = {}\n",
    "for row in c.execute(stream=True):\n",
    "    data[row[0]] = row[1]"
   ]
  },
  {
   "cell_type": "markdown",
   "metadata": {},
   "source": [
    "Take the data we downloaded and turn it into a Pandas data frame"
   ]
  },
  {
   "cell_type": "code",
   "execution_count": 3,
   "metadata": {},
   "outputs": [],
   "source": [
    "samples = pandas.DataFrame(data).transpose().fillna(0.0)"
   ]
  },
  {
   "cell_type": "markdown",
   "metadata": {},
   "source": [
    "Take a look at the top corner of the dataframe"
   ]
  },
  {
   "cell_type": "code",
   "execution_count": 4,
   "metadata": {},
   "outputs": [
    {
     "data": {
      "text/html": [
       "<div>\n",
       "<style scoped>\n",
       "    .dataframe tbody tr th:only-of-type {\n",
       "        vertical-align: middle;\n",
       "    }\n",
       "\n",
       "    .dataframe tbody tr th {\n",
       "        vertical-align: top;\n",
       "    }\n",
       "\n",
       "    .dataframe thead th {\n",
       "        text-align: right;\n",
       "    }\n",
       "</style>\n",
       "<table border=\"1\" class=\"dataframe\">\n",
       "  <thead>\n",
       "    <tr style=\"text-align: right;\">\n",
       "      <th></th>\n",
       "      <th>ENSG00000000003</th>\n",
       "      <th>ENSG00000000005</th>\n",
       "      <th>ENSG00000000419</th>\n",
       "      <th>ENSG00000000457</th>\n",
       "      <th>ENSG00000000460</th>\n",
       "    </tr>\n",
       "  </thead>\n",
       "  <tbody>\n",
       "    <tr>\n",
       "      <td>TCGA-G5-6233-01A</td>\n",
       "      <td>30.212803</td>\n",
       "      <td>0.063489</td>\n",
       "      <td>87.317567</td>\n",
       "      <td>6.237288</td>\n",
       "      <td>5.518520</td>\n",
       "    </tr>\n",
       "    <tr>\n",
       "      <td>TCGA-AG-4021-01A</td>\n",
       "      <td>80.356975</td>\n",
       "      <td>3.621759</td>\n",
       "      <td>48.649980</td>\n",
       "      <td>8.770929</td>\n",
       "      <td>8.975365</td>\n",
       "    </tr>\n",
       "    <tr>\n",
       "      <td>TCGA-EI-6514-01A</td>\n",
       "      <td>142.160017</td>\n",
       "      <td>2.460405</td>\n",
       "      <td>82.308962</td>\n",
       "      <td>4.144567</td>\n",
       "      <td>3.251904</td>\n",
       "    </tr>\n",
       "    <tr>\n",
       "      <td>TCGA-AG-3725-01A</td>\n",
       "      <td>81.611032</td>\n",
       "      <td>4.730710</td>\n",
       "      <td>56.783610</td>\n",
       "      <td>4.896992</td>\n",
       "      <td>4.208633</td>\n",
       "    </tr>\n",
       "    <tr>\n",
       "      <td>TCGA-AG-3725-11A</td>\n",
       "      <td>78.390851</td>\n",
       "      <td>1.037580</td>\n",
       "      <td>51.193885</td>\n",
       "      <td>6.455982</td>\n",
       "      <td>2.212233</td>\n",
       "    </tr>\n",
       "  </tbody>\n",
       "</table>\n",
       "</div>"
      ],
      "text/plain": [
       "                  ENSG00000000003  ENSG00000000005  ENSG00000000419  \\\n",
       "TCGA-G5-6233-01A        30.212803         0.063489        87.317567   \n",
       "TCGA-AG-4021-01A        80.356975         3.621759        48.649980   \n",
       "TCGA-EI-6514-01A       142.160017         2.460405        82.308962   \n",
       "TCGA-AG-3725-01A        81.611032         4.730710        56.783610   \n",
       "TCGA-AG-3725-11A        78.390851         1.037580        51.193885   \n",
       "\n",
       "                  ENSG00000000457  ENSG00000000460  \n",
       "TCGA-G5-6233-01A         6.237288         5.518520  \n",
       "TCGA-AG-4021-01A         8.770929         8.975365  \n",
       "TCGA-EI-6514-01A         4.144567         3.251904  \n",
       "TCGA-AG-3725-01A         4.896992         4.208633  \n",
       "TCGA-AG-3725-11A         6.455982         2.212233  "
      ]
     },
     "execution_count": 4,
     "metadata": {},
     "output_type": "execute_result"
    }
   ],
   "source": [
    "samples.iloc[:5,:5]"
   ]
  },
  {
   "cell_type": "markdown",
   "metadata": {},
   "source": [
    "Take a quick look to see the top expressing samples for the gene `ENSG00000000003`"
   ]
  },
  {
   "cell_type": "code",
   "execution_count": 5,
   "metadata": {},
   "outputs": [
    {
     "data": {
      "text/plain": [
       "TCGA-DC-5869-01A    281.005900\n",
       "TCGA-DC-6683-01A    258.010380\n",
       "TCGA-AF-3913-01A    254.599210\n",
       "TCGA-EF-5831-01A    253.774315\n",
       "TCGA-DC-6157-01A    251.170374\n",
       "Name: ENSG00000000003, dtype: float64"
      ]
     },
     "execution_count": 5,
     "metadata": {},
     "output_type": "execute_result"
    }
   ],
   "source": [
    "samples[\"ENSG00000000003\"].sort_values(ascending=False).head()"
   ]
  },
  {
   "cell_type": "code",
   "execution_count": 6,
   "metadata": {},
   "outputs": [
    {
     "data": {
      "text/plain": [
       "<matplotlib.axes._subplots.AxesSubplot at 0x11ceef450>"
      ]
     },
     "execution_count": 6,
     "metadata": {},
     "output_type": "execute_result"
    },
    {
     "data": {
      "image/png": "[encoded data removed]",
      "text/plain": [
       "<Figure size 432x288 with 1 Axes>"
      ]
     },
     "metadata": {},
     "output_type": "display_data"
    }
   ],
   "source": [
    "sns.kdeplot(samples['ENSG00000000003'], color=\"g\")"
   ]
  },
  {
   "cell_type": "code",
   "execution_count": null,
   "metadata": {},
   "outputs": [],
   "source": []
  }
 ],
 "metadata": {
  "kernelspec": {
   "display_name": "Python 3",
   "language": "python",
   "name": "python3"
  },
  "language_info": {
   "codemirror_mode": {
    "name": "ipython",
    "version": 3
   },
   "file_extension": ".py",
   "mimetype": "text/x-python",
   "name": "python",
   "nbconvert_exporter": "python",
   "pygments_lexer": "ipython3",
   "version": "3.7.6"
  }
 },
 "nbformat": 4,
 "nbformat_minor": 2
}
