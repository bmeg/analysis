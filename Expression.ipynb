{
 "cells": [
  {
   "cell_type": "raw",
   "metadata": {},
   "source": [
    "---\n",
    "title: Expression Data\n",
    "authors:\n",
    "- kellrott\n",
    "tags:\n",
    "- ccle\n",
    "- drug response\n",
    "created_at: 2018-05-09\n",
    "updated_at: 2018-05-09\n",
    "tldr: Build a pandas matrix of expression data\n",
    "---"
   ]
  },
  {
   "cell_type": "code",
   "execution_count": 2,
   "metadata": {},
   "outputs": [],
   "source": [
    "import pandas\n",
    "import gripql\n",
    "conn = gripql.Connection(\"http://grip.compbio.ohsu.edu\")\n",
    "O = conn.graph(\"bmeg_rc1_2\")"
   ]
  },
  {
   "cell_type": "markdown",
   "metadata": {},
   "source": [
    "## Download gene expression values from TCGA-READ cohort and build matrix with submitter id as label"
   ]
  },
  {
   "cell_type": "code",
   "execution_count": 3,
   "metadata": {},
   "outputs": [
    {
     "name": "stderr",
     "output_type": "stream",
     "text": [
      "[INFO]\t2019-03-05 12:34:10,640\t177 results received in 33 seconds\n"
     ]
    }
   ],
   "source": [
    "c = O.query().V(\"Project:TCGA-READ\").in_(\"InProject\").in_(\"SampleFor\").as_(\"sample\")\n",
    "c = c.in_(\"AliquotFor\").in_(\"GeneExpressionOf\").as_(\"exp\")\n",
    "c = c.render( [\"$sample._data.gdc_attributes.submitter_id\", \"$exp._data.values\"])\n",
    "data = {}\n",
    "for row in c.execute(stream=True):\n",
    "    data[row[0]] = row[1]\n",
    "samples = pandas.DataFrame(data).transpose().fillna(0.0)"
   ]
  },
  {
   "cell_type": "code",
   "execution_count": 6,
   "metadata": {},
   "outputs": [
    {
     "data": {
      "text/plain": [
       "TCGA-AF-A56N-01A    121.814080\n",
       "TCGA-AF-6655-01A    115.784470\n",
       "TCGA-AG-3584-01A     68.075530\n",
       "TCGA-AG-4021-01A     76.315404\n",
       "TCGA-AG-3602-01A    149.292850\n",
       "TCGA-AG-4015-01A    144.383820\n",
       "TCGA-DC-6154-01A    198.705750\n",
       "TCGA-DY-A1DG-01A     91.135477\n",
       "TCGA-F5-6571-01A     68.264725\n",
       "TCGA-AG-3885-01A     23.977357\n",
       "TCGA-AG-A02G-01A    109.893070\n",
       "TCGA-EI-6507-01A     24.978050\n",
       "TCGA-AG-A016-01A     57.055670\n",
       "TCGA-AH-6549-01A     79.102460\n",
       "TCGA-EI-6917-01A     35.480240\n",
       "TCGA-AH-6897-01A    119.721760\n",
       "TCGA-F5-6861-01A     61.498415\n",
       "TCGA-AG-3582-01A    212.158210\n",
       "TCGA-AG-3909-01A     84.553668\n",
       "TCGA-AG-3600-01A     50.407649\n",
       "TCGA-AG-3732-11A     46.770179\n",
       "TCGA-AG-3732-01A     89.309673\n",
       "TCGA-AG-3894-01A     81.334448\n",
       "TCGA-DC-4745-01A    126.200510\n",
       "TCGA-EF-5830-01A    107.157133\n",
       "TCGA-AH-6644-01A    114.694460\n",
       "TCGA-CI-6619-01B     70.996527\n",
       "TCGA-AF-6136-01A     90.418270\n",
       "TCGA-AG-A014-01A     65.825818\n",
       "TCGA-CI-6622-01A     91.304080\n",
       "                       ...    \n",
       "TCGA-DC-6157-01A    238.577380\n",
       "TCGA-F5-6702-01A    131.229660\n",
       "TCGA-AG-A02X-01A     27.554430\n",
       "TCGA-CI-6621-01A     94.811930\n",
       "TCGA-AG-3578-01A     50.730529\n",
       "TCGA-EI-6883-01A     69.266780\n",
       "TCGA-AG-3580-01A     81.587024\n",
       "TCGA-AG-A023-01A    117.490870\n",
       "TCGA-DY-A0XA-01A    129.798320\n",
       "TCGA-AF-6672-01A     69.238120\n",
       "TCGA-AG-3902-01A     44.422523\n",
       "TCGA-AF-5654-01A    101.475331\n",
       "TCGA-AF-5654-11A     75.733573\n",
       "TCGA-EI-6885-01A    123.452640\n",
       "TCGA-G5-6641-01A     68.610776\n",
       "TCGA-AG-A020-01A     68.978676\n",
       "TCGA-AF-4110-01A     63.816002\n",
       "TCGA-DC-6156-01A     99.719176\n",
       "TCGA-AG-3608-01A    110.437916\n",
       "TCGA-AG-A01L-01A     69.184040\n",
       "TCGA-AG-3593-01A     97.519640\n",
       "TCGA-DC-6158-01A    205.319220\n",
       "TCGA-AG-3892-01A     61.560723\n",
       "TCGA-AG-A00Y-01A     71.117058\n",
       "TCGA-AG-A00H-01A     81.571808\n",
       "TCGA-AF-2692-01A    114.603420\n",
       "TCGA-AF-2692-11A     57.313690\n",
       "TCGA-AG-3893-01A    239.065593\n",
       "TCGA-AG-A025-01A     72.399533\n",
       "TCGA-CI-6623-01B    121.638317\n",
       "Name: ENSG00000000003, Length: 177, dtype: float64"
      ]
     },
     "execution_count": 6,
     "metadata": {},
     "output_type": "execute_result"
    }
   ],
   "source": [
    "samples[\"ENSG00000000003\"]"
   ]
  },
  {
   "cell_type": "code",
   "execution_count": null,
   "metadata": {},
   "outputs": [],
   "source": []
  }
 ],
 "metadata": {
  "kernelspec": {
   "display_name": "Python 3",
   "language": "python",
   "name": "python3"
  },
  "language_info": {
   "codemirror_mode": {
    "name": "ipython",
    "version": 3
   },
   "file_extension": ".py",
   "mimetype": "text/x-python",
   "name": "python",
   "nbconvert_exporter": "python",
   "pygments_lexer": "ipython3",
   "version": "3.7.2"
  }
 },
 "nbformat": 4,
 "nbformat_minor": 2
}
