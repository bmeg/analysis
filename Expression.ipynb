{
 "cells": [
  {
   "cell_type": "raw",
   "metadata": {},
   "source": [
    "---\n",
    "title: Expression Data\n",
    "weight: 70\n",
    "authors:\n",
    "- kellrott\n",
    "tags:\n",
    "- tcga\n",
    "- gene expression\n",
    "created_at: 2018-05-09\n",
    "updated_at: 2018-05-09\n",
    "tldr: Build a pandas matrix of expression data\n",
    "---"
   ]
  },
  {
   "cell_type": "code",
   "execution_count": 1,
   "metadata": {},
   "outputs": [],
   "source": [
    "import seaborn as sns\n",
    "import pandas\n",
    "import gripql\n",
    "conn = gripql.Connection(\"https://bmeg.io/api\", credential_file=\"bmeg_credentials.json\")\n",
    "O = conn.graph(\"bmeg_rc2\")"
   ]
  },
  {
   "cell_type": "markdown",
   "metadata": {},
   "source": [
    "Download gene expression values from TCGA-READ cohort and build matrix with submitter id as label"
   ]
  },
  {
   "cell_type": "code",
   "execution_count": 2,
   "metadata": {},
   "outputs": [
    {
     "name": "stderr",
     "output_type": "stream",
     "text": [
      "[INFO]\t2019-07-26 18:25:17,143\t177 results received in 34 seconds\n"
     ]
    }
   ],
   "source": [
    "c = O.query().V(\"Project:TCGA-READ\").out(\"cases\").out(\"samples\").as_(\"sample\")\n",
    "c = c.out(\"aliquots\").out(\"gene_expressions\").as_(\"exp\")\n",
    "c = c.render( [\"$sample._data.gdc_attributes.submitter_id\", \"$exp._data.values\"])\n",
    "\n",
    "data = {}\n",
    "for row in c.execute(stream=True):\n",
    "    data[row[0]] = row[1]"
   ]
  },
  {
   "cell_type": "markdown",
   "metadata": {},
   "source": [
    "Take the data we downloaded and turn it into a Pandas data frame"
   ]
  },
  {
   "cell_type": "code",
   "execution_count": 8,
   "metadata": {},
   "outputs": [],
   "source": [
    "samples = pandas.DataFrame(data).transpose().fillna(0.0)"
   ]
  },
  {
   "cell_type": "markdown",
   "metadata": {},
   "source": [
    "Take a look at the top corner of the dataframe"
   ]
  },
  {
   "cell_type": "code",
   "execution_count": 9,
   "metadata": {},
   "outputs": [
    {
     "data": {
      "text/html": [
       "<div>\n",
       "<style scoped>\n",
       "    .dataframe tbody tr th:only-of-type {\n",
       "        vertical-align: middle;\n",
       "    }\n",
       "\n",
       "    .dataframe tbody tr th {\n",
       "        vertical-align: top;\n",
       "    }\n",
       "\n",
       "    .dataframe thead th {\n",
       "        text-align: right;\n",
       "    }\n",
       "</style>\n",
       "<table border=\"1\" class=\"dataframe\">\n",
       "  <thead>\n",
       "    <tr style=\"text-align: right;\">\n",
       "      <th></th>\n",
       "      <th>ENSG00000000003</th>\n",
       "      <th>ENSG00000000005</th>\n",
       "      <th>ENSG00000000419</th>\n",
       "      <th>ENSG00000000457</th>\n",
       "      <th>ENSG00000000460</th>\n",
       "    </tr>\n",
       "  </thead>\n",
       "  <tbody>\n",
       "    <tr>\n",
       "      <th>TCGA-AG-3883-01A</th>\n",
       "      <td>56.417170</td>\n",
       "      <td>0.532873</td>\n",
       "      <td>25.468040</td>\n",
       "      <td>1.398758</td>\n",
       "      <td>2.519876</td>\n",
       "    </tr>\n",
       "    <tr>\n",
       "      <th>TCGA-DC-6158-01A</th>\n",
       "      <td>213.685187</td>\n",
       "      <td>1.031829</td>\n",
       "      <td>151.992725</td>\n",
       "      <td>7.119824</td>\n",
       "      <td>8.481721</td>\n",
       "    </tr>\n",
       "    <tr>\n",
       "      <th>TCGA-EI-6507-01A</th>\n",
       "      <td>25.749271</td>\n",
       "      <td>0.000000</td>\n",
       "      <td>40.100776</td>\n",
       "      <td>7.127823</td>\n",
       "      <td>6.484232</td>\n",
       "    </tr>\n",
       "    <tr>\n",
       "      <th>TCGA-AF-3913-01A</th>\n",
       "      <td>254.599210</td>\n",
       "      <td>4.348810</td>\n",
       "      <td>119.589229</td>\n",
       "      <td>4.213013</td>\n",
       "      <td>7.268218</td>\n",
       "    </tr>\n",
       "    <tr>\n",
       "      <th>TCGA-EI-6883-01A</th>\n",
       "      <td>75.138424</td>\n",
       "      <td>0.406882</td>\n",
       "      <td>95.234971</td>\n",
       "      <td>5.180626</td>\n",
       "      <td>3.090609</td>\n",
       "    </tr>\n",
       "  </tbody>\n",
       "</table>\n",
       "</div>"
      ],
      "text/plain": [
       "                  ENSG00000000003  ENSG00000000005  ENSG00000000419  \\\n",
       "TCGA-AG-3883-01A        56.417170         0.532873        25.468040   \n",
       "TCGA-DC-6158-01A       213.685187         1.031829       151.992725   \n",
       "TCGA-EI-6507-01A        25.749271         0.000000        40.100776   \n",
       "TCGA-AF-3913-01A       254.599210         4.348810       119.589229   \n",
       "TCGA-EI-6883-01A        75.138424         0.406882        95.234971   \n",
       "\n",
       "                  ENSG00000000457  ENSG00000000460  \n",
       "TCGA-AG-3883-01A         1.398758         2.519876  \n",
       "TCGA-DC-6158-01A         7.119824         8.481721  \n",
       "TCGA-EI-6507-01A         7.127823         6.484232  \n",
       "TCGA-AF-3913-01A         4.213013         7.268218  \n",
       "TCGA-EI-6883-01A         5.180626         3.090609  "
      ]
     },
     "execution_count": 9,
     "metadata": {},
     "output_type": "execute_result"
    }
   ],
   "source": [
    "samples.iloc[:5,:5]"
   ]
  },
  {
   "cell_type": "markdown",
   "metadata": {},
   "source": [
    "Take a quick look to see the top expressing samples for the gene `ENSG00000000003`"
   ]
  },
  {
   "cell_type": "code",
   "execution_count": 3,
   "metadata": {},
   "outputs": [
    {
     "data": {
      "text/plain": [
       "TCGA-DC-5869-01A    281.005900\n",
       "TCGA-DC-6683-01A    258.010380\n",
       "TCGA-AF-3913-01A    254.599210\n",
       "TCGA-EF-5831-01A    253.774315\n",
       "TCGA-DC-6157-01A    251.170374\n",
       "Name: ENSG00000000003, dtype: float64"
      ]
     },
     "execution_count": 3,
     "metadata": {},
     "output_type": "execute_result"
    }
   ],
   "source": [
    "samples[\"ENSG00000000003\"].sort_values(ascending=False).head()"
   ]
  },
  {
   "cell_type": "code",
   "execution_count": 4,
   "metadata": {},
   "outputs": [
    {
     "data": {
      "text/plain": [
       "<matplotlib.axes._subplots.AxesSubplot at 0x7fd0990397b8>"
      ]
     },
     "execution_count": 4,
     "metadata": {},
     "output_type": "execute_result"
    },
    {
     "data": {
      "image/png": "[encoded data removed]",
      "text/plain": [
       "<Figure size 432x288 with 1 Axes>"
      ]
     },
     "metadata": {
      "needs_background": "light"
     },
     "output_type": "display_data"
    }
   ],
   "source": [
    "sns.kdeplot(samples['ENSG00000000003'], color=\"g\")"
   ]
  }
 ],
 "metadata": {
  "kernelspec": {
   "display_name": "Python 3",
   "language": "python",
   "name": "python3"
  },
  "language_info": {
   "codemirror_mode": {
    "name": "ipython",
    "version": 3
   },
   "file_extension": ".py",
   "mimetype": "text/x-python",
   "name": "python",
   "nbconvert_exporter": "python",
   "pygments_lexer": "ipython3",
   "version": "3.7.2"
  }
 },
 "nbformat": 4,
 "nbformat_minor": 2
}
