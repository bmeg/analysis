{
 "cells": [
  {
   "cell_type": "code",
   "execution_count": 1,
   "metadata": {},
   "outputs": [],
   "source": [
    "import pandas\n",
    "import aql\n",
    "conn = aql.Connection(\"http://arachne.compbio.ohsu.edu\")\n",
    "O = conn.graph(\"bmeg\")"
   ]
  },
  {
   "cell_type": "code",
   "execution_count": 8,
   "metadata": {},
   "outputs": [
    {
     "name": "stdout",
     "output_type": "stream",
     "text": [
      "{u'gid': u'variant:GRCh37:1:27100988:27100988:C:C', u'data': {u'end': 27100988, u'id': u'GRCh37:1:27100988:27100988:C:C,T', u'start': 27100988, u'alternateBases': u'C', u'referenceName': u'1', u'referenceGenome': u'GRCh37', u'referenceBases': u'C', u'chromosome': u'1'}, u'label': u'Variant'}\n",
      "{u'gid': u'variant:GRCh37:1:27100988:27100988:C:T', u'data': {u'end': 27100988, u'id': u'GRCh37:1:27100988:27100988:C:C,T', u'start': 27100988, u'alternateBases': u'T', u'referenceName': u'1', u'referenceGenome': u'GRCh37', u'referenceBases': u'C', u'chromosome': u'1'}, u'label': u'Variant'}\n"
     ]
    }
   ],
   "source": [
    "chrom = 1\n",
    "loc = 27100988\n",
    "ids = []\n",
    "for r in ['A', 'C', 'G', 'T']:\n",
    "    for a in ['A', 'C', 'G', 'T']:\n",
    "        ids.append( \"variant:GRCh37:%s:%s:%s:%s:%s\" % (chrom, loc, loc, r, a))\n",
    "for row in O.query().V(ids):\n",
    "    print row"
   ]
  },
  {
   "cell_type": "code",
   "execution_count": null,
   "metadata": {},
   "outputs": [],
   "source": []
  }
 ],
 "metadata": {
  "kernelspec": {
   "display_name": "Python 2",
   "language": "python",
   "name": "python2"
  },
  "language_info": {
   "codemirror_mode": {
    "name": "ipython",
    "version": 2
   },
   "file_extension": ".py",
   "mimetype": "text/x-python",
   "name": "python",
   "nbconvert_exporter": "python",
   "pygments_lexer": "ipython2",
   "version": "2.7.10"
  }
 },
 "nbformat": 4,
 "nbformat_minor": 2
}
