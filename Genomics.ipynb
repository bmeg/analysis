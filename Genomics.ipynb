{
 "cells": [
  {
   "cell_type": "raw",
   "metadata": {},
   "source": [
    "---\n",
    "title: Gene Mutation Hotstops\n",
    "weight: 63\n",
    "authors:\n",
    "- kellrott\n",
    "tags:\n",
    "- ccle\n",
    "- drug response\n",
    "created_at: 2018-05-09\n",
    "updated_at: 2018-05-09\n",
    "tldr: Build a rolling average of mutations for a given gene region\n",
    "---"
   ]
  },
  {
   "cell_type": "markdown",
   "metadata": {},
   "source": [
    "For this example, we will start from a single gene, and identify all mutations that occur on it. "
   ]
  },
  {
   "cell_type": "code",
   "execution_count": 1,
   "metadata": {},
   "outputs": [],
   "source": [
    "import matplotlib.pyplot as plt\n",
    "import pandas\n",
    "import gripql\n",
    "conn = gripql.Connection(\"https://bmeg.io/api\", credential_file=\"bmeg_credentials.json\")\n",
    "O = conn.graph(\"bmeg_rc2\")"
   ]
  },
  {
   "cell_type": "markdown",
   "metadata": {},
   "source": [
    "Get BRCA1 start and stop locations"
   ]
  },
  {
   "cell_type": "code",
   "execution_count": 2,
   "metadata": {},
   "outputs": [
    {
     "name": "stderr",
     "output_type": "stream",
     "text": [
      "[INFO]\t2019-07-26 17:48:09,443\t1 results received in 0 seconds\n"
     ]
    }
   ],
   "source": [
    "loc = list( O.query().V().hasLabel(\"Gene\").has(gripql.eq(\"symbol\", \"BRCA1\")).render([\"$.start\", \"$.end\"]) )[0]"
   ]
  },
  {
   "cell_type": "markdown",
   "metadata": {},
   "source": [
    "Run an aggregation query to count up all the mutations"
   ]
  },
  {
   "cell_type": "code",
   "execution_count": 15,
   "metadata": {},
   "outputs": [
    {
     "name": "stderr",
     "output_type": "stream",
     "text": [
      "[INFO]\t2019-07-26 17:51:52,104\t1 results received in 0 seconds\n"
     ]
    }
   ],
   "source": [
    "counts = [0] * (loc[1]-loc[0])\n",
    "q = O.query().V().hasLabel(\"Gene\").has(gripql.eq(\"symbol\", \"BRCA1\")).out(\"alleles\").has(gripql.eq(\"type\", \"SNP\"))\n",
    "q = q.aggregate(gripql.term(\"brac1_pos\", \"start\"))\n",
    "res = list(q)[0]\n",
    "for v in res.brac1_pos.buckets:\n",
    "    counts[ v['key'] - loc[0] ] = v['value']"
   ]
  },
  {
   "cell_type": "markdown",
   "metadata": {},
   "source": [
    "Save as a dataframe"
   ]
  },
  {
   "cell_type": "code",
   "execution_count": 16,
   "metadata": {},
   "outputs": [],
   "source": [
    "s = pandas.DataFrame(counts)"
   ]
  },
  {
   "cell_type": "markdown",
   "metadata": {},
   "source": [
    "Plot the hotspots"
   ]
  },
  {
   "cell_type": "code",
   "execution_count": 17,
   "metadata": {},
   "outputs": [
    {
     "data": {
      "text/plain": [
       "<matplotlib.axes._subplots.AxesSubplot at 0x7fdf9c6ba6a0>"
      ]
     },
     "execution_count": 17,
     "metadata": {},
     "output_type": "execute_result"
    },
    {
     "data": {
      "image/png": "[encoded data removed]",
      "text/plain": [
       "<Figure size 432x288 with 1 Axes>"
      ]
     },
     "metadata": {
      "needs_background": "light"
     },
     "output_type": "display_data"
    }
   ],
   "source": [
    "s.rolling(500).sum().plot()"
   ]
  }
 ],
 "metadata": {
  "kernelspec": {
   "display_name": "Python 3",
   "language": "python",
   "name": "python3"
  },
  "language_info": {
   "codemirror_mode": {
    "name": "ipython",
    "version": 3
   },
   "file_extension": ".py",
   "mimetype": "text/x-python",
   "name": "python",
   "nbconvert_exporter": "python",
   "pygments_lexer": "ipython3",
   "version": "3.7.2"
  }
 },
 "nbformat": 4,
 "nbformat_minor": 2
}
