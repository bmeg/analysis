{
 "cells": [
  {
   "cell_type": "raw",
   "metadata": {},
   "source": [
    "---\n",
    "title: TCGA Cohort Mutation Counts\n",
    "path: TCGA\n",
    "authors:\n",
    "- kellrott\n",
    "tags:\n",
    "- tcga\n",
    "- mutations\n",
    "- mc3\n",
    "created_at: 2018-05-09\n",
    "updated_at: 2018-05-09\n",
    "tldr: Find the number of mutations per gene for TCGA cohort\n",
    "---"
   ]
  },
  {
   "cell_type": "code",
   "execution_count": null,
   "metadata": {},
   "outputs": [],
   "source": [
    "import pandas\n",
    "import aql\n",
    "conn = aql.Connection(\"http://arachne.compbio.ohsu.edu\")\n",
    "O = conn.graph(\"bmeg\")"
   ]
  },
  {
   "cell_type": "code",
   "execution_count": null,
   "metadata": {},
   "outputs": [],
   "source": [
    "q = O.query().V().where(aql.eq(\"$.label\", \"Individual\"))\n",
    "q = q.where(aql.and_(aql.eq(\"source\", \"tcga\"), aql.eq(\"disease_code\", \"KIRC\")))\n",
    "q = q.in_(\"sampleOf\").in_(\"callSetOf\").where(aql.eq(\"method\", \"MUTECT\"))\n",
    "q = q.in_(\"variantCall\").out(\"variantIn\")\n",
    "q = q.aggregate(aql.term(\"agg\", \"Gene\", \"symbol\"))\n",
    "\n",
    "res = list(q)\n",
    "for i in res[0]['data']['buckets']:\n",
    "    print i['key'], i['value']\n"
   ]
  },
  {
   "cell_type": "code",
   "execution_count": null,
   "metadata": {},
   "outputs": [],
   "source": []
  }
 ],
 "metadata": {
  "kernelspec": {
   "display_name": "Python 2",
   "language": "python",
   "name": "python2"
  },
  "language_info": {
   "codemirror_mode": {
    "name": "ipython",
    "version": 2
   },
   "file_extension": ".py",
   "mimetype": "text/x-python",
   "name": "python",
   "nbconvert_exporter": "python",
   "pygments_lexer": "ipython2",
   "version": "2.7.10"
  }
 },
 "nbformat": 4,
 "nbformat_minor": 2
}