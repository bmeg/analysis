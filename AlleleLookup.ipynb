{
 "cells": [
  {
   "cell_type": "raw",
   "metadata": {},
   "source": [
    "---\n",
    "title: Allele Lookup\n",
    "weight: 20\n",
    "authors:\n",
    "- kellrott\n",
    "tags:\n",
    "- ccle\n",
    "- drug response\n",
    "created_at: 2018-05-09\n",
    "updated_at: 2018-05-09\n",
    "tldr: Look up an allele\n",
    "---"
   ]
  },
  {
   "cell_type": "code",
   "execution_count": 2,
   "metadata": {},
   "outputs": [],
   "source": [
    "import hashlib\n",
    "import gripql\n",
    "conn = gripql.Connection(\"https://bmeg.io/api\", credential_file=\"bmeg_credentials.json\")\n",
    "O = conn.graph(\"bmeg_rc2\")"
   ]
  },
  {
   "cell_type": "markdown",
   "metadata": {},
   "source": [
    "BMEG stores alleles using a hashed version of the alteration description\n",
    "```\n",
    "genome:chromosome:start:end:reference_bases:alternate_bases\n",
    "```\n",
    "So an example allele would be:\n",
    "```\n",
    "GRCh37:1:27100988:27100988:C:T\n",
    "```\n",
    "Which is then run though a `sha1` hash to get the string\n",
    "```\n",
    "0b0a7a23d57414e768677a6cbd764563922209df\n",
    "```"
   ]
  },
  {
   "cell_type": "code",
   "execution_count": 3,
   "metadata": {},
   "outputs": [],
   "source": [
    "def allele_gid(genome, chromosome, start, end, reference_bases,\n",
    "                 alternate_bases):\n",
    "        vid = \"%s:%s:%d:%d:%s:%s\" % (genome, chromosome,\n",
    "                                     start, end, reference_bases,\n",
    "                                     alternate_bases)\n",
    "        vid = vid.encode('utf-8')\n",
    "        vidhash = hashlib.sha1()\n",
    "        vidhash.update(vid)\n",
    "        vidhash = vidhash.hexdigest()\n",
    "        return \"Allele:%s\" % (vidhash)"
   ]
  },
  {
   "cell_type": "code",
   "execution_count": 4,
   "metadata": {},
   "outputs": [
    {
     "name": "stderr",
     "output_type": "stream",
     "text": [
      "[INFO]\t2019-07-24 17:12:10,693\t1 results received in 0 seconds\n"
     ]
    },
    {
     "name": "stdout",
     "output_type": "stream",
     "text": [
      "<AttrDict({'gid': 'Allele:0b0a7a23d57414e768677a6cbd764563922209df', 'label': 'Allele', 'data': {'alternate_bases': 'T', 'chromosome': '1', 'dbSNP_RS': '.', 'effect': 'Nonsense_Mutation', 'end': 27100988, 'ensembl_transcript': 'ENST00000324856', 'genome': 'GRCh37', 'hugo_symbol': 'ARID1A', 'project_id': 'Project:Reference', 'reference_bases': 'C', 'start': 27100988, 'strand': '+', 'submitter_id': '0b0a7a23d57414e768677a6cbd764563922209df', 'type': 'SNP'}})>\n"
     ]
    }
   ],
   "source": [
    "chrom = 1\n",
    "loc = 27100988\n",
    "ids = []\n",
    "for r in ['A', 'C', 'G', 'T']:\n",
    "    for a in ['A', 'C', 'G', 'T']:\n",
    "        ids.append( allele_gid(\"GRCh37\", chrom, loc, loc, r, a) )\n",
    "for row in O.query().V(ids):\n",
    "    print( row )"
   ]
  }
 ],
 "metadata": {
  "kernelspec": {
   "display_name": "Python 3",
   "language": "python",
   "name": "python3"
  },
  "language_info": {
   "codemirror_mode": {
    "name": "ipython",
    "version": 3
   },
   "file_extension": ".py",
   "mimetype": "text/x-python",
   "name": "python",
   "nbconvert_exporter": "python",
   "pygments_lexer": "ipython3",
   "version": "3.7.2"
  }
 },
 "nbformat": 4,
 "nbformat_minor": 2
}
