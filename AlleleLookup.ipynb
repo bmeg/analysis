{
 "cells": [
  {
   "cell_type": "raw",
   "metadata": {},
   "source": [
    "---\n",
    "title: Allele Lookup\n",
    "weight: 20\n",
    "authors:\n",
    "- kellrott\n",
    "- adamstruck\n",
    "tags:\n",
    "- ccle\n",
    "- drug response\n",
    "created_at: 2018-05-09\n",
    "updated_at: 2020-01-14\n",
    "tldr: Look up an allele\n",
    "---"
   ]
  },
  {
   "cell_type": "code",
   "execution_count": 2,
   "metadata": {},
   "outputs": [],
   "source": [
    "import hashlib\n",
    "import gripql\n",
    "conn = gripql.Connection(\"https://bmeg.io/api\", credential_file=\"bmeg_credentials.json\")\n",
    "G = conn.graph(\"rc5\")"
   ]
  },
  {
   "cell_type": "markdown",
   "metadata": {},
   "source": [
    "BMEG stores alleles using a hashed version of the alteration description\n",
    "```\n",
    "genome:chromosome:start:reference_bases:alternate_bases\n",
    "```\n",
    "So an example allele would be:\n",
    "```\n",
    "GRCh37:1:27100988:C:T\n",
    "```\n",
    "Which is then run though a `sha1` hash to get the string\n",
    "```\n",
    "0b0a7a23d57414e768677a6cbd764563922209df\n",
    "```"
   ]
  },
  {
   "cell_type": "code",
   "execution_count": 6,
   "metadata": {},
   "outputs": [],
   "source": [
    "def allele_gid(genome: str, chromosome: str, start: int,\n",
    "               reference_bases: str, alternate_bases: str):\n",
    "\n",
    "    if not all(v is not None for v in [genome, chromosome, start,\n",
    "                                       reference_bases, alternate_bases]):\n",
    "        raise ValueError(\"one or more args was None\")\n",
    "\n",
    "    start = int(start)\n",
    "    if reference_bases == \"-\" or alternate_bases == \"-\":\n",
    "        pass\n",
    "    elif reference_bases[0] != alternate_bases[0]:\n",
    "        pass\n",
    "    elif len(reference_bases) > len(alternate_bases):\n",
    "        common = os.path.commonprefix([reference_bases, alternate_bases])\n",
    "        reference_bases = reference_bases[len(common):]\n",
    "        if len(alternate_bases) == len(common):\n",
    "            alternate_bases = \"-\"\n",
    "        else:\n",
    "            alternate_bases = alternate_bases[len(common):]\n",
    "        start += len(common)\n",
    "    elif len(reference_bases) < len(alternate_bases):\n",
    "        common = os.path.commonprefix([reference_bases, alternate_bases])\n",
    "        alternate_bases = alternate_bases[len(common):]\n",
    "        if len(reference_bases) == len(common):\n",
    "            reference_bases = \"-\"\n",
    "        else:\n",
    "            reference_bases = reference_bases[len(common):]\n",
    "\n",
    "    vid = \"{}:{}:{}:{}:{}\".format(genome, chromosome, start, reference_bases, alternate_bases)\n",
    "    vid = vid.encode('utf-8')\n",
    "    vidhash = hashlib.sha1()\n",
    "    vidhash.update(vid)\n",
    "    vidhash = vidhash.hexdigest()\n",
    "    return \"Allele:{}\".format(vidhash)"
   ]
  },
  {
   "cell_type": "code",
   "execution_count": 8,
   "metadata": {},
   "outputs": [
    {
     "name": "stderr",
     "output_type": "stream",
     "text": [
      "[INFO]\t2020-01-14 13:28:17,360\t1 results received in 0 seconds\n"
     ]
    },
    {
     "name": "stdout",
     "output_type": "stream",
     "text": [
      "<AttrDict({'gid': 'Allele:a457a505c1551c4dbd936cddb388b021422bc0bc', 'label': 'Allele', 'data': {'all_effects': 'ARID1A,stop_gained,p.Gln1424Ter,ENST00000324856,NM_006015.4;ARID1A,stop_gained,p.Gln1041Ter,ENST00000374152,;ARID1A,stop_gained,p.Gln321Ter,ENST00000430799,;ARID1A,intron_variant,,ENST00000457599,NM_139135.2;ARID1A,intron_variant,,ENST00000540690,;ARID1A,intron_variant,,ENST00000466382,;ARID1A,upstream_gene_variant,,ENST00000532781,;', 'alternate_bases': 'T', 'amino_acids': 'Q/*', 'biotype': 'protein_coding', 'cdna_position': '4641/8577', 'cds_position': '4270/6858', 'chromosome': '1', 'codons': 'Cag/Tag', 'end': 27100988, 'ensembl_gene': 'ENSG00000117713', 'ensembl_protein': 'ENSP00000320485', 'ensembl_transcript': 'ENST00000324856', 'exon_number': '18/20', 'genome': 'GRCh37', 'hgnc_id': '11110', 'hgvsc': 'c.4270C>T', 'hgvsp': 'p.Gln1424Ter', 'hgvsp_short': 'p.Q1424*', 'hugo_symbol': 'ARID1A', 'impact': 'HIGH', 'project_id': 'Project:Reference', 'protein_position': '1424/2285', 'reference_bases': 'C', 'start': 27100988, 'strand': '+', 'submitter_id': None, 'variant_classification': 'Nonsense_Mutation', 'variant_type': 'SNP'}})>\n"
     ]
    }
   ],
   "source": [
    "chrom = 1\n",
    "loc = 27100988\n",
    "ids = []\n",
    "for r in ['A', 'C', 'G', 'T']:\n",
    "    for a in ['A', 'C', 'G', 'T']:\n",
    "        ids.append( allele_gid(\"GRCh37\", chrom, loc, r, a) )\n",
    "for row in G.query().V(ids):\n",
    "    print( row )"
   ]
  }
 ],
 "metadata": {
  "kernelspec": {
   "display_name": "Python 3",
   "language": "python",
   "name": "python3"
  },
  "language_info": {
   "codemirror_mode": {
    "name": "ipython",
    "version": 3
   },
   "file_extension": ".py",
   "mimetype": "text/x-python",
   "name": "python",
   "nbconvert_exporter": "python",
   "pygments_lexer": "ipython3",
   "version": "3.7.6"
  }
 },
 "nbformat": 4,
 "nbformat_minor": 2
}
