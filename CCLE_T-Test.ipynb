{
 "cells": [
  {
   "cell_type": "raw",
   "metadata": {},
   "source": [
    "---\n",
    "title: Drug Response\n",
    "path: CCLE/t-test\n",
    "authors:\n",
    "- kellrott\n",
    "tags:\n",
    "- ccle\n",
    "- drug response\n",
    "created_at: 2018-05-09\n",
    "updated_at: 2018-05-09\n",
    "tldr: Identify drug response seperation for CCLE cohorts defined by gene mutation\n",
    "---"
   ]
  },
  {
   "cell_type": "code",
   "execution_count": 1,
   "metadata": {},
   "outputs": [],
   "source": [
    "import pandas\n",
    "import gripql\n",
    "import itertools\n",
    "import scipy.stats as stats\n",
    "\n",
    "conn = gripql.Connection(\"https://bmeg.io/api\", credential_file=\"bmeg_credentials.json\")\n",
    "O = conn.graph(\"bmeg_rc2\")"
   ]
  },
  {
   "cell_type": "markdown",
   "metadata": {},
   "source": [
    "Find all of the samples in the [CTRP](https://portals.broadinstitute.org/ctrp/) Breast Cancer experiment"
   ]
  },
  {
   "cell_type": "code",
   "execution_count": 2,
   "metadata": {},
   "outputs": [
    {
     "name": "stderr",
     "output_type": "stream",
     "text": [
      "[INFO]\t2019-07-26 20:29:14,278\t40 results received in 0 seconds\n"
     ]
    }
   ],
   "source": [
    "q = O.query().V(\"Project:CTRP_Breast_Cancer\").out(\"cases\").distinct(\"_gid\")\n",
    "all_cases = []\n",
    "for row in q:\n",
    "    all_cases.append(row.gid)"
   ]
  },
  {
   "cell_type": "markdown",
   "metadata": {},
   "source": [
    "For the genes of interest, get Ensembl gene ids, from the HUGO symbols"
   ]
  },
  {
   "cell_type": "code",
   "execution_count": 3,
   "metadata": {},
   "outputs": [],
   "source": [
    "GENES = [\"PTEN\", \"TP53\"]"
   ]
  },
  {
   "cell_type": "code",
   "execution_count": 4,
   "metadata": {},
   "outputs": [
    {
     "name": "stderr",
     "output_type": "stream",
     "text": [
      "[INFO]\t2019-07-26 20:29:14,423\t2 results received in 0 seconds\n"
     ]
    }
   ],
   "source": [
    "gene_ids = {}\n",
    "for i in O.query().V().hasLabel(\"Gene\").has(gripql.within(\"symbol\", GENES)):\n",
    "    gene_ids[i.data.symbol] = i.gid"
   ]
  },
  {
   "cell_type": "markdown",
   "metadata": {},
   "source": [
    "The CTRP doesn't have direct mutation calling, but rather they used the same cell lines as the CCLE, and we can use the mutation calls from that project. So use the `same_as` edge to identify the cases from CCLE that are the same as the ones in CTRP. Then use the mutations from those samples."
   ]
  },
  {
   "cell_type": "code",
   "execution_count": 5,
   "metadata": {},
   "outputs": [
    {
     "data": {
      "text/plain": [
       "{'PTEN': 'ENSG00000171862', 'TP53': 'ENSG00000141510'}"
      ]
     },
     "execution_count": 5,
     "metadata": {},
     "output_type": "execute_result"
    }
   ],
   "source": [
    "gene_ids"
   ]
  },
  {
   "cell_type": "markdown",
   "metadata": {},
   "source": [
    "For each of the genes, find the set of samples that have a mutation in that gene"
   ]
  },
  {
   "cell_type": "code",
   "execution_count": 6,
   "metadata": {},
   "outputs": [
    {
     "name": "stderr",
     "output_type": "stream",
     "text": [
      "[INFO]\t2019-07-26 20:29:14,690\t43 results received in 0 seconds\n"
     ]
    },
    {
     "name": "stdout",
     "output_type": "stream",
     "text": [
      "ENSG00000171862 Positive Set: 9\n",
      "ENSG00000171862 Negative Set: 31\n",
      "ENSG00000141510 Positive Set: 29\n",
      "ENSG00000141510 Negative Set: 11\n"
     ]
    }
   ],
   "source": [
    "mut_cases = {}\n",
    "norm_cases = {}\n",
    "\n",
    "q = O.query().V(all_cases).as_(\"ctrp\").out(\"same_as\").has(gripql.eq(\"project_id\", \"Project:CCLE_Breast_Cancer\"))\n",
    "q = q.out(\"samples\").out(\"aliquots\").out(\"somatic_callsets\")\n",
    "q = q.outE(\"alleles\").has(gripql.within(\"ensembl_gene\", list(gene_ids.values())))\n",
    "q = q.render({\"case\" : \"$ctrp._gid\", \"gene\" : \"$._data.ensembl_gene\"})\n",
    "\n",
    "for res in q:\n",
    "    mut_cases[res.gene] = mut_cases.get(res.gene, set()) | set([res.case])\n",
    "\n",
    "#get CCLE samples without mutation\n",
    "for i in gene_ids.values():\n",
    "    norm_cases[i] = list(set(all_cases).difference(mut_cases[i]))\n",
    "\n",
    "    print( \"%s Positive Set: %d\" % (i, len(mut_cases[i])) )\n",
    "    print( \"%s Negative Set: %d\" % (i, len(norm_cases[i])) )\n"
   ]
  },
  {
   "cell_type": "code",
   "execution_count": 7,
   "metadata": {},
   "outputs": [
    {
     "name": "stderr",
     "output_type": "stream",
     "text": [
      "[INFO]\t2019-07-26 20:29:16,035\t3,592 results received in 1 seconds\n",
      "[INFO]\t2019-07-26 20:29:19,540\t12,224 results received in 3 seconds\n"
     ]
    }
   ],
   "source": [
    "pos_response = {}\n",
    "for g in gene_ids.values():\n",
    "    pos_response[g] = {}\n",
    "    q = O.query().V(list(mut_cases[g])).as_(\"a\").out(\"samples\").out(\"aliquots\")\n",
    "    q = q.out(\"drug_response\").as_(\"a\").out(\"compounds\").as_(\"b\")\n",
    "    q = q.select([\"a\", \"b\"])    \n",
    "    for row in q:\n",
    "        v = row['a']['data']['auc']\n",
    "        compound = row['b']['gid']\n",
    "        if compound not in pos_response[g]:\n",
    "            pos_response[g][compound] = [ v ]\n",
    "        else:\n",
    "            pos_response[g][compound].append(v)\n",
    "   "
   ]
  },
  {
   "cell_type": "code",
   "execution_count": 8,
   "metadata": {},
   "outputs": [
    {
     "name": "stderr",
     "output_type": "stream",
     "text": [
      "[INFO]\t2019-07-26 20:29:23,489\t13,250 results received in 3 seconds\n",
      "[INFO]\t2019-07-26 20:29:25,137\t4,618 results received in 1 seconds\n"
     ]
    }
   ],
   "source": [
    "neg_response = {}\n",
    "for g in gene_ids.values():\n",
    "    neg_response[g] = {}\n",
    "    q = O.query().V(list(norm_cases[g])).as_(\"a\").out(\"samples\").out(\"aliquots\")\n",
    "    q = q.out(\"drug_response\").as_(\"a\").out(\"compounds\").as_(\"b\")\n",
    "    q = q.select([\"a\", \"b\"])    \n",
    "    for row in q:\n",
    "        v = row['a']['data']['auc']\n",
    "        compound = row['b']['gid']\n",
    "        if compound not in neg_response[g]:\n",
    "            neg_response[g][compound] = [ v ]\n",
    "        else:\n",
    "            neg_response[g][compound].append(v)\n",
    "   "
   ]
  },
  {
   "cell_type": "code",
   "execution_count": 9,
   "metadata": {},
   "outputs": [],
   "source": [
    "drugs = set(itertools.chain.from_iterable( i.keys() for i in pos_response.values() ))\n",
    "out = []\n",
    "for drug in drugs:\n",
    "    for g in gene_ids.values():\n",
    "        if drug in pos_response[g] and drug in neg_response[g]:\n",
    "            row = {\"drug\" : drug, \"mutation\" : g}\n",
    "            mut_values = pos_response[g][drug]\n",
    "            norm_values = neg_response[g][drug]\n",
    "            if len(mut_values) > 5 and len(norm_values) > 5:\n",
    "                s = stats.ttest_ind(mut_values, norm_values, equal_var=False)\n",
    "                row[\"t-statistic\"] = s.statistic\n",
    "                row[\"t-pvalue\"] = s.pvalue\n",
    "                s = stats.f_oneway(mut_values, norm_values)\n",
    "                row[\"a-statistic\"] = s.statistic\n",
    "                row[\"a-pvalue\"] = s.pvalue\n",
    "                out.append(row)"
   ]
  },
  {
   "cell_type": "code",
   "execution_count": 11,
   "metadata": {},
   "outputs": [
    {
     "data": {
      "text/html": [
       "<div>\n",
       "<style scoped>\n",
       "    .dataframe tbody tr th:only-of-type {\n",
       "        vertical-align: middle;\n",
       "    }\n",
       "\n",
       "    .dataframe tbody tr th {\n",
       "        vertical-align: top;\n",
       "    }\n",
       "\n",
       "    .dataframe thead th {\n",
       "        text-align: right;\n",
       "    }\n",
       "</style>\n",
       "<table border=\"1\" class=\"dataframe\">\n",
       "  <thead>\n",
       "    <tr style=\"text-align: right;\">\n",
       "      <th></th>\n",
       "      <th>drug</th>\n",
       "      <th>mutation</th>\n",
       "      <th>t-statistic</th>\n",
       "      <th>t-pvalue</th>\n",
       "      <th>a-statistic</th>\n",
       "      <th>a-pvalue</th>\n",
       "    </tr>\n",
       "  </thead>\n",
       "  <tbody>\n",
       "    <tr>\n",
       "      <th>369</th>\n",
       "      <td>Compound:CID9967941</td>\n",
       "      <td>ENSG00000141510</td>\n",
       "      <td>4.098840</td>\n",
       "      <td>0.000438</td>\n",
       "      <td>12.705330</td>\n",
       "      <td>0.001136</td>\n",
       "    </tr>\n",
       "    <tr>\n",
       "      <th>136</th>\n",
       "      <td>Compound:CID11433190</td>\n",
       "      <td>ENSG00000141510</td>\n",
       "      <td>2.941631</td>\n",
       "      <td>0.011004</td>\n",
       "      <td>12.336689</td>\n",
       "      <td>0.001189</td>\n",
       "    </tr>\n",
       "    <tr>\n",
       "      <th>315</th>\n",
       "      <td>Compound:CID56949517</td>\n",
       "      <td>ENSG00000171862</td>\n",
       "      <td>-2.611946</td>\n",
       "      <td>0.041333</td>\n",
       "      <td>13.650130</td>\n",
       "      <td>0.001197</td>\n",
       "    </tr>\n",
       "    <tr>\n",
       "      <th>191</th>\n",
       "      <td>Compound:CID11152667</td>\n",
       "      <td>ENSG00000141510</td>\n",
       "      <td>-3.003887</td>\n",
       "      <td>0.008382</td>\n",
       "      <td>9.205017</td>\n",
       "      <td>0.004602</td>\n",
       "    </tr>\n",
       "    <tr>\n",
       "      <th>41</th>\n",
       "      <td>Compound:NO_ONTOLOGY~BRD-K97651142</td>\n",
       "      <td>ENSG00000141510</td>\n",
       "      <td>2.556805</td>\n",
       "      <td>0.023745</td>\n",
       "      <td>8.381266</td>\n",
       "      <td>0.006489</td>\n",
       "    </tr>\n",
       "    <tr>\n",
       "      <th>44</th>\n",
       "      <td>Compound:CID11609586</td>\n",
       "      <td>ENSG00000171862</td>\n",
       "      <td>-1.952776</td>\n",
       "      <td>0.068235</td>\n",
       "      <td>7.382291</td>\n",
       "      <td>0.008403</td>\n",
       "    </tr>\n",
       "    <tr>\n",
       "      <th>649</th>\n",
       "      <td>Compound:CID52947560</td>\n",
       "      <td>ENSG00000141510</td>\n",
       "      <td>2.319721</td>\n",
       "      <td>0.036225</td>\n",
       "      <td>7.511026</td>\n",
       "      <td>0.009386</td>\n",
       "    </tr>\n",
       "    <tr>\n",
       "      <th>682</th>\n",
       "      <td>Compound:CID46943432</td>\n",
       "      <td>ENSG00000171862</td>\n",
       "      <td>-2.160075</td>\n",
       "      <td>0.055895</td>\n",
       "      <td>7.443883</td>\n",
       "      <td>0.009680</td>\n",
       "    </tr>\n",
       "    <tr>\n",
       "      <th>538</th>\n",
       "      <td>Compound:CID5566</td>\n",
       "      <td>ENSG00000141510</td>\n",
       "      <td>1.736441</td>\n",
       "      <td>0.118978</td>\n",
       "      <td>7.362028</td>\n",
       "      <td>0.010777</td>\n",
       "    </tr>\n",
       "    <tr>\n",
       "      <th>377</th>\n",
       "      <td>Compound:CID31703</td>\n",
       "      <td>ENSG00000171862</td>\n",
       "      <td>-2.835380</td>\n",
       "      <td>0.009463</td>\n",
       "      <td>6.628285</td>\n",
       "      <td>0.012186</td>\n",
       "    </tr>\n",
       "  </tbody>\n",
       "</table>\n",
       "</div>"
      ],
      "text/plain": [
       "                                   drug         mutation  t-statistic  \\\n",
       "369                 Compound:CID9967941  ENSG00000141510     4.098840   \n",
       "136                Compound:CID11433190  ENSG00000141510     2.941631   \n",
       "315                Compound:CID56949517  ENSG00000171862    -2.611946   \n",
       "191                Compound:CID11152667  ENSG00000141510    -3.003887   \n",
       "41   Compound:NO_ONTOLOGY~BRD-K97651142  ENSG00000141510     2.556805   \n",
       "44                 Compound:CID11609586  ENSG00000171862    -1.952776   \n",
       "649                Compound:CID52947560  ENSG00000141510     2.319721   \n",
       "682                Compound:CID46943432  ENSG00000171862    -2.160075   \n",
       "538                    Compound:CID5566  ENSG00000141510     1.736441   \n",
       "377                   Compound:CID31703  ENSG00000171862    -2.835380   \n",
       "\n",
       "     t-pvalue  a-statistic  a-pvalue  \n",
       "369  0.000438    12.705330  0.001136  \n",
       "136  0.011004    12.336689  0.001189  \n",
       "315  0.041333    13.650130  0.001197  \n",
       "191  0.008382     9.205017  0.004602  \n",
       "41   0.023745     8.381266  0.006489  \n",
       "44   0.068235     7.382291  0.008403  \n",
       "649  0.036225     7.511026  0.009386  \n",
       "682  0.055895     7.443883  0.009680  \n",
       "538  0.118978     7.362028  0.010777  \n",
       "377  0.009463     6.628285  0.012186  "
      ]
     },
     "execution_count": 11,
     "metadata": {},
     "output_type": "execute_result"
    }
   ],
   "source": [
    "pandas.DataFrame(out, columns=[\"drug\", \"mutation\", \"t-statistic\", \"t-pvalue\", \"a-statistic\", \"a-pvalue\"]).sort_values(\"a-pvalue\").head(10)"
   ]
  },
  {
   "cell_type": "code",
   "execution_count": null,
   "metadata": {},
   "outputs": [],
   "source": []
  }
 ],
 "metadata": {
  "kernelspec": {
   "display_name": "Python 3",
   "language": "python",
   "name": "python3"
  },
  "language_info": {
   "codemirror_mode": {
    "name": "ipython",
    "version": 3
   },
   "file_extension": ".py",
   "mimetype": "text/x-python",
   "name": "python",
   "nbconvert_exporter": "python",
   "pygments_lexer": "ipython3",
   "version": "3.7.3"
  }
 },
 "nbformat": 4,
 "nbformat_minor": 2
}
