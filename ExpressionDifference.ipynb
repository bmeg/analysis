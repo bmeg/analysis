{
 "cells": [
  {
   "cell_type": "raw",
   "metadata": {},
   "source": [
    "---\n",
    "title: Differential Expression\n",
    "weight: 71\n",
    "authors:\n",
    "- kellrott\n",
    "- adamstruck\n",
    "tags:\n",
    "- TCGA\n",
    "created_at: 2018-05-09\n",
    "updated_at: 2020-01-14\n",
    "tldr: Look at differential expression patterns\n",
    "---"
   ]
  },
  {
   "cell_type": "code",
   "execution_count": 2,
   "metadata": {},
   "outputs": [],
   "source": [
    "import matplotlib.pyplot as plt\n",
    "import seaborn as sns\n",
    "import pandas\n",
    "from scipy.stats import ttest_ind\n",
    "import gripql"
   ]
  },
  {
   "cell_type": "code",
   "execution_count": 3,
   "metadata": {},
   "outputs": [],
   "source": [
    "conn = gripql.Connection(\"https://bmeg.io/api\", credential_file=\"bmeg_credentials.json\")\n",
    "G = conn.graph(\"rc5\")"
   ]
  },
  {
   "cell_type": "markdown",
   "metadata": {},
   "source": [
    "Look at the expression in the [TCGA LUAD project](https://portal.gdc.cancer.gov/projects/TCGA-LUAD)"
   ]
  },
  {
   "cell_type": "code",
   "execution_count": 4,
   "metadata": {},
   "outputs": [],
   "source": [
    "PROJECT=\"Project:TCGA-LUAD\""
   ]
  },
  {
   "cell_type": "markdown",
   "metadata": {},
   "source": [
    "Starting from the TCGA-LUAD project, follow the edges from `Project` -> `Case` -> `Sample` -> `Aliquot` -> `GeneExpression`. At the `Sample` node, we select from `Solid Tissue Normal` so we only pull the normals during this query.\n",
    "\n",
    "Once on the gene expression node, extract the `values`, which hold the gene expression values in a Map[String,Float] format with Ensembl Gene ids as the keys, and the Gene expression TPMs as the values. We then load that into a Pandas data frame, and transpose so that the rows are the sample ids."
   ]
  },
  {
   "cell_type": "code",
   "execution_count": 5,
   "metadata": {},
   "outputs": [
    {
     "name": "stderr",
     "output_type": "stream",
     "text": [
      "[INFO]\t2020-01-14 14:07:38,218\t59 results received in 12 seconds\n"
     ]
    }
   ],
   "source": [
    "c = G.query().V(PROJECT).out(\"cases\").out(\"samples\").as_(\"sample\")\n",
    "c = c.has(gripql.eq(\"gdc_attributes.sample_type\", \"Solid Tissue Normal\"))\n",
    "c = c.out(\"aliquots\").out(\"gene_expressions\").as_(\"exp\")\n",
    "c = c.render( [\"$sample._data.gdc_attributes.submitter_id\", \"$exp._data.values\"])\n",
    "data = {}\n",
    "for row in c.execute(stream=True):\n",
    "    data[row[0]] = row[1]\n",
    "normalDF = pandas.DataFrame(data).transpose()"
   ]
  },
  {
   "cell_type": "markdown",
   "metadata": {},
   "source": [
    "Do the Project to Gene Expression traversal again, but this time only select the tumor samples."
   ]
  },
  {
   "cell_type": "code",
   "execution_count": 6,
   "metadata": {},
   "outputs": [
    {
     "name": "stderr",
     "output_type": "stream",
     "text": [
      "[INFO]\t2020-01-14 14:09:27,596\t539 results received in 107 seconds\n"
     ]
    }
   ],
   "source": [
    "c = G.query().V(PROJECT).out(\"cases\").out(\"samples\").as_(\"sample\")\n",
    "c = c.has(gripql.eq(\"gdc_attributes.sample_type\", \"Primary Tumor\"))\n",
    "c = c.out(\"aliquots\").out(\"gene_expressions\").as_(\"exp\")\n",
    "c = c.render( [\"$sample._data.gdc_attributes.submitter_id\", \"$exp._data.values\"])\n",
    "data = {}\n",
    "for row in c.execute(stream=True):\n",
    "    data[row[0]] = row[1]\n",
    "tumorDF = pandas.DataFrame(data).transpose()"
   ]
  },
  {
   "cell_type": "markdown",
   "metadata": {},
   "source": [
    "For each gene, run t-test to determine the genes with the most differential expression between the tumor and normal sets."
   ]
  },
  {
   "cell_type": "code",
   "execution_count": 7,
   "metadata": {},
   "outputs": [],
   "source": [
    "stats = {}\n",
    "for gene in tumorDF:\n",
    "    s = ttest_ind(tumorDF[gene], normalDF[gene])\n",
    "    stats[gene] = { 'statistic': s.statistic, 'pvalue' : s.pvalue }\n",
    "statsDF = pandas.DataFrame(stats).transpose()"
   ]
  },
  {
   "cell_type": "markdown",
   "metadata": {},
   "source": [
    "Display the results"
   ]
  },
  {
   "cell_type": "code",
   "execution_count": 8,
   "metadata": {},
   "outputs": [
    {
     "data": {
      "text/html": [
       "<div>\n",
       "<style scoped>\n",
       "    .dataframe tbody tr th:only-of-type {\n",
       "        vertical-align: middle;\n",
       "    }\n",
       "\n",
       "    .dataframe tbody tr th {\n",
       "        vertical-align: top;\n",
       "    }\n",
       "\n",
       "    .dataframe thead th {\n",
       "        text-align: right;\n",
       "    }\n",
       "</style>\n",
       "<table border=\"1\" class=\"dataframe\">\n",
       "  <thead>\n",
       "    <tr style=\"text-align: right;\">\n",
       "      <th></th>\n",
       "      <th>statistic</th>\n",
       "      <th>pvalue</th>\n",
       "    </tr>\n",
       "  </thead>\n",
       "  <tbody>\n",
       "    <tr>\n",
       "      <td>ENSG00000168484</td>\n",
       "      <td>-53.356952</td>\n",
       "      <td>6.389050e-227</td>\n",
       "    </tr>\n",
       "    <tr>\n",
       "      <td>ENSG00000135604</td>\n",
       "      <td>-48.643308</td>\n",
       "      <td>9.675744e-208</td>\n",
       "    </tr>\n",
       "    <tr>\n",
       "      <td>ENSG00000204305</td>\n",
       "      <td>-46.262534</td>\n",
       "      <td>1.283753e-197</td>\n",
       "    </tr>\n",
       "    <tr>\n",
       "      <td>ENSG00000114854</td>\n",
       "      <td>-44.158458</td>\n",
       "      <td>2.022993e-188</td>\n",
       "    </tr>\n",
       "    <tr>\n",
       "      <td>ENSG00000022267</td>\n",
       "      <td>-40.822561</td>\n",
       "      <td>2.395204e-173</td>\n",
       "    </tr>\n",
       "  </tbody>\n",
       "</table>\n",
       "</div>"
      ],
      "text/plain": [
       "                 statistic         pvalue\n",
       "ENSG00000168484 -53.356952  6.389050e-227\n",
       "ENSG00000135604 -48.643308  9.675744e-208\n",
       "ENSG00000204305 -46.262534  1.283753e-197\n",
       "ENSG00000114854 -44.158458  2.022993e-188\n",
       "ENSG00000022267 -40.822561  2.395204e-173"
      ]
     },
     "execution_count": 8,
     "metadata": {},
     "output_type": "execute_result"
    }
   ],
   "source": [
    "statsDF[ statsDF['pvalue'] < 0.0001 ].sort_values('statistic').head()"
   ]
  },
  {
   "cell_type": "markdown",
   "metadata": {},
   "source": [
    "Using the top gene from the T-Test experiment (ENSG00000168484), plot the expression of the gene across the tumor and normal samples"
   ]
  },
  {
   "cell_type": "code",
   "execution_count": 9,
   "metadata": {},
   "outputs": [
    {
     "data": {
      "text/plain": [
       "<matplotlib.axes._subplots.AxesSubplot at 0x11677b8d0>"
      ]
     },
     "execution_count": 9,
     "metadata": {},
     "output_type": "execute_result"
    },
    {
     "data": {
      "image/png": "[encoded data removed]",
      "text/plain": [
       "<Figure size 432x288 with 1 Axes>"
      ]
     },
     "metadata": {},
     "output_type": "display_data"
    }
   ],
   "source": [
    "sns.kdeplot(tumorDF['ENSG00000168484'], color=\"r\")\n",
    "sns.kdeplot(normalDF['ENSG00000168484'], color=\"g\")"
   ]
  },
  {
   "cell_type": "markdown",
   "metadata": {},
   "source": [
    "Do a quick search of `ENSG00000168484` to identify the Gene Ontology terms that it is linked to"
   ]
  },
  {
   "cell_type": "code",
   "execution_count": 10,
   "metadata": {},
   "outputs": [
    {
     "name": "stderr",
     "output_type": "stream",
     "text": [
      "[INFO]\t2020-01-14 14:10:14,516\t10 results received in 0 seconds\n"
     ]
    },
    {
     "name": "stdout",
     "output_type": "stream",
     "text": [
      "GeneOntologyTerm:GO:0005515 Interacting selectively and non-covalently with any protein or protein complex (a complex of two or more proteins that may include other nonprotein molecules).\n",
      "GeneOntologyTerm:GO:0005576 The space external to the outermost structure of a cell. For cells without external protective or external encapsulating structures this refers to space outside of the plasma membrane. This term covers the host cell environment outside an intracellular parasite.\n",
      "GeneOntologyTerm:GO:0005615 That part of a multicellular organism outside the cells proper, usually taken to be outside the plasma membranes, and occupied by fluid.\n",
      "GeneOntologyTerm:GO:0005789 The lipid bilayer surrounding the endoplasmic reticulum.\n",
      "GeneOntologyTerm:GO:0007585 The process of gaseous exchange between an organism and its environment. In plants, microorganisms, and many small animals, air or water makes direct contact with the organism's cells or tissue fluids, and the processes of diffusion supply the organism with dioxygen (O2) and remove carbon dioxide (CO2). In larger animals the efficiency of gaseous exchange is improved by specialized respiratory organs, such as lungs and gills, which are ventilated by breathing mechanisms.\n",
      "GeneOntologyTerm:GO:0042599 A membrane-bounded organelle, specialized for the storage and secretion of various substances (surfactant phospholipids, glycoproteins and acid phosphates) which are arranged in the form of tightly packed, concentric, membrane sheets or lamellae. Has some similar properties to, but is distinct from, a lysosome.\n",
      "GeneOntologyTerm:GO:0042802 Interacting selectively and non-covalently with an identical protein or proteins.\n",
      "GeneOntologyTerm:GO:0044267 The chemical reactions and pathways involving a specific protein, rather than of proteins in general, occurring at the level of an individual cell. Includes cellular protein modification.\n",
      "GeneOntologyTerm:GO:0045334 A clathrin-coated, membrane-bounded intracellular vesicle formed by invagination of the plasma membrane around an extracellular substance.\n",
      "GeneOntologyTerm:GO:0097486 The volume enclosed by the outermost membrane of a multivesicular body.\n"
     ]
    }
   ],
   "source": [
    "for row in G.query().V(\"ENSG00000168484\").out(\"gene_ontology_terms\"):\n",
    "    print(row.gid, row.data.definition)"
   ]
  },
  {
   "cell_type": "code",
   "execution_count": null,
   "metadata": {},
   "outputs": [],
   "source": []
  }
 ],
 "metadata": {
  "kernelspec": {
   "display_name": "Python 3",
   "language": "python",
   "name": "python3"
  },
  "language_info": {
   "codemirror_mode": {
    "name": "ipython",
    "version": 3
   },
   "file_extension": ".py",
   "mimetype": "text/x-python",
   "name": "python",
   "nbconvert_exporter": "python",
   "pygments_lexer": "ipython3",
   "version": "3.7.6"
  }
 },
 "nbformat": 4,
 "nbformat_minor": 2
}
